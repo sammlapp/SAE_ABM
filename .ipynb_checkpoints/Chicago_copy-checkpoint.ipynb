{
 "cells": [
  {
   "cell_type": "markdown",
   "metadata": {},
   "source": [
    "# Chicago: \"we makin' cars\"\n",
    "Implement the Formula SAE contectualized design problem from Zurita et al"
   ]
  },
  {
   "cell_type": "markdown",
   "metadata": {},
   "source": [
    "## TO DO: CHECK convexity \n",
    "convergence of agents in space\n",
    "slices in 2d\n",
    "have them only go, downhill they all get to the same solution?\n",
    "sample space in different places, Hessian, compare "
   ]
  },
  {
   "cell_type": "code",
   "execution_count": null,
   "metadata": {},
   "outputs": [],
   "source": []
  },
  {
   "cell_type": "code",
   "execution_count": null,
   "metadata": {},
   "outputs": [],
   "source": []
  },
  {
   "cell_type": "code",
   "execution_count": 1,
   "metadata": {},
   "outputs": [],
   "source": [
    "import numpy as np\n",
    "import pandas as pd\n",
    "from scipy.stats import chi\n",
    "# from opteval import benchmark_func as bf\n",
    "import matplotlib\n",
    "\n",
    "#for server:\n",
    "# matplotlib.use('Agg')\n",
    "\n",
    "#for retina display:\n",
    "%config InlineBackend.figure_format = 'retina'\n",
    "\n",
    "import matplotlib.pyplot as plt\n",
    "import copy\n",
    "import time as timer\n",
    "import threading\n",
    "\n",
    "from multiprocessing import Pool\n",
    "from playsound import playsound\n",
    "# from sklearn import linear_model"
   ]
  },
  {
   "cell_type": "markdown",
   "metadata": {},
   "source": [
    "## Helper Functions"
   ]
  },
  {
   "cell_type": "code",
   "execution_count": 2,
   "metadata": {},
   "outputs": [],
   "source": [
    "def cp(x): #make a copy instead of reference\n",
    "    return copy.deepcopy(x)\n",
    "\n",
    "def isNumber(s):\n",
    "    try:\n",
    "        float(s)\n",
    "        return True\n",
    "    except ValueError:\n",
    "        return False\n",
    "\n",
    "def isNaN(num):\n",
    "    return num != num\n",
    "\n",
    "def mean(x):\n",
    "    return np.mean(x)\n",
    "\n",
    "def norm(x):\n",
    "    return float(np.linalg.norm(x))\n",
    "\n",
    "def dist(x,y):\n",
    "    return np.linalg.norm(np.array(x)-np.array(y))\n",
    "\n",
    "def bounds(x,low,high):\n",
    "    if x > high:\n",
    "        return high\n",
    "    if x < low:\n",
    "        return low\n",
    "    return x"
   ]
  },
  {
   "cell_type": "code",
   "execution_count": 3,
   "metadata": {},
   "outputs": [],
   "source": [
    "def makeAiScore():\n",
    "    ai = np.random.normal(97,17)\n",
    "    ai = bounds(ai, 40,150)\n",
    "    return ai\n",
    "\n",
    "def makeIqScore(): #this IQ ranges from 0 to 1, bc it is basically efficiency\n",
    "    iq = np.random.normal(0.5,0.2)\n",
    "    iq = bounds(iq, 0.1,1.0)\n",
    "    return iq\n",
    "\n",
    "def pickWorseScore(betterScore,worseScore,temperature):\n",
    "    if temperature <=1E-6: #never pick worse answers, and avoid devide by 0\n",
    "        return False\n",
    "    if np.random.uniform(0,1) < np.exp((betterScore-worseScore)/temperature):  #\n",
    "        return True \n",
    "    return False\n",
    "\n",
    "def calculateDecay(steps,T0=1.0,Tf=0.01):\n",
    "    if T0<=Tf or T0<=0: \n",
    "        return 0\n",
    "    return (Tf / float(T0) ) ** (1/steps)\n",
    "  \n",
    "def calculateAgentDecay(agent, steps):\n",
    "    E_N = normalizedE(agent.kai.E)\n",
    "    E_transformed = np.exp((E_N*-1)+3.3)\n",
    "    startEndRatio = bounds(1/E_transformed, 1E-10,1)\n",
    "    T0 = agent.temp\n",
    "    TF = T0 * startEndRatio\n",
    "    return calculateDecay(steps,T0,TF)"
   ]
  },
  {
   "cell_type": "code",
   "execution_count": 4,
   "metadata": {},
   "outputs": [],
   "source": [
    "def chaching():\n",
    "    playsound(\"/Users/samlapp/SAE_ABM/missionComplete.wav\")"
   ]
  },
  {
   "cell_type": "markdown",
   "metadata": {},
   "source": [
    "## constants and params"
   ]
  },
  {
   "cell_type": "code",
   "execution_count": 749,
   "metadata": {},
   "outputs": [],
   "source": [
    "complexSharing = True #if False, shareBasic() is used, eg strictly-greedy one-dimension jump \n",
    "commBonus = 10 #increasing the communication bonus makes successful communication more likely\n",
    "commRange = 180\n",
    "pCommTime = None\n",
    "selfBias = 0 #increasing self bias will make agents choose their solutions more over others\n",
    "startRange = 10\n",
    "nDims = 56\n",
    "\n",
    "SO_STRENGTH = 10\n",
    "RG_STRENGTH = 10\n",
    "TEAM_MEETING_COST = 1 #1 turn\n",
    "\n",
    "VERBOSE = False\n",
    "showViz = False\n",
    "\n",
    "AVG_SPEED = 7.0E-3\n",
    "SD_SPEED = 7.0E-4\n",
    "MIN_SPEED = 1.0E-4\n",
    "AVG_TEMP = 1\n",
    "SD_TEMP = 0.5\n",
    "\n",
    "steps = 500 #0 #100\n",
    "nAgents = 33\n",
    "constructor = carDesigner\n",
    "pComm = 0.2\n",
    "pCommTime = None\n",
    "meetingTimes = steps #have one meeting at the end"
   ]
  },
  {
   "cell_type": "markdown",
   "metadata": {},
   "source": [
    "## Load Table of parameters"
   ]
  },
  {
   "cell_type": "code",
   "execution_count": 6,
   "metadata": {},
   "outputs": [
    {
     "name": "stdout",
     "output_type": "stream",
     "text": [
      "56\n"
     ]
    },
    {
     "data": {
      "text/html": [
       "<div>\n",
       "<style scoped>\n",
       "    .dataframe tbody tr th:only-of-type {\n",
       "        vertical-align: middle;\n",
       "    }\n",
       "\n",
       "    .dataframe tbody tr th {\n",
       "        vertical-align: top;\n",
       "    }\n",
       "\n",
       "    .dataframe thead th {\n",
       "        text-align: right;\n",
       "    }\n",
       "</style>\n",
       "<table border=\"1\" class=\"dataframe\">\n",
       "  <thead>\n",
       "    <tr style=\"text-align: right;\">\n",
       "      <th></th>\n",
       "      <th>Unnamed: 0</th>\n",
       "      <th>name</th>\n",
       "      <th>variable</th>\n",
       "      <th>team</th>\n",
       "      <th>kind</th>\n",
       "      <th>minV</th>\n",
       "      <th>maxV</th>\n",
       "    </tr>\n",
       "  </thead>\n",
       "  <tbody>\n",
       "    <tr>\n",
       "      <th>0</th>\n",
       "      <td>0</td>\n",
       "      <td>rear wing height</td>\n",
       "      <td>hrw</td>\n",
       "      <td>rw</td>\n",
       "      <td>1</td>\n",
       "      <td>0.025</td>\n",
       "      <td>0.7</td>\n",
       "    </tr>\n",
       "    <tr>\n",
       "      <th>1</th>\n",
       "      <td>1</td>\n",
       "      <td>rear wing length</td>\n",
       "      <td>lrw</td>\n",
       "      <td>rw</td>\n",
       "      <td>1</td>\n",
       "      <td>0.05</td>\n",
       "      <td>0.25</td>\n",
       "    </tr>\n",
       "    <tr>\n",
       "      <th>2</th>\n",
       "      <td>2</td>\n",
       "      <td>rear wing width</td>\n",
       "      <td>wrw</td>\n",
       "      <td>rw</td>\n",
       "      <td>1</td>\n",
       "      <td>300</td>\n",
       "      <td>r_track-2*rear_wheel_r</td>\n",
       "    </tr>\n",
       "    <tr>\n",
       "      <th>3</th>\n",
       "      <td>3</td>\n",
       "      <td>rear wing angle of attack</td>\n",
       "      <td>arw</td>\n",
       "      <td>rw</td>\n",
       "      <td>1</td>\n",
       "      <td>0</td>\n",
       "      <td>0.7853981634</td>\n",
       "    </tr>\n",
       "    <tr>\n",
       "      <th>4</th>\n",
       "      <td>5</td>\n",
       "      <td>rear wing y position</td>\n",
       "      <td>yrw</td>\n",
       "      <td>rw</td>\n",
       "      <td>1</td>\n",
       "      <td>.500 + (h_rw)/2</td>\n",
       "      <td>1.200 -  (h_rw)/2</td>\n",
       "    </tr>\n",
       "  </tbody>\n",
       "</table>\n",
       "</div>"
      ],
      "text/plain": [
       "   Unnamed: 0                       name variable team  kind             minV  \\\n",
       "0           0           rear wing height      hrw   rw     1            0.025   \n",
       "1           1           rear wing length      lrw   rw     1             0.05   \n",
       "2           2            rear wing width      wrw   rw     1              300   \n",
       "3           3  rear wing angle of attack      arw   rw     1                0   \n",
       "4           5       rear wing y position      yrw   rw     1  .500 + (h_rw)/2   \n",
       "\n",
       "                     maxV  \n",
       "0                     0.7  \n",
       "1                    0.25  \n",
       "2  r_track-2*rear_wheel_r  \n",
       "3            0.7853981634  \n",
       "4       1.200 -  (h_rw)/2  "
      ]
     },
     "execution_count": 6,
     "metadata": {},
     "output_type": "execute_result"
    }
   ],
   "source": [
    "#FIRST TIME:\n",
    "paramsDF = pd.read_csv(\"./SAE/paramDB.csv\")\n",
    "paramsDF.columns = ['paramID','name','variable','team','kind','minV','maxV','used']\n",
    "# paramsDF.at[3,\"maxV\"] = np.pi/4\n",
    "# paramsDF.at[10,\"maxV\"] = np.pi/4\n",
    "paramsDF.at[17,\"maxV\"] = np.pi /4\n",
    "paramsDF.used = pd.to_numeric(paramsDF.used)\n",
    "paramsDF = paramsDF.drop(columns=[\"paramID\"],axis=1)\n",
    "#remove unused variables... print(len(paramsDF))\n",
    "paramsDF = paramsDF.loc[paramsDF.used > 0 ]\n",
    "paramsDF.to_csv(\"./SAE/paramDBreduced.csv\")\n",
    "paramsDF = pd.read_csv(\"./SAE/paramDBreduced.csv\")\n",
    "print(len(paramsDF))\n",
    "paramsDF = paramsDF.drop([\"used\"],axis=1)\n",
    "paramsDF.head()"
   ]
  },
  {
   "cell_type": "code",
   "execution_count": 7,
   "metadata": {},
   "outputs": [
    {
     "data": {
      "text/html": [
       "<div>\n",
       "<style scoped>\n",
       "    .dataframe tbody tr th:only-of-type {\n",
       "        vertical-align: middle;\n",
       "    }\n",
       "\n",
       "    .dataframe tbody tr th {\n",
       "        vertical-align: top;\n",
       "    }\n",
       "\n",
       "    .dataframe thead th {\n",
       "        text-align: right;\n",
       "    }\n",
       "</style>\n",
       "<table border=\"1\" class=\"dataframe\">\n",
       "  <thead>\n",
       "    <tr style=\"text-align: right;\">\n",
       "      <th></th>\n",
       "      <th>Unnamed: 0</th>\n",
       "      <th>name</th>\n",
       "      <th>variable</th>\n",
       "      <th>team</th>\n",
       "      <th>kind</th>\n",
       "      <th>minV</th>\n",
       "      <th>maxV</th>\n",
       "    </tr>\n",
       "  </thead>\n",
       "  <tbody>\n",
       "    <tr>\n",
       "      <th>15</th>\n",
       "      <td>17</td>\n",
       "      <td>side wings angle of attack</td>\n",
       "      <td>asw</td>\n",
       "      <td>sw</td>\n",
       "      <td>1</td>\n",
       "      <td>0</td>\n",
       "      <td>0.7853981633974483</td>\n",
       "    </tr>\n",
       "  </tbody>\n",
       "</table>\n",
       "</div>"
      ],
      "text/plain": [
       "    Unnamed: 0                        name variable team  kind minV  \\\n",
       "15          17  side wings angle of attack      asw   sw     1    0   \n",
       "\n",
       "                  maxV  \n",
       "15  0.7853981633974483  "
      ]
     },
     "execution_count": 7,
     "metadata": {},
     "output_type": "execute_result"
    }
   ],
   "source": [
    "paramsDF.loc[paramsDF.variable == \"asw\"]"
   ]
  },
  {
   "cell_type": "code",
   "execution_count": 8,
   "metadata": {},
   "outputs": [],
   "source": [
    "#logical vector for parameters with fixed min/max (TRUE), or min/max as f(p) (FALSE)\n",
    "hasNumericBounds = [True if isNumber(row.minV) and isNumber(row.maxV) else False for i, row in paramsDF.iterrows()]"
   ]
  },
  {
   "cell_type": "code",
   "execution_count": 9,
   "metadata": {},
   "outputs": [
    {
     "data": {
      "text/html": [
       "<div>\n",
       "<style scoped>\n",
       "    .dataframe tbody tr th:only-of-type {\n",
       "        vertical-align: middle;\n",
       "    }\n",
       "\n",
       "    .dataframe tbody tr th {\n",
       "        vertical-align: top;\n",
       "    }\n",
       "\n",
       "    .dataframe thead th {\n",
       "        text-align: right;\n",
       "    }\n",
       "</style>\n",
       "<table border=\"1\" class=\"dataframe\">\n",
       "  <thead>\n",
       "    <tr style=\"text-align: right;\">\n",
       "      <th></th>\n",
       "      <th>Unnamed: 0</th>\n",
       "      <th>Material</th>\n",
       "      <th>Code</th>\n",
       "      <th>q</th>\n",
       "      <th>E</th>\n",
       "    </tr>\n",
       "  </thead>\n",
       "  <tbody>\n",
       "    <tr>\n",
       "      <th>0</th>\n",
       "      <td>0</td>\n",
       "      <td>Glass-filled epoxy (35%)</td>\n",
       "      <td>GFE</td>\n",
       "      <td>1890</td>\n",
       "      <td>1900000000</td>\n",
       "    </tr>\n",
       "    <tr>\n",
       "      <th>1</th>\n",
       "      <td>1</td>\n",
       "      <td>Glass-filled polyester (35%)</td>\n",
       "      <td>GFP</td>\n",
       "      <td>1989</td>\n",
       "      <td>2000000000</td>\n",
       "    </tr>\n",
       "    <tr>\n",
       "      <th>2</th>\n",
       "      <td>2</td>\n",
       "      <td>Glass-filled nylon (35%)</td>\n",
       "      <td>GFN</td>\n",
       "      <td>1607</td>\n",
       "      <td>1600000000</td>\n",
       "    </tr>\n",
       "    <tr>\n",
       "      <th>3</th>\n",
       "      <td>3</td>\n",
       "      <td>S-glass epoxy (45%)</td>\n",
       "      <td>SGE</td>\n",
       "      <td>1781</td>\n",
       "      <td>1800000000</td>\n",
       "    </tr>\n",
       "    <tr>\n",
       "      <th>4</th>\n",
       "      <td>4</td>\n",
       "      <td>Carbon epoxy (61%)</td>\n",
       "      <td>CE</td>\n",
       "      <td>1627</td>\n",
       "      <td>1600000000</td>\n",
       "    </tr>\n",
       "  </tbody>\n",
       "</table>\n",
       "</div>"
      ],
      "text/plain": [
       "   Unnamed: 0                      Material Code     q           E\n",
       "0           0      Glass-filled epoxy (35%)  GFE  1890  1900000000\n",
       "1           1  Glass-filled polyester (35%)  GFP  1989  2000000000\n",
       "2           2      Glass-filled nylon (35%)  GFN  1607  1600000000\n",
       "3           3           S-glass epoxy (45%)  SGE  1781  1800000000\n",
       "4           4            Carbon epoxy (61%)   CE  1627  1600000000"
      ]
     },
     "execution_count": 9,
     "metadata": {},
     "output_type": "execute_result"
    }
   ],
   "source": [
    "# materialsDF = pd.read_csv(\"/Users/samlapp/Documents/THRED Lab/SAE/materials.csv\")\n",
    "# materialsDF.q = [int(1 + np.random.uniform(0.98,1.02)*materialsDF.iloc[i]['q']) for i in range(len(materialsDF))]\n",
    "# materialsDF.to_csv(\"/Users/samlapp/Documents/THRED Lab/SAE/materialsTweaked.csv\")\n",
    "materialsDF = pd.read_csv(\"./SAE/materialsTweaked.csv\")\n",
    "materialsDF.head()"
   ]
  },
  {
   "cell_type": "code",
   "execution_count": 10,
   "metadata": {},
   "outputs": [
    {
     "data": {
      "text/html": [
       "<div>\n",
       "<style scoped>\n",
       "    .dataframe tbody tr th:only-of-type {\n",
       "        vertical-align: middle;\n",
       "    }\n",
       "\n",
       "    .dataframe tbody tr th {\n",
       "        vertical-align: top;\n",
       "    }\n",
       "\n",
       "    .dataframe thead th {\n",
       "        text-align: right;\n",
       "    }\n",
       "</style>\n",
       "<table border=\"1\" class=\"dataframe\">\n",
       "  <thead>\n",
       "    <tr style=\"text-align: right;\">\n",
       "      <th></th>\n",
       "      <th>ID</th>\n",
       "      <th>radius</th>\n",
       "      <th>mass</th>\n",
       "    </tr>\n",
       "  </thead>\n",
       "  <tbody>\n",
       "    <tr>\n",
       "      <th>0</th>\n",
       "      <td>T1</td>\n",
       "      <td>0.22860</td>\n",
       "      <td>3.636</td>\n",
       "    </tr>\n",
       "    <tr>\n",
       "      <th>1</th>\n",
       "      <td>T2</td>\n",
       "      <td>0.22987</td>\n",
       "      <td>4.091</td>\n",
       "    </tr>\n",
       "    <tr>\n",
       "      <th>2</th>\n",
       "      <td>T3</td>\n",
       "      <td>0.23241</td>\n",
       "      <td>4.545</td>\n",
       "    </tr>\n",
       "    <tr>\n",
       "      <th>3</th>\n",
       "      <td>T4</td>\n",
       "      <td>0.24638</td>\n",
       "      <td>4.545</td>\n",
       "    </tr>\n",
       "    <tr>\n",
       "      <th>4</th>\n",
       "      <td>T5</td>\n",
       "      <td>0.24765</td>\n",
       "      <td>5.000</td>\n",
       "    </tr>\n",
       "    <tr>\n",
       "      <th>5</th>\n",
       "      <td>T6</td>\n",
       "      <td>0.26670</td>\n",
       "      <td>5.000</td>\n",
       "    </tr>\n",
       "    <tr>\n",
       "      <th>6</th>\n",
       "      <td>T7</td>\n",
       "      <td>0.26670</td>\n",
       "      <td>5.000</td>\n",
       "    </tr>\n",
       "    <tr>\n",
       "      <th>7</th>\n",
       "      <td>T8</td>\n",
       "      <td>0.26162</td>\n",
       "      <td>5.455</td>\n",
       "    </tr>\n",
       "  </tbody>\n",
       "</table>\n",
       "</div>"
      ],
      "text/plain": [
       "   ID   radius   mass\n",
       "0  T1  0.22860  3.636\n",
       "1  T2  0.22987  4.091\n",
       "2  T3  0.23241  4.545\n",
       "3  T4  0.24638  4.545\n",
       "4  T5  0.24765  5.000\n",
       "5  T6  0.26670  5.000\n",
       "6  T7  0.26670  5.000\n",
       "7  T8  0.26162  5.455"
      ]
     },
     "execution_count": 10,
     "metadata": {},
     "output_type": "execute_result"
    }
   ],
   "source": [
    "tiresDF = pd.read_csv(\"./SAE/tires.csv\")\n",
    "tiresDF"
   ]
  },
  {
   "cell_type": "code",
   "execution_count": 1019,
   "metadata": {},
   "outputs": [
    {
     "name": "stdout",
     "output_type": "stream",
     "text": [
      "unique\n"
     ]
    },
    {
     "data": {
      "text/html": [
       "<div>\n",
       "<style scoped>\n",
       "    .dataframe tbody tr th:only-of-type {\n",
       "        vertical-align: middle;\n",
       "    }\n",
       "\n",
       "    .dataframe tbody tr th {\n",
       "        vertical-align: top;\n",
       "    }\n",
       "\n",
       "    .dataframe thead th {\n",
       "        text-align: right;\n",
       "    }\n",
       "</style>\n",
       "<table border=\"1\" class=\"dataframe\">\n",
       "  <thead>\n",
       "    <tr style=\"text-align: right;\">\n",
       "      <th></th>\n",
       "      <th>ind</th>\n",
       "      <th>id</th>\n",
       "      <th>name</th>\n",
       "      <th>le</th>\n",
       "      <th>we</th>\n",
       "      <th>he</th>\n",
       "      <th>me</th>\n",
       "      <th>Phi_e</th>\n",
       "      <th>T_e</th>\n",
       "    </tr>\n",
       "  </thead>\n",
       "  <tbody>\n",
       "    <tr>\n",
       "      <th>0</th>\n",
       "      <td>0</td>\n",
       "      <td>M1</td>\n",
       "      <td>GX200</td>\n",
       "      <td>0.321</td>\n",
       "      <td>0.376</td>\n",
       "      <td>0.346</td>\n",
       "      <td>16.1</td>\n",
       "      <td>4157</td>\n",
       "      <td>12.4</td>\n",
       "    </tr>\n",
       "    <tr>\n",
       "      <th>1</th>\n",
       "      <td>1</td>\n",
       "      <td>M2</td>\n",
       "      <td>GX240</td>\n",
       "      <td>0.380</td>\n",
       "      <td>0.429</td>\n",
       "      <td>0.422</td>\n",
       "      <td>27.5</td>\n",
       "      <td>5980</td>\n",
       "      <td>18.3</td>\n",
       "    </tr>\n",
       "    <tr>\n",
       "      <th>2</th>\n",
       "      <td>2</td>\n",
       "      <td>M3</td>\n",
       "      <td>GX270</td>\n",
       "      <td>0.380</td>\n",
       "      <td>0.429</td>\n",
       "      <td>0.422</td>\n",
       "      <td>25.0</td>\n",
       "      <td>6208</td>\n",
       "      <td>19.1</td>\n",
       "    </tr>\n",
       "    <tr>\n",
       "      <th>3</th>\n",
       "      <td>3</td>\n",
       "      <td>M4</td>\n",
       "      <td>GX340</td>\n",
       "      <td>0.407</td>\n",
       "      <td>0.485</td>\n",
       "      <td>0.449</td>\n",
       "      <td>31.5</td>\n",
       "      <td>7866</td>\n",
       "      <td>26.4</td>\n",
       "    </tr>\n",
       "    <tr>\n",
       "      <th>4</th>\n",
       "      <td>4</td>\n",
       "      <td>M5</td>\n",
       "      <td>GXV340</td>\n",
       "      <td>0.433</td>\n",
       "      <td>0.382</td>\n",
       "      <td>0.406</td>\n",
       "      <td>32.3</td>\n",
       "      <td>6677</td>\n",
       "      <td>21.6</td>\n",
       "    </tr>\n",
       "  </tbody>\n",
       "</table>\n",
       "</div>"
      ],
      "text/plain": [
       "   ind  id    name     le     we     he    me  Phi_e   T_e\n",
       "0    0  M1   GX200  0.321  0.376  0.346  16.1   4157  12.4\n",
       "1    1  M2   GX240  0.380  0.429  0.422  27.5   5980  18.3\n",
       "2    2  M3   GX270  0.380  0.429  0.422  25.0   6208  19.1\n",
       "3    3  M4   GX340  0.407  0.485  0.449  31.5   7866  26.4\n",
       "4    4  M5  GXV340  0.433  0.382  0.406  32.3   6677  21.6"
      ]
     },
     "execution_count": 1019,
     "metadata": {},
     "output_type": "execute_result"
    }
   ],
   "source": [
    "# motorsDF = pd.read_csv(\"/Users/samlapp/Documents/THRED Lab/SAE/motors.csv\")\n",
    "# # first time: we want to make motors with the same power slightly different:\n",
    "# motorsDF.Power = [int(1 + np.random.uniform(0.98,1.02)*motorsDF.iloc[i]['Power']) for i in range(len(motorsDF))]\n",
    "# motorsDF.to_csv(\"/Users/samlapp/Documents/THRED Lab/SAE/motorsTweaked.csv\")\n",
    "enginesDF = pd.read_csv(\"./SAE/motorsTweaked.csv\")\n",
    "print(\"unique\" if len(enginesDF)-len(np.unique(enginesDF.Power)) == 0 else \"not uniuqe\")\n",
    "enginesDF.columns = [\"ind\",\"id\",\"name\",\"le\",\"we\",\"he\",\"me\",\"Phi_e\",\"T_e\"]\n",
    "enginesDF.at[0,'T_e'] = 12.4\n",
    "enginesDF.head()"
   ]
  },
  {
   "cell_type": "code",
   "execution_count": 1020,
   "metadata": {},
   "outputs": [
    {
     "name": "stdout",
     "output_type": "stream",
     "text": [
      "unique\n"
     ]
    },
    {
     "data": {
      "text/html": [
       "<div>\n",
       "<style scoped>\n",
       "    .dataframe tbody tr th:only-of-type {\n",
       "        vertical-align: middle;\n",
       "    }\n",
       "\n",
       "    .dataframe tbody tr th {\n",
       "        vertical-align: top;\n",
       "    }\n",
       "\n",
       "    .dataframe thead th {\n",
       "        text-align: right;\n",
       "    }\n",
       "</style>\n",
       "<table border=\"1\" class=\"dataframe\">\n",
       "  <thead>\n",
       "    <tr style=\"text-align: right;\">\n",
       "      <th></th>\n",
       "      <th>id</th>\n",
       "      <th>krsp</th>\n",
       "      <th>crsp</th>\n",
       "      <th>mrsp</th>\n",
       "      <th>kfsp</th>\n",
       "      <th>cfsp</th>\n",
       "      <th>mfsp</th>\n",
       "    </tr>\n",
       "  </thead>\n",
       "  <tbody>\n",
       "    <tr>\n",
       "      <th>0</th>\n",
       "      <td>S1</td>\n",
       "      <td>3982</td>\n",
       "      <td>600</td>\n",
       "      <td>0.3</td>\n",
       "      <td>3982</td>\n",
       "      <td>600</td>\n",
       "      <td>0.3</td>\n",
       "    </tr>\n",
       "    <tr>\n",
       "      <th>1</th>\n",
       "      <td>S2</td>\n",
       "      <td>21189</td>\n",
       "      <td>2000</td>\n",
       "      <td>0.3</td>\n",
       "      <td>21189</td>\n",
       "      <td>2000</td>\n",
       "      <td>0.3</td>\n",
       "    </tr>\n",
       "    <tr>\n",
       "      <th>2</th>\n",
       "      <td>S3</td>\n",
       "      <td>20784</td>\n",
       "      <td>2000</td>\n",
       "      <td>0.3</td>\n",
       "      <td>20784</td>\n",
       "      <td>2000</td>\n",
       "      <td>0.3</td>\n",
       "    </tr>\n",
       "    <tr>\n",
       "      <th>3</th>\n",
       "      <td>S4</td>\n",
       "      <td>21231</td>\n",
       "      <td>2000</td>\n",
       "      <td>0.3</td>\n",
       "      <td>21231</td>\n",
       "      <td>2000</td>\n",
       "      <td>0.3</td>\n",
       "    </tr>\n",
       "    <tr>\n",
       "      <th>4</th>\n",
       "      <td>S5</td>\n",
       "      <td>20650</td>\n",
       "      <td>2000</td>\n",
       "      <td>0.3</td>\n",
       "      <td>20650</td>\n",
       "      <td>2000</td>\n",
       "      <td>0.3</td>\n",
       "    </tr>\n",
       "  </tbody>\n",
       "</table>\n",
       "</div>"
      ],
      "text/plain": [
       "   id   krsp  crsp  mrsp   kfsp  cfsp  mfsp\n",
       "0  S1   3982   600   0.3   3982   600   0.3\n",
       "1  S2  21189  2000   0.3  21189  2000   0.3\n",
       "2  S3  20784  2000   0.3  20784  2000   0.3\n",
       "3  S4  21231  2000   0.3  21231  2000   0.3\n",
       "4  S5  20650  2000   0.3  20650  2000   0.3"
      ]
     },
     "execution_count": 1020,
     "metadata": {},
     "output_type": "execute_result"
    }
   ],
   "source": [
    "# susDF = pd.read_csv(\"/Users/samlapp/Documents/THRED Lab/SAE/suspension.csv\")\n",
    "# susDF.krsp = [int(np.random.uniform(0.98,1.02)*susDF.iloc[i]['krsp']) for i in range(len(susDF))]\n",
    "# susDF.kfsp = susDF.krsp\n",
    "# susDF.to_csv(\"/Users/samlapp/Documents/THRED Lab/SAE/suspensionTweaked.csv\")\n",
    "susDF = pd.read_csv(\"./SAE/suspensionTweaked.csv\")\n",
    "print(\"unique\" if len(susDF)-len(np.unique(susDF.krsp)) == 0 else \"not uniuqe\")\n",
    "susDF = susDF.drop(columns=[susDF.columns[0]])\n",
    "susDF.head()"
   ]
  },
  {
   "cell_type": "code",
   "execution_count": 1021,
   "metadata": {},
   "outputs": [
    {
     "name": "stdout",
     "output_type": "stream",
     "text": [
      "unique\n"
     ]
    },
    {
     "data": {
      "text/html": [
       "<div>\n",
       "<style scoped>\n",
       "    .dataframe tbody tr th:only-of-type {\n",
       "        vertical-align: middle;\n",
       "    }\n",
       "\n",
       "    .dataframe tbody tr th {\n",
       "        vertical-align: top;\n",
       "    }\n",
       "\n",
       "    .dataframe thead th {\n",
       "        text-align: right;\n",
       "    }\n",
       "</style>\n",
       "<table border=\"1\" class=\"dataframe\">\n",
       "  <thead>\n",
       "    <tr style=\"text-align: right;\">\n",
       "      <th></th>\n",
       "      <th>brakeID</th>\n",
       "      <th>qbrk</th>\n",
       "      <th>lbrk</th>\n",
       "      <th>hbrk</th>\n",
       "      <th>wbrk</th>\n",
       "      <th>tbrk</th>\n",
       "      <th>rbrk</th>\n",
       "    </tr>\n",
       "  </thead>\n",
       "  <tbody>\n",
       "    <tr>\n",
       "      <th>0</th>\n",
       "      <td>B1</td>\n",
       "      <td>0.4</td>\n",
       "      <td>0.10</td>\n",
       "      <td>0.0425</td>\n",
       "      <td>0.0200</td>\n",
       "      <td>0.350</td>\n",
       "      <td>0.025447</td>\n",
       "    </tr>\n",
       "    <tr>\n",
       "      <th>1</th>\n",
       "      <td>B2</td>\n",
       "      <td>0.4</td>\n",
       "      <td>0.14</td>\n",
       "      <td>0.0490</td>\n",
       "      <td>0.0175</td>\n",
       "      <td>0.350</td>\n",
       "      <td>0.024598</td>\n",
       "    </tr>\n",
       "    <tr>\n",
       "      <th>2</th>\n",
       "      <td>B3</td>\n",
       "      <td>0.4</td>\n",
       "      <td>0.14</td>\n",
       "      <td>0.0615</td>\n",
       "      <td>0.0175</td>\n",
       "      <td>0.350</td>\n",
       "      <td>0.027990</td>\n",
       "    </tr>\n",
       "    <tr>\n",
       "      <th>3</th>\n",
       "      <td>B4</td>\n",
       "      <td>0.5</td>\n",
       "      <td>0.10</td>\n",
       "      <td>0.0380</td>\n",
       "      <td>0.0160</td>\n",
       "      <td>0.350</td>\n",
       "      <td>0.030169</td>\n",
       "    </tr>\n",
       "    <tr>\n",
       "      <th>4</th>\n",
       "      <td>B5</td>\n",
       "      <td>0.5</td>\n",
       "      <td>0.10</td>\n",
       "      <td>0.0425</td>\n",
       "      <td>0.0200</td>\n",
       "      <td>0.355</td>\n",
       "      <td>0.031523</td>\n",
       "    </tr>\n",
       "  </tbody>\n",
       "</table>\n",
       "</div>"
      ],
      "text/plain": [
       "  brakeID  qbrk  lbrk    hbrk    wbrk   tbrk      rbrk\n",
       "0      B1   0.4  0.10  0.0425  0.0200  0.350  0.025447\n",
       "1      B2   0.4  0.14  0.0490  0.0175  0.350  0.024598\n",
       "2      B3   0.4  0.14  0.0615  0.0175  0.350  0.027990\n",
       "3      B4   0.5  0.10  0.0380  0.0160  0.350  0.030169\n",
       "4      B5   0.5  0.10  0.0425  0.0200  0.355  0.031523"
      ]
     },
     "execution_count": 1021,
     "metadata": {},
     "output_type": "execute_result"
    }
   ],
   "source": [
    "# brakesDF = pd.read_csv(\"/Users/samlapp/Documents/THRED Lab/SAE/brakes.csv\")\n",
    "# brakesDF.columns = [a.strip() for a in brakesDF.columns]\n",
    "# brakesDF.rbrk = [np.random.uniform(0.98,1.02)*brakesDF.iloc[i]['rbrk'] for i in range(len(brakesDF))]\n",
    "# brakesDF.to_csv(\"/Users/samlapp/Documents/THRED Lab/SAE/brakesTweaked.csv\")\n",
    "brakesDF = pd.read_csv(\"./SAE/brakesTweaked.csv\")\n",
    "print(\"unique\" if len(brakesDF)-len(np.unique(brakesDF['rbrk'])) == 0 else \"not uniuqe\")\n",
    "brakesDF = brakesDF.drop(columns=[brakesDF.columns[0]])\n",
    "brakesDF.head()"
   ]
  },
  {
   "cell_type": "code",
   "execution_count": 1022,
   "metadata": {},
   "outputs": [],
   "source": [
    "# paramsDF.variable"
   ]
  },
  {
   "cell_type": "code",
   "execution_count": 1023,
   "metadata": {},
   "outputs": [],
   "source": [
    "class Params:\n",
    "    def __init__(self,v = paramsDF):\n",
    "        self.vars = v.variable\n",
    "        self.team = v.team\n",
    "        for i, row in v.iterrows():\n",
    "            setattr(self, row.variable.strip(),-1)\n",
    "p = Params()\n",
    "for v in p.vars:\n",
    "    value = np.random.uniform()\n",
    "    setattr(p,v,value)\n",
    "paramsDF.loc[paramsDF.variable==\"hrw\"][\"team\"][0]\n",
    "\n",
    "teams = np.unique(paramsDF.team)\n",
    "teamDimensions = [[row.team == t for i, row in paramsDF.iterrows()] for t in teams]\n",
    "teamDictionary = {}\n",
    "for i in range(len(teams)):\n",
    "    teamDictionary[teams[i]] = teamDimensions[i]\n",
    "paramList = np.array(paramsDF.variable)"
   ]
  },
  {
   "cell_type": "code",
   "execution_count": 1024,
   "metadata": {},
   "outputs": [],
   "source": [
    "#convert parameter vector to Parameter object\n",
    "pNames = paramsDF.variable\n",
    "blankParameterObject = Params()\n",
    "def asParameters(pList):\n",
    "    p = cp(blankParameterObject)\n",
    "    for i in range(len(pList)):\n",
    "        setattr(p,pNames[i],pList[i])\n",
    "    return p\n",
    "\n",
    "numberParameters = len(paramsDF)\n",
    "def asVector(params):\n",
    "    r = np.zeros(numberParameters)\n",
    "    for i in range(numberParameters):\n",
    "        pName = pNames[i]\n",
    "        r[i] = getattr(params,pName)\n",
    "    return r"
   ]
  },
  {
   "cell_type": "code",
   "execution_count": 1025,
   "metadata": {},
   "outputs": [],
   "source": [
    "p = startParams()\n",
    "v = asVector(p)"
   ]
  },
  {
   "cell_type": "code",
   "execution_count": 1026,
   "metadata": {},
   "outputs": [
    {
     "name": "stdout",
     "output_type": "stream",
     "text": [
      "810 µs ± 19.1 µs per loop (mean ± std. dev. of 7 runs, 1000 loops each)\n",
      "581 µs ± 6.21 µs per loop (mean ± std. dev. of 7 runs, 1000 loops each)\n"
     ]
    }
   ],
   "source": [
    "%timeit asParameters(v)\n",
    "%timeit asVector(p)"
   ]
  },
  {
   "cell_type": "markdown",
   "metadata": {},
   "source": [
    "## Objective Subfunctions"
   ]
  },
  {
   "cell_type": "markdown",
   "metadata": {},
   "source": [
    "### constants\n",
    "\n",
    "The car’s top velocity vcar is 26.8 m/s (60 mph).\n",
    "\n",
    "The car’s engine speed x_e is 3600 rpm. \n",
    "\n",
    "The density of air q_air during the race is 1.225 kg/m3. \n",
    "\n",
    "The track radio of curvature r_track is 9 m. \n",
    "\n",
    "The pressure applied to the brakes Pbrk is 1x10^7 Pa\n"
   ]
  },
  {
   "cell_type": "code",
   "execution_count": 1027,
   "metadata": {},
   "outputs": [],
   "source": [
    "#scale parameters to go between unit cube (approximately) and SI units\n",
    "paramMaxValues = []"
   ]
  },
  {
   "cell_type": "code",
   "execution_count": 1028,
   "metadata": {},
   "outputs": [],
   "source": [
    "v_car = 26.8 #m/s (60 mph)\n",
    "w_e = 3600 * 60 * 2 *np.pi #rpm  to radians/sec \n",
    "rho_air = 1.225 #kg/m3.\n",
    "r_track = 9 #m\n",
    "P_brk = 10**7 #Pascals\n",
    "C_dc = 0.04 #drag coefficient of cabin\n",
    "gravity = 9.81 #m/s^2"
   ]
  },
  {
   "cell_type": "code",
   "execution_count": 1029,
   "metadata": {},
   "outputs": [],
   "source": [
    "#mass (minimize)\n",
    "def mrw(p):\n",
    "    return p.lrw * p.wrw *p.hrw * p.qrw\n",
    "def mfw(p):\n",
    "    return p.lfw * p.wfw *p.hfw * p.qfw\n",
    "def msw(p):\n",
    "    return p.lsw * p.wsw *p.hsw * p.qsw\n",
    "def mia(p):\n",
    "    return p.lia * p.wia *p.hia * p.qia\n",
    "def mc(p):\n",
    "    return 2*(p.hc*p.lc*p.tc + p.hc*p.wc*p.tc + p.lc*p.hc*p.tc)*p.qc\n",
    "def mbrk(p):\n",
    "    #CHRIS missing parameters: how is mbrk calculated? assuming lrw*rho\n",
    "    return p.lbrk * p.wbrk * p.hbrk * p.qbrk\n",
    "def mass(p): #total mass, minimize\n",
    "    mass = mrw(p) + mfw(p) + 2 * msw(p) + 2*p.mrt + 2*p.mft + p.me + mc(p) + mia(p) + 4*mbrk(p) + 2*p.mrsp + 2*p.mfsp\n",
    "    return mass"
   ]
  },
  {
   "cell_type": "code",
   "execution_count": 1030,
   "metadata": {},
   "outputs": [],
   "source": [
    "#center of gravity height, minimize\n",
    "def cGy(p): \n",
    "    t1 =  (mrw(p)*p.yrw + mfw(p)*p.yfw+ p.me*p.ye + mc(p)*p.yc + mia(p)*p.yia) / mass(p)\n",
    "    t2 = 2* (msw(p)*p.ysw + p.mrt*p.rrt + p.mft*p.rft + mbrk(p)*p.rft + p.mrsp*p.yrsp + p.mfsp*p.yfsp) / mass(p)\n",
    "    \n",
    "    return t1 + t2  "
   ]
  },
  {
   "cell_type": "code",
   "execution_count": 1031,
   "metadata": {},
   "outputs": [],
   "source": [
    "#Drag (minimize) and downforce (maximize)\n",
    "def AR(w,alpha,l): #aspect ratio of a wing\n",
    "    return w* np.cos(alpha) / l\n",
    "    \n",
    "def C_lift(AR,alpha): #lift coefficient of a wing\n",
    "    return 2*np.pi* (AR / (AR + 2)) * alpha\n",
    "\n",
    "def C_drag(C_lift, AR): #drag coefficient of wing\n",
    "    return C_lift**2 / (np.pi * AR)\n",
    "\n",
    "def F_down_wing(w,h,l,alpha,rho_air,v_car): #total downward force of wing\n",
    "    wingAR = AR(w,alpha,l)\n",
    "    C_l = C_lift(wingAR, alpha)\n",
    "    return 0.5 * alpha * h * w * rho_air * (v_car**2) * C_l\n",
    "\n",
    "def F_drag_wing(w,h,l,alpha,rho_air,v_car): #total drag force on a wing\n",
    "    wingAR = AR(w,alpha,l)\n",
    "#     print(wingAR)\n",
    "    C_l = C_lift(wingAR, alpha)\n",
    "#     print(C_l)\n",
    "    C_d = C_drag(C_l,wingAR)\n",
    "#     print(C_d)\n",
    "    return F_drag(w,h,rho_air,v_car,C_d)\n",
    "    \n",
    "def F_drag(w,h,rho_air,v_car,C_d):\n",
    "    return 0.5*w*h*rho_air*v_car**2*C_d\n",
    "\n",
    "def F_drag_total(p): #total drag on vehicle\n",
    "    cabinDrag = F_drag(p.wc,p.hc,rho_air,v_car,C_dc)\n",
    "    rearWingDrag = F_drag_wing(p.wrw,p.hrw,p.lrw,p.arw,rho_air,v_car)\n",
    "    frontWingDrag = F_drag_wing(p.wfw,p.hfw,p.lfw,p.afw,rho_air,v_car)\n",
    "    sideWingDrag = F_drag_wing(p.wsw,p.hsw,p.lsw,p.asw,rho_air,v_car)\n",
    "    return rearWingDrag + frontWingDrag + 2* sideWingDrag + cabinDrag\n",
    "\n",
    "def F_down_total(p): #total downforce\n",
    "    downForceRearWing = F_down_wing(p.wrw,p.hrw,p.lrw,p.arw,rho_air,v_car)\n",
    "    downForceFrontWing = F_down_wing(p.wfw,p.hfw,p.lfw,p.afw,rho_air,v_car)\n",
    "    downForceSideWing = F_down_wing(p.wsw,p.hsw,p.lsw,p.asw,rho_air,v_car)\n",
    "    return downForceRearWing + downForceFrontWing + 2*downForceSideWing"
   ]
  },
  {
   "cell_type": "code",
   "execution_count": 1032,
   "metadata": {},
   "outputs": [],
   "source": [
    "#acceleration (maximize)\n",
    "def rollingResistance(p,tirePressure,v_car):\n",
    "    C = .005 + 1/tirePressure * (.01 + .0095 * (v_car**2))\n",
    "    return C * mass(p) * gravity\n",
    "\n",
    "def acceleration(p):\n",
    "    mTotal = mass(p)\n",
    "    tirePressure = p.Prt #CHRIS should it be front or rear tire pressure?\n",
    "    total_resistance = F_drag_total(p) + rollingResistance(p, tirePressure,v_car)\n",
    "    \n",
    "    w_wheels = v_car / p.rrt #rotational speed of rear tires\n",
    "    \n",
    "    efficiency = total_resistance * v_car / p.Phi_e\n",
    "    \n",
    "    torque = p.T_e\n",
    "    \n",
    "    #converted units of w_e from rpm to rad/s !!!\n",
    "    F_wheels = torque * efficiency * w_e /(p.rrt * w_wheels) \n",
    "    \n",
    "    return (F_wheels - total_resistance) / mTotal\n",
    "# acceleration(p)"
   ]
  },
  {
   "cell_type": "code",
   "execution_count": 1033,
   "metadata": {},
   "outputs": [],
   "source": [
    "#crash force (minimize)\n",
    "def crashForce(p):\n",
    "    return np.sqrt(mass(p) * v_car**2 * p.wia * p.hia * p.Eia / (2*p.lia))"
   ]
  },
  {
   "cell_type": "code",
   "execution_count": 1034,
   "metadata": {},
   "outputs": [],
   "source": [
    "#impact attenuator volume (minimize)\n",
    "def iaVolume(p):\n",
    "    return p.lia*p.wia*p.hia"
   ]
  },
  {
   "cell_type": "code",
   "execution_count": 1035,
   "metadata": {},
   "outputs": [],
   "source": [
    "#corner velocity (maximize)\n",
    "y_suspension = 0.05 # m\n",
    "dydt_suspension = 0.025 #m/s \n",
    "def suspensionForce(k,c):\n",
    "    return k*y_suspension + c*dydt_suspension\n",
    "\n",
    "def cornerVelocity(p):\n",
    "    F_fsp = suspensionForce(p.kfsp,p.cfsp)\n",
    "    F_rsp = suspensionForce(p.krsp,p.crsp)\n",
    "    downforce = F_down_total(p)\n",
    "    mTotal = mass(p)\n",
    "    \n",
    "    #CHRIS again, rear tire pressure?\n",
    "    C = rollingResistance(p,p.Prt,v_car)\n",
    "    forces = downforce+mTotal*gravity-2*F_fsp-2*F_rsp\n",
    "    if forces < 0: \n",
    "        return 0\n",
    "    return np.sqrt( forces * C * r_track / mTotal )\n",
    "# cornerVelocity(p)"
   ]
  },
  {
   "cell_type": "code",
   "execution_count": 1036,
   "metadata": {},
   "outputs": [
    {
     "name": "stdout",
     "output_type": "stream",
     "text": [
      "0.049\n",
      "0.0175\n",
      "28183\n",
      "2500\n",
      "rear\n",
      "3982\n",
      "600\n",
      "66.2462778701892\n",
      "0.22987\n",
      "0.7656600250205535\n",
      "now random\n",
      "0.049\n",
      "0.0175\n",
      "20650\n",
      "2000\n",
      "rear\n",
      "20650\n",
      "2000\n",
      "716.7670551704774\n",
      "0.2286\n",
      "0.758\n"
     ]
    }
   ],
   "source": [
    "p1 = pc\n",
    "print(p1.hbrk)\n",
    "print(p1.wbrk)\n",
    "print(p1.kfsp)\n",
    "print(p1.cfsp)\n",
    "print('rear')\n",
    "print(p1.krsp)\n",
    "print(p1.crsp)\n",
    "print(mass(p1))\n",
    "print(p1.rrt)\n",
    "print(p1.Prt)\n",
    "print('now random')\n",
    "p1 = startParams()\n",
    "print(p1.hbrk)\n",
    "print(p1.wbrk)\n",
    "print(p1.kfsp)\n",
    "print(p1.cfsp)\n",
    "print('rear')\n",
    "print(p1.krsp)\n",
    "print(p1.crsp)\n",
    "print(mass(p1))\n",
    "print(p1.rrt)\n",
    "print(p1.Prt)\n"
   ]
  },
  {
   "cell_type": "code",
   "execution_count": 1037,
   "metadata": {},
   "outputs": [],
   "source": [
    "#breaking distance (minimize)\n",
    "def breakingDistance(p):\n",
    "    mTotal = mass(p)\n",
    "    C = rollingResistance(p,p.Prt,v_car)\n",
    "    \n",
    "    #CHRIS need c_brk break friction coef, and A_brk (rectangle or circle?)\n",
    "    #breaking torque\n",
    "    A_brk = p.hbrk * p.wbrk\n",
    "    c_brk = .37 #?   most standard brake pads is usually in the range of 0.35 to 0.42\n",
    "    Tbrk = 2 * c_brk * P_brk * A_brk * p.rbrk\n",
    "    \n",
    "    #y forces:\n",
    "    F_fsp = suspensionForce(p.kfsp,p.cfsp)\n",
    "    F_rsp = suspensionForce(p.krsp,p.crsp)\n",
    "    Fy = mTotal*gravity + F_down_total(p) - 2 * F_rsp - 2*F_fsp\n",
    "    if Fy<=0: Fy = 1E-10\n",
    "    \n",
    "    #breaking accelleration\n",
    "    #CHRIS front and rear tire radius are same? (rrt and rft)\n",
    "    a_brk = Fy * C / mTotal + 4*Tbrk*C/(p.rrt*mTotal)\n",
    "    \n",
    "    #breaking distance\n",
    "    return v_car**2 / (2*a_brk)\n",
    "# breakingDistance(p)"
   ]
  },
  {
   "cell_type": "code",
   "execution_count": 1038,
   "metadata": {},
   "outputs": [],
   "source": [
    "#suspension acceleration (minimize)\n",
    "def suspensionAcceleration(p):\n",
    "    Ffsp = suspensionForce(p.kfsp,p.cfsp)\n",
    "    Frsp = suspensionForce(p.krsp,p.crsp)\n",
    "    mTotal = mass(p)\n",
    "    Fd = F_down_total(p)\n",
    "    return (2*Ffsp - 2*Frsp - mTotal*gravity - Fd)/mTotal\n",
    "# suspensionAcceleration(p)"
   ]
  },
  {
   "cell_type": "code",
   "execution_count": 1039,
   "metadata": {},
   "outputs": [],
   "source": [
    "#pitch moment (minimize)\n",
    "def pitchMoment(p):\n",
    "    Ffsp = suspensionForce(p.kfsp,p.cfsp)\n",
    "    Frsp = suspensionForce(p.krsp,p.crsp)\n",
    "    \n",
    "    downForceRearWing = F_down_wing(p.wrw,p.hrw,p.lrw,p.arw,rho_air,v_car)\n",
    "    downForceFrontWing = F_down_wing(p.wfw,p.hfw,p.lfw,p.afw,rho_air,v_car)\n",
    "    downForceSideWing = F_down_wing(p.wsw,p.hsw,p.lsw,p.asw,rho_air,v_car)\n",
    "    #CHRIS assuming lcg is lc? and lf is ?\n",
    "    lcg = p.lc\n",
    "    lf = 0.5\n",
    "    return 2*Ffsp*lf + 2*Frsp*lf + downForceRearWing*(lcg - p.lrw) - downForceFrontWing*(lcg-p.lfw) - 2*downForceSideWing*(lcg-p.lsw)  \n",
    "# pitchMoment(p)"
   ]
  },
  {
   "cell_type": "markdown",
   "metadata": {},
   "source": [
    "## Global Objective"
   ]
  },
  {
   "cell_type": "code",
   "execution_count": 1040,
   "metadata": {},
   "outputs": [],
   "source": [
    "#Global objective: linear sum of objective subfunctions\n",
    "#sub-objectives to maximize will be mirrored *-1 to become minimizing\n",
    "\n",
    "subObjectives = [mass,cGy,F_drag_total,F_down_total,acceleration,crashForce,iaVolume,cornerVelocity,breakingDistance,suspensionAcceleration,pitchMoment]  \n",
    "alwaysMinimize = [1,1,1,-1,-1,1,1,-1,1,1,1] #1 for minimizing, -1 for maximizing\n",
    "weightsNull = np.ones(len(subObjectives)) / len(subObjectives)\n",
    "weights1 = np.array([14,1,20,30,10,1,1,10,10,2,1])/100\n",
    "weights2 = np.array([25,1,15,20,15,1,1,15,5,1,1])/100\n",
    "weights3 = np.array([14,1,20,15,25,1,1,10,10,2,1])/100\n",
    "\n",
    "weightsCustom = np.array([14,1,20,30,11,1,1,10,10,2,0])/100 #pitch moment is zero bc incorrect eqn\n",
    "\n",
    "def objectiveDetailedNonNormalized(p,weights):\n",
    "    score = 0\n",
    "    subscores = []\n",
    "    for i in range(len(subObjectives)):\n",
    "        obj = subObjectives[i]\n",
    "        subscore = obj(p)\n",
    "        subscores.append(subscore)\n",
    "        score += weights[i]*alwaysMinimize[i]*subscore\n",
    "    return score,subscores\n",
    "\n",
    "# subscoreMean = np.zeros(len(subObjectives))\n",
    "# subscoreSd = np.ones(len(subObjectives))\n",
    "\n",
    "def objective(p,weights):\n",
    "    score = 0\n",
    "    for i in range(len(subObjectives)):\n",
    "        obj = subObjectives[i]\n",
    "        subscore= obj(p)\n",
    "        normalizedSubscore = (subscore - subscoreMean[i]) / subscoreSd[i]\n",
    "        score += weights[i]*alwaysMinimize[i]*normalizedSubscore\n",
    "    return score\n",
    "\n",
    "def objectiveDetailed(p,weights):\n",
    "    score = 0\n",
    "    subscores = []\n",
    "    for i in range(len(subObjectives)):\n",
    "        obj = subObjectives[i]\n",
    "        subscore= obj(p)\n",
    "        normalizedSubscore = (subscore - subscoreMean[i]) / subscoreSd[i]\n",
    "        subscores.append(normalizedSubscore)\n",
    "        score += weights[i]*alwaysMinimize[i]*normalizedSubscore\n",
    "    return score, subscores"
   ]
  },
  {
   "cell_type": "markdown",
   "metadata": {},
   "source": [
    "## Constraints"
   ]
  },
  {
   "cell_type": "markdown",
   "metadata": {},
   "source": [
    "## constraints not done\n",
    "I didnt actually do the constraint functions yet just bounds\n"
   ]
  },
  {
   "cell_type": "code",
   "execution_count": 1041,
   "metadata": {},
   "outputs": [],
   "source": [
    "#a list with all the min-max functions (!) which can be called to return max and min value as f(p)\n",
    "minMaxParam = [None for i in range(len(paramsDF))]\n",
    "def wrw(p):\n",
    "    minV = 0.300\n",
    "    maxV = r_track - 2 * p.rrt\n",
    "    \n",
    "    return minV, maxV\n",
    "minMaxParam[paramsDF.loc[paramsDF.variable==\"wrw\"].index[0]] = wrw\n",
    "\n",
    "# def xrw(p):\n",
    "#     minV = p.lrw / 2\n",
    "#     maxV = .250 - minV\n",
    "#     return minV, maxV\n",
    "# minMaxParam[paramsDF.loc[paramsDF.variable==\"xrw\"].index[0]] = xrw\n",
    "\n",
    "def yrw(p):\n",
    "    minV = .5 + p.hrw / 2\n",
    "    maxV = 1.2 - p.hrw / 2\n",
    "    return minV, maxV\n",
    "minMaxParam[paramsDF.loc[paramsDF.variable==\"yrw\"].index[0]] = yrw\n",
    "wheelSpace = .1 #?? don't have an equation for this rn, min is .075\n",
    "\n",
    "aConst = wheelSpace\n",
    "def lfw(p):\n",
    "    minV = .05 \n",
    "    maxV = .7 - aConst\n",
    "    return minV, maxV\n",
    "minMaxParam[paramsDF.loc[paramsDF.variable==\"lfw\"].index[0]] = lfw\n",
    "\n",
    "f_track = 3 # bounds: 3, 2.25 m \n",
    "def wfw(p):\n",
    "    minV = .3\n",
    "    maxV = f_track\n",
    "    return minV, maxV\n",
    "minMaxParam[paramsDF.loc[paramsDF.variable==\"wfw\"].index[0]] = wfw\n",
    "\n",
    "# def xfw(p):\n",
    "#     minV = p.lrw + p.rrt + p.lc + p.lia + p.lfw/2\n",
    "#     maxV = .25 + p.rrt + p.lc + p.lia + p.lfw/2\n",
    "#     return minV, maxV\n",
    "# minMaxParam[paramsDF.loc[paramsDF.variable==\"xfw\"].index[0]] = xfw\n",
    "\n",
    "xConst = .030 #ground clearance 19 to 50 mm\n",
    "def yfw(p):\n",
    "    minV = xConst + p.hfw / 2\n",
    "    maxV = .25 - p.hfw/2\n",
    "    return minV, maxV\n",
    "minMaxParam[paramsDF.loc[paramsDF.variable==\"yfw\"].index[0]] = yfw\n",
    "\n",
    "# def xsw(p):\n",
    "#     minV = p.lrw + 2*p.rrt + aConst + p.lsw / 2\n",
    "#     maxV = .250 + 2*p.rrt + aConst + p.lsw / 2\n",
    "#     return minV, maxV\n",
    "# minMaxParam[paramsDF.loc[paramsDF.variable==\"xsw\"].index[0]] = xsw\n",
    "\n",
    "def ysw(p):\n",
    "    minV = xConst + p.hsw/2\n",
    "    maxV = .250 - p.hsw/2\n",
    "    return minV, maxV\n",
    "minMaxParam[paramsDF.loc[paramsDF.variable==\"ysw\"].index[0]] = ysw\n",
    "\n",
    "# def xrt(p):\n",
    "#     minV = p.lrw + p.rrt\n",
    "#     maxV = .250 + p.rrt \n",
    "#     return minV, maxV\n",
    "# minMaxParam[paramsDF.loc[paramsDF.variable==\"xrt\"].index[0]] = xrt\n",
    "\n",
    "# def xft(p):\n",
    "#     minV = p.lrw + p.rrt + p.lc\n",
    "#     maxV = .250 + p.rrt  + p.lc\n",
    "#     return minV, maxV\n",
    "# minMaxParam[paramsDF.loc[paramsDF.variable==\"xft\"].index[0]] = xft\n",
    "\n",
    "# def xe(p):\n",
    "#     minV = p.lrw + p.rrt - p.le / 2\n",
    "#     maxV = p.lrw + aConst + p.rrt - p.le / 2\n",
    "#     return minV, maxV\n",
    "# minMaxParam[paramsDF.loc[paramsDF.variable==\"xe\"].index[0]] = xe\n",
    "\n",
    "def ye(p):\n",
    "    minV = xConst + p.he / 2\n",
    "    maxV = .5 - p.he / 2\n",
    "    return minV, maxV\n",
    "minMaxParam[paramsDF.loc[paramsDF.variable==\"ye\"].index[0]] = ye\n",
    "\n",
    "def hc(p):\n",
    "    minV = .500\n",
    "    maxV = 1.200 - xConst\n",
    "    return minV, maxV\n",
    "minMaxParam[paramsDF.loc[paramsDF.variable==\"hc\"].index[0]] = hc\n",
    "\n",
    "# def xc(p):\n",
    "#     minV = p.lrw + p.rrt + p.lc / 2\n",
    "#     maxV = .250 + p.rrt + p.lc / 2\n",
    "#     return minV, maxV\n",
    "# minMaxParam[paramsDF.loc[paramsDF.variable==\"xc\"].index[0]] = xc\n",
    "\n",
    "def yc(p):\n",
    "    minV = xConst + p.hc / 2\n",
    "    maxV = 1.200 - p.hc / 2\n",
    "    return minV, maxV\n",
    "minMaxParam[paramsDF.loc[paramsDF.variable==\"yc\"].index[0]] = yc\n",
    "\n",
    "def lia(p):\n",
    "    minV = .2\n",
    "    maxV = .7  - p.lfw # what is l_fr?\n",
    "    return minV, maxV\n",
    "minMaxParam[paramsDF.loc[paramsDF.variable==\"lia\"].index[0]] = lia\n",
    "\n",
    "# def xia(p):\n",
    "#     minV = p.lrw + p.rrt + p.lc + p.lia / 2\n",
    "#     maxV = .250 + p.rrt + p.lc + p.lia/ 2\n",
    "#     return minV, maxV\n",
    "# minMaxParam[paramsDF.loc[paramsDF.variable==\"xia\"].index[0]] = xia\n",
    "\n",
    "def yia(p):\n",
    "    minV = xConst + p.hia / 2\n",
    "    maxV = 1.200 - p.hia / 2\n",
    "    return minV, maxV\n",
    "minMaxParam[paramsDF.loc[paramsDF.variable==\"yia\"].index[0]] = yia\n",
    "\n",
    "def yrsp(p):\n",
    "    minV = p.rrt\n",
    "    maxV = p.rrt * 2\n",
    "    return minV, maxV\n",
    "minMaxParam[paramsDF.loc[paramsDF.variable==\"yrsp\"].index[0]] = yrsp\n",
    "\n",
    "def yfsp(p):\n",
    "    minV = p.rft\n",
    "    maxV = p.rft * 2\n",
    "    return minV, maxV\n",
    "minMaxParam[paramsDF.loc[paramsDF.variable==\"yfsp\"].index[0]] = yfsp\n",
    "\n",
    "#test:\n",
    "# for f in minMaxParam:\n",
    "#     if f is not None:\n",
    "#         print(f(p))"
   ]
  },
  {
   "cell_type": "code",
   "execution_count": 1042,
   "metadata": {},
   "outputs": [],
   "source": [
    "def getAttr(obj):\n",
    "    return [a for a in dir(obj) if not a.startswith('__')]"
   ]
  },
  {
   "cell_type": "code",
   "execution_count": 1043,
   "metadata": {},
   "outputs": [],
   "source": [
    "def findMaterialByDensity(rho):\n",
    "    differences = abs(np.array(materialsDF.q) - rho)\n",
    "    material = materialsDF.iloc[np.argmin(differences)]\n",
    "    return material.Code, material.q, material.E\n",
    "def findTireByRadius(radius):\n",
    "    differences = abs(np.array(tiresDF.radius) - radius)\n",
    "    tire = tiresDF.iloc[np.argmin(differences)]\n",
    "    return tire.ID, tire.radius, tire.mass\n",
    "\n",
    "def findEngineByPower(power):\n",
    "    differences = abs(np.array(enginesDF.Phi_e) - power)\n",
    "    engine = enginesDF.loc[np.argmin(differences)]\n",
    "    return engine\n",
    "\n",
    "def findSuspensionByK(k):\n",
    "    differences = abs(np.array(susDF.krsp) - k)\n",
    "    sus = susDF.loc[np.argmin(differences)]\n",
    "    return sus\n",
    "\n",
    "def findBrakesByR(r): #what is the driving variable for brakes??? r?\n",
    "    differences = abs(np.array(brakesDF.rbrk) - r)\n",
    "    brakes = brakesDF.loc[np.argmin(differences)]\n",
    "\n",
    "    return brakes"
   ]
  },
  {
   "cell_type": "code",
   "execution_count": 1044,
   "metadata": {},
   "outputs": [],
   "source": [
    "def constrain(p,dimsToConstrain=np.ones(len(paramsDF))):\n",
    "#     p_attribute = getAttr(p)\n",
    "    paramIndices = [i for i in range(len(dimsToConstrain)) if dimsToConstrain[i] ==1]\n",
    "    for i in paramIndices: #range(len(paramsDF)): # we need to do the equations bounds last\n",
    "#         if not dimsToConstrain[i]: #we don't need to check this dimension, it didn't change\n",
    "#             continue\n",
    "        param = paramsDF.loc[i]\n",
    "        variable = param.variable\n",
    "        value = getattr(p,variable)\n",
    "        if param.kind == 1: #continuous param with min and max\n",
    "            if hasNumericBounds[i]:\n",
    "                newValue = bounds(value,float(param[\"minV\"]),float(param[\"maxV\"]))\n",
    "                setattr(p,variable,newValue)\n",
    "            #do the equation ones after setting all other parameters\n",
    "                \n",
    "        elif param.kind == 2: #choose a material based on density\n",
    "            materialID,density,modulusE = findMaterialByDensity(value)\n",
    "            setattr(p,variable,density)\n",
    "            #find other variables that are driven by this one:\n",
    "            for i, otherParam in paramsDF[paramsDF.team == variable].iterrows():#dimension is driven by this one\n",
    "                setattr(p,otherParam.variable,modulusE)    \n",
    "        elif param.kind == 3: #choose tires\n",
    "            tireID,radius,weight = findTireByRadius(value)\n",
    "            setattr(p,variable,radius)\n",
    "            #find other variables that are driven by this one:\n",
    "            for i, otherParam in paramsDF[paramsDF.team == variable].iterrows():\n",
    "                setattr(p,otherParam.variable,weight)\n",
    "        elif param.kind == 4: #choose motor\n",
    "            tableRow= findEngineByPower(value) #Phi_e,l_e,w_e,h_e,T_e,m_e\n",
    "            setattr(p,variable,tableRow[variable])\n",
    "            #find other variables that are driven by this one:\n",
    "            for i, otherParam in paramsDF[paramsDF.team == variable].iterrows():\n",
    "                setattr(p,otherParam.variable,tableRow[otherParam.variable])\n",
    "        elif param.kind == 5: #choose brakes\n",
    "            tableRow = findBrakesByR(value) # r is driving variable\n",
    "\n",
    "            setattr(p,variable,tableRow[variable]) #df columns need to be same as variable names\n",
    "            #find other variables that are driven by this one:\n",
    "            for i, otherParam in paramsDF[paramsDF.team == variable].iterrows():\n",
    "            #their \"team\" is THIS VAR: dimension is driven by this\n",
    "                setattr(p,otherParam.variable,tableRow[otherParam.variable])\n",
    "\n",
    "        elif param.kind == 6: #choose suspension\n",
    "            tableRow = findSuspensionByK(value) #kfsp, cfsp, mfsp\n",
    "            setattr(p,variable,tableRow[variable])\n",
    "            #find other variables that are driven by this one:\n",
    "            for i, otherParam in paramsDF[paramsDF.team == variable].iterrows():#their \"team\" is THIS VAR: dimension is driven by this\n",
    "                setattr(p,otherParam.variable,tableRow[otherParam.variable])\n",
    "    \n",
    "    #now we can do the ones that depend on other variables\n",
    "    for i in paramIndices: \n",
    "        param = paramsDF.loc[i]\n",
    "        variable = param.variable\n",
    "        value = getattr(p,variable)\n",
    "        if param.kind == 1 and not hasNumericBounds[i]:\n",
    "            f = minMaxParam[i] #list of minMax functions for each variable\n",
    "            minV, maxV = f(p) \n",
    "            newValue = bounds(value,minV,maxV)\n",
    "            setattr(p,variable,newValue)\n",
    "    return p"
   ]
  },
  {
   "cell_type": "markdown",
   "metadata": {},
   "source": [
    "## create the scaling vector"
   ]
  },
  {
   "cell_type": "code",
   "execution_count": 1045,
   "metadata": {},
   "outputs": [],
   "source": [
    "pVmax = asParameters([1e15 for i in range(len(paramsDF))])\n",
    "maxVals = constrain(pVmax)\n",
    "scalingVector = asVector(maxVals) #this acts as a scaling vector to map SI unit values to ~unit cube\n",
    "# paramsDF.iloc[11]"
   ]
  },
  {
   "cell_type": "code",
   "execution_count": 1046,
   "metadata": {},
   "outputs": [
    {
     "data": {
      "text/plain": [
       "[<matplotlib.lines.Line2D at 0x1a2f8afd68>]"
      ]
     },
     "execution_count": 1046,
     "metadata": {},
     "output_type": "execute_result"
    },
    {
     "data": {
      "image/png": "[encoded data removed]",
      "text/plain": [
       "<Figure size 432x288 with 1 Axes>"
      ]
     },
     "metadata": {
      "image/png": {
       "height": 250,
       "width": 380
      }
     },
     "output_type": "display_data"
    }
   ],
   "source": [
    "pVmin = asParameters([-1E10 for i in range(len(paramsDF))])\n",
    "minVals = constrain(pVmin)\n",
    "# scalingVector1 = asVector(maxVals) #this acts as a scaling vector to map SI unit values to ~unit cube\n",
    "# paramsDF.iloc[11]\n",
    "n = range(len(asVector(minVals)))\n",
    "plt.plot(n,asVector(maxVals)/scalingVector)\n",
    "plt.plot(n,asVector(minVals)/scalingVector)\n",
    "# plt.plot(n,asVector(maxVals)/scalingVector)\n"
   ]
  },
  {
   "cell_type": "code",
   "execution_count": 1047,
   "metadata": {},
   "outputs": [
    {
     "data": {
      "text/plain": [
       "0.2809879900294584"
      ]
     },
     "execution_count": 1047,
     "metadata": {},
     "output_type": "execute_result"
    }
   ],
   "source": [
    "mins = asVector(minVals)/scalingVector\n",
    "mins[28]"
   ]
  },
  {
   "cell_type": "code",
   "execution_count": 1048,
   "metadata": {},
   "outputs": [
    {
     "data": {
      "text/plain": [
       "7700000000.0"
      ]
     },
     "execution_count": 1048,
     "metadata": {},
     "output_type": "execute_result"
    }
   ],
   "source": [
    "np.argmax(scalingVector)\n",
    "scalingVector[41]"
   ]
  },
  {
   "cell_type": "code",
   "execution_count": 1049,
   "metadata": {},
   "outputs": [
    {
     "data": {
      "text/plain": [
       "Unnamed: 0               34\n",
       "name          engine torque\n",
       "variable                T_e\n",
       "team                  Phi_e\n",
       "kind                     -4\n",
       "minV                    NaN\n",
       "maxV                    NaN\n",
       "Name: 28, dtype: object"
      ]
     },
     "execution_count": 1049,
     "metadata": {},
     "output_type": "execute_result"
    }
   ],
   "source": [
    "paramsDF.loc[28]"
   ]
  },
  {
   "cell_type": "markdown",
   "metadata": {},
   "source": [
    "## create realistic starting values"
   ]
  },
  {
   "cell_type": "code",
   "execution_count": 1050,
   "metadata": {},
   "outputs": [],
   "source": [
    "def startParams(returnParamObject=True):\n",
    "    nParams = len(paramsDF)\n",
    "    pV = np.random.uniform(0,1,nParams) * scalingVector\n",
    "    p = constrain(asParameters(pV))\n",
    "#     print(asVector(p))\n",
    "    return p if returnParamObject else asVector(p)\n",
    "# objective(p,weightsCustom)"
   ]
  },
  {
   "cell_type": "code",
   "execution_count": 1051,
   "metadata": {},
   "outputs": [],
   "source": [
    "# p = startParams()\n",
    "# constrained = asVector(p)\n",
    "# # constrained/ scalingVector\n",
    "# for i, row in paramsDF.iterrows():\n",
    "#     print(row[1] + \" : \\t\"+str(constrained[i]))"
   ]
  },
  {
   "cell_type": "markdown",
   "metadata": {},
   "source": [
    "### run random possible start values through objectives to get distribution of outputs"
   ]
  },
  {
   "cell_type": "code",
   "execution_count": 1052,
   "metadata": {},
   "outputs": [],
   "source": [
    "# subscores = []\n",
    "# for i in range(3000):\n",
    "#     p = startParams()\n",
    "#     _,ss = objectiveDetailedNonNormalized(p,weightsNull)\n",
    "#     subscores.append(ss)\n",
    "# s = np.array(subscores)"
   ]
  },
  {
   "cell_type": "code",
   "execution_count": 463,
   "metadata": {},
   "outputs": [
    {
     "name": "stdout",
     "output_type": "stream",
     "text": [
      "1185.7112677593059\n",
      "0.48445089770786354\n",
      "78.429039619868\n",
      "859.4706062109291\n",
      "8344168.146002732\n",
      "21263753.781849384\n",
      "0.014857308817886128\n",
      "2319.316013769643\n",
      "0.0005975240460277152\n",
      "-10.642333944146998\n",
      "2742.6436839845387\n"
     ]
    }
   ],
   "source": [
    "# x = s[:,7]\n",
    "# s[:,7 ] = [3000 if isNaN(x[i]) else x[i] for i in range(len(x)) ]\n",
    "# for i in range(len(s[0,:])):\n",
    "#     print(np.mean(s[:,i]))"
   ]
  },
  {
   "cell_type": "markdown",
   "metadata": {},
   "source": [
    "### capture the mean and standard deviations of subscores\n",
    "so that we can normalize them assuming Normal dist.\n",
    "Now, the objective function will fairly weight sub-objectives using custom weights"
   ]
  },
  {
   "cell_type": "code",
   "execution_count": 1053,
   "metadata": {},
   "outputs": [
    {
     "ename": "IndentationError",
     "evalue": "unexpected indent (<ipython-input-1053-b354ed20484a>, line 11)",
     "output_type": "error",
     "traceback": [
      "\u001b[0;36m  File \u001b[0;32m\"<ipython-input-1053-b354ed20484a>\"\u001b[0;36m, line \u001b[0;32m11\u001b[0m\n\u001b[0;31m    plt.hist((np.array(s[:,i]) - subscoreMean[i])/subscoreSd[i])\u001b[0m\n\u001b[0m    ^\u001b[0m\n\u001b[0;31mIndentationError\u001b[0m\u001b[0;31m:\u001b[0m unexpected indent\n"
     ]
    }
   ],
   "source": [
    "# # FIRST TIME, need to run this if we don't have the file with saved values\n",
    "# subscoreMean = []\n",
    "# subscoreSd = []\n",
    "# for i in range(len(subscores[0])):\n",
    "#     subscoreMean.append(np.mean(s[:,i]))\n",
    "#     subscoreSd.append(np.std(s[:,i]))\n",
    "\n",
    "# subscoreStatsDF = pd.DataFrame(columns=[\"subscoreMean\",\"subscoreSD\"],data=np.transpose([subscoreMean,subscoreSd]))\n",
    "# subscoreStatsDF.to_csv(\"./SAE/subscoreStatsDF.csv\")\n",
    "\n",
    "#     plt.hist((np.array(s[:,i]) - subscoreMean[i])/subscoreSd[i])\n",
    "#     plt.show()"
   ]
  },
  {
   "cell_type": "code",
   "execution_count": null,
   "metadata": {},
   "outputs": [],
   "source": [
    "subscoreStatsDF = pd.read_csv(\"./SAE/subscoreStatsDF.csv\")\n",
    "subscoreMean = list(subscoreStatsDF.subscoreMean)\n",
    "subscoreSd = list(subscoreStatsDF.subscoreSD)"
   ]
  },
  {
   "cell_type": "markdown",
   "metadata": {},
   "source": [
    "# Create Virtual Population with represntative KAI scores \n",
    "based on KAI score and subscore dataset provided by Dr. J"
   ]
  },
  {
   "cell_type": "code",
   "execution_count": 77,
   "metadata": {},
   "outputs": [],
   "source": [
    "kaiDF_DATASET = pd.read_csv(\"./KAI/KAI_DATA_2018_07_09.csv\")\n",
    "kaiDF_DATASET.columns = [\"KAI\",\"SO\",\"E\",\"RG\"]\n",
    "def makeKAI(n=1,asDF=True):\n",
    "    pop = np.random.multivariate_normal(kaiDF_DATASET.mean(),kaiDF_DATASET.cov(),n)\n",
    "    if asDF:\n",
    "        popDF = pd.DataFrame(pop) \n",
    "        popDF.columns = kaiDF_DATASET.columns\n",
    "        return popDF if n>1 else popDF.loc[0]\n",
    "    else:\n",
    "        return pop if n>1 else pop[0]\n",
    "    \n",
    "# def makeSubscores(kai,n=1,asDF=True):\n",
    "#     pop = np.random.multivariate_normal(kaiDF_DATASET.mean(),kaiDF_DATASET.cov(),n)\n",
    "kaiPopulation = makeKAI(100000)\n",
    "kaiPopulation=kaiPopulation.round()"
   ]
  },
  {
   "cell_type": "code",
   "execution_count": 78,
   "metadata": {},
   "outputs": [],
   "source": [
    "def findAiScore(kai):\n",
    "    kai = int(kai)\n",
    "    a = kaiPopulation.loc[kaiPopulation['KAI'] == kai]\n",
    "    ind = np.random.choice(a.index)\n",
    "    me = kaiPopulation.loc[ind]\n",
    "    return KAIScore(me) #this is a KAIScore object"
   ]
  },
  {
   "cell_type": "code",
   "execution_count": 79,
   "metadata": {},
   "outputs": [],
   "source": [
    "def normalizedAI(ai):\n",
    "    return (ai - kaiDF_DATASET.mean().KAI)/kaiDF_DATASET.std().KAI\n",
    "def normalizedRG(rg):\n",
    "    return (rg - kaiDF_DATASET.mean().RG)/kaiDF_DATASET.std().RG\n",
    "def normalizedE(E):\n",
    "    return (E - kaiDF_DATASET.mean().E)/kaiDF_DATASET.std().E\n",
    "def normalizedSO(SO):\n",
    "    return (SO - kaiDF_DATASET.mean().SO)/kaiDF_DATASET.std().SO"
   ]
  },
  {
   "cell_type": "code",
   "execution_count": 80,
   "metadata": {},
   "outputs": [
    {
     "data": {
      "text/plain": [
       "5.251845955448993"
      ]
     },
     "execution_count": 80,
     "metadata": {},
     "output_type": "execute_result"
    }
   ],
   "source": [
    "kaiDF_DATASET.mean().E\n",
    "kaiDF_DATASET.std().E"
   ]
  },
  {
   "cell_type": "code",
   "execution_count": 81,
   "metadata": {},
   "outputs": [],
   "source": [
    "def dotNorm(a,b): #return normalized dot product (how parallel 2 vectors are, -1 to 1)\n",
    "    if norm(a) <= 0 or norm(b)<= 0:\n",
    "#         print(\"uh oh, vector was length zero\")\n",
    "        return 0\n",
    "    a = np.array(a)\n",
    "    b = np.array(b)\n",
    "    dotAB = np.sum(a*b)\n",
    "    normDotAB = dotAB / (norm(a)*norm(b))\n",
    "    return normDotAB"
   ]
  },
  {
   "cell_type": "code",
   "execution_count": 82,
   "metadata": {},
   "outputs": [],
   "source": [
    "def plotCategoricalMeans(x,y):\n",
    "    categories = np.unique(x)\n",
    "    means = []\n",
    "    sds = []\n",
    "    for c in categories:\n",
    "        yc = [y[i] for i in range(len(y)) if x[i] == c]\n",
    "        means.append(np.mean(yc))\n",
    "        sds.append(np.std(yc))\n",
    "    plt.errorbar(categories,means,yerr=sds,marker='o',ls='none')\n",
    "    \n",
    "    return means"
   ]
  },
  {
   "cell_type": "code",
   "execution_count": 83,
   "metadata": {},
   "outputs": [],
   "source": [
    "#speed distributions:\n",
    "dfConstant=1.9\n",
    "def travelDistance(speed): #how far do we go? chi distribution, but at least go 0.1 * speed\n",
    "    r = np.max([chi.rvs(dfConstant),0.1]) \n",
    "    return r * speed"
   ]
  },
  {
   "cell_type": "code",
   "execution_count": 84,
   "metadata": {},
   "outputs": [],
   "source": [
    "def memoryWeightsPrimacy(n):\n",
    "    if n==1:\n",
    "        return np.array([1])\n",
    "    weights = np.arange(n-1,-1,-1)**3*0.4 + np.arange(0,n,1)**3\n",
    "    weights = weights / np.sum(weights)\n",
    "    return weights"
   ]
  },
  {
   "cell_type": "code",
   "execution_count": 85,
   "metadata": {},
   "outputs": [],
   "source": [
    "def aiColor(ai): #red for innovators, blue for adaptors\n",
    "    ai01 = bounds((ai - 40)/ 120,0,1)\n",
    "    red = ai01\n",
    "    blue = 1 - ai01\n",
    "    return (red,0,blue)"
   ]
  },
  {
   "cell_type": "code",
   "execution_count": 86,
   "metadata": {},
   "outputs": [],
   "source": [
    "def makeParamString():\n",
    "    s= \"\"\n",
    "    s+= \"steps: \"+ str(steps) + \" \\n\"\n",
    "    s+= \"self-bias: \" +str(selfBias)+ \" \\n\"\n",
    "    s+= \"num agents: \" +str(nAgents)+ \" \\n\"\n",
    "    s+= \"rg strength: \" +str(RG_STRENGTH)+ \" \\n\"\n",
    "    s+= \"so strength: \" +str(SO_STRENGTH)+ \" \\n\"\n",
    "    s+= \"repeats: \" +str(reps)+ \" \\n\"\n",
    "    s+= \"avg speed: \" +str(AVG_SPEED) + \" \\n\"\n",
    "    s+= \"sd speed: \" + str(SD_SPEED)+ \" \\n\"\n",
    "    s+= \"min speed: \" +str(MIN_SPEED)+ \" \\n\"\n",
    "    s+= \"avg temp: \"+ str(AVG_TEMP)+ \" \\n\"\n",
    "    s+= \"sd temp: \" +str(SD_TEMP)+ \" \\n\"\n",
    "    return s"
   ]
  },
  {
   "cell_type": "markdown",
   "metadata": {},
   "source": [
    "## Agent and Team Classes"
   ]
  },
  {
   "cell_type": "code",
   "execution_count": 709,
   "metadata": {},
   "outputs": [],
   "source": [
    "class Agent:\n",
    "    def __init__(self, id=-1):\n",
    "        self.id = id\n",
    "        self.score = np.inf\n",
    "        self.params = startParams()\n",
    "        self.r = asVector(self.params)\n",
    "        self.rNorm = self.r / scalingVector\n",
    "        self.nmoves = 0\n",
    "        self.kai = KAIScore()\n",
    "        self.speed = bounds(AVG_SPEED + normalizedAI(self.kai.KAI) * SD_SPEED, MIN_SPEED ,np.inf)\n",
    "        self.temp = bounds(AVG_TEMP + normalizedE(self.kai.E) * SD_TEMP, 0 ,np.inf)\n",
    "        self.iq = 1 #makeIqScore()\n",
    "        self.memory = [Solution(self.r,self.score,self.id,type(self))]\n",
    "        self.team = -1\n",
    "        self.decay = calculateAgentDecay(self,100)\n",
    "        self.startTemp = self.temp\n",
    "        self.startSpeed = self.speed\n",
    "        \n",
    "    def move(self,soBias=False,groupConformityBias=False,teamPosition=None):\n",
    "        if np.random.uniform()>self.iq: #I'm just thinking this turn\n",
    "            return False \n",
    "        \n",
    "#         print(\"my dimensions:\" +str(self.myDims))\n",
    "        #pick a new direction\n",
    "        d = np.random.uniform(-1,1,nDims)\n",
    "        d = d * self.myDims #project onto the dimensions I can move\n",
    "        dn = np.linalg.norm(d)\n",
    "        if dn==0: print(\"divide by zero (dn)\")\n",
    "        #distance moved should be poisson distribution, rn its just my speed\n",
    "        distance = travelDistance(self.speed) * nDims\n",
    "        d = d / dn * distance\n",
    "#         print('considering moving '+str(d) + ' from '+str(self.r))\n",
    "        candidateSolution = asParameters((self.rNorm + d)*scalingVector)\n",
    "        candidateSolution = constrain(candidateSolution,self.myDims)\n",
    "        \n",
    "        acceptsNewSolution = self.evaluate(candidateSolution,soBias,groupConformityBias,teamPosition=teamPosition)\n",
    "        if acceptsNewSolution: \n",
    "            self.moveTo(asVector(candidateSolution))\n",
    "            return True\n",
    "        self.score = self.f()\n",
    "        return False\n",
    "\n",
    "    def moveTo(self, r):\n",
    "        self.r = r\n",
    "        self.rNorm = self.r / scalingVector\n",
    "        self.params = asParameters(self.r)\n",
    "        self.score = self.f()\n",
    "        self.memory.append(Solution(self.r,self.score,self.id,type(self)))\n",
    "        self.nmoves += 1\n",
    "        \n",
    "    def startAt(self,position):\n",
    "        self.r = position\n",
    "        self.rNorm = self.r / scalingVector\n",
    "        self.params = asParameters(self.r)\n",
    "        self.memory = [Solution(r=self.r,score=self.f(),owner_id=self.id,agent_class=type(self))]\n",
    "\n",
    "    def wantsToTalk(self,pComm):\n",
    "        if(np.random.uniform() < pComm):\n",
    "            return True\n",
    "        return False\n",
    "    \n",
    "    def getBestScore(self):\n",
    "        bestScore = self.score\n",
    "        for s in self.memory:\n",
    "            if s.score < bestScore:\n",
    "                bestScore = s.score\n",
    "        return bestScore\n",
    "    \n",
    "    def getBestSolution(self):\n",
    "        bestSolution = self.memory[0]\n",
    "        for m in self.memory:\n",
    "            if m.score < bestSolution.score:\n",
    "                bestSolution = m\n",
    "        return bestSolution\n",
    "    \n",
    "    def soBias(self,currentPosition,candidatePosition): #influences preference for new solutions, f(A-I)\n",
    "        #positions should be given as NORMALIZED positions on unit cube! \n",
    "        soNorm = normalizedSO(self.kai.SO) #normalized score for Sufficiency of Originality\n",
    "        memSize = len(self.memory) \n",
    "        if memSize < 2: return 0 #we don't have enough places be sticking around them\n",
    "        \n",
    "        candidateDirection = candidatePosition - currentPosition #in unit cube space\n",
    "        \n",
    "        memDirection = 0 # what is the direction of past solns from current soln?\n",
    "        weights = memoryWeightsPrimacy(memSize) #weights based on temporal order, Recency and Primacy Bias\n",
    "        for i in range(memSize-1): #don't include current soln\n",
    "            past_soln = self.memory[i]\n",
    "            pairwiseDiff = past_soln.rNorm - currentPosition\n",
    "            memDirection += pairwiseDiff * weights[i]\n",
    "        #now we see if the new solution is in the direction of the memories or away from the memories\n",
    "        paradigmRelatedness = dotNorm(memDirection, candidateDirection)\n",
    "        raw_PR_score = soNorm * (paradigmRelatedness + 0) #shifting the x intercept #biasOfSO(PR,soNorm)\n",
    "        sufficiency_of_originality = raw_PR_score*SO_STRENGTH #the agent should have a memory of their path & interactions\n",
    "            \n",
    "        return sufficiency_of_originality\n",
    "    \n",
    "    def groupConformityBias(self,teamPosition,currentPosition,candidatePosition): #influences preference for new solutions, f(A-I)\n",
    "        rgNorm = normalizedRG(self.kai.RG) #normalized score for Rule/Group Conformity\n",
    "        candidateDirection = candidatePosition - currentPosition \n",
    "        \n",
    "        #all teammates have equal weight\n",
    "        teamDirection = teamPosition - currentPosition\n",
    "\n",
    "        #now we see if the new solution is in the direction of the team or away from the team\n",
    "        groupConformity = dotNorm(teamDirection, candidateDirection)\n",
    "        nominalGC = 0 #can change intercept with -0 (using dot product of direction,so is perpendicular the null case?)\n",
    "        groupConformityBias = (groupConformity-nominalGC)*rgNorm*RG_STRENGTH \n",
    "        return groupConformityBias\n",
    "    \n",
    "    def evaluate(self,candidateSolution,soBias=False,groupConformityBias=False,teamPosition=None): #implements simulated annealing greediness\n",
    "        candidateSolutionNorm = asVector(candidateSolution) / scalingVector\n",
    "        candidateScore = self.fr(candidateSolution)\n",
    "        if soBias:\n",
    "            candidateScore += self.soBias(self.rNorm,candidateSolutionNorm)\n",
    "        if groupConformityBias:\n",
    "            gcB = self.groupConformityBias(teamPosition,self.rNorm,candidateSolutionNorm)\n",
    "            candidateScore += gcB\n",
    "        #if better solution, accept\n",
    "        if candidateScore < self.score:\n",
    "            return True\n",
    "        #accept worse solution with some probability, according to exp((old-new )/temp)\n",
    "        elif pickWorseScore(self.score,candidateScore,self.temp):\n",
    "            self.score = candidateScore #(its worse, but we go there anyways)\n",
    "            return True              \n",
    "        return False\n",
    "    \n",
    "    \n",
    "#Solutions are objects\n",
    "class Solution():\n",
    "    def __init__(self, r,  score, owner_id=None, agent_class=None):\n",
    "        self.r = cp(r)\n",
    "        self.rNorm = self.r / scalingVector\n",
    "        self.score = cp(score)\n",
    "        self.owner_id = cp(owner_id)\n",
    "        self.agent_class = cp(agent_class)\n",
    "        \n",
    "#KAI scores are objects \n",
    "class KAIScore():\n",
    "    def __init__(self,subscores=None):\n",
    "        if subscores is None:\n",
    "            subscores = makeKAI(1,True)\n",
    "        self.KAI = subscores.KAI\n",
    "        self.SO = subscores.SO\n",
    "        self.E = subscores.E\n",
    "        self.RG = subscores.RG\n",
    "    \n",
    "#subclasses (Types) of Agents\n",
    "class carDesigner(Agent):\n",
    "    def __init__(self, id=-1):\n",
    "        Agent.__init__(self,id)\n",
    "        self.myDims = [1 for t in paramsDF.team ] #owns all dimensions by default\n",
    "#         self.params = startParams() ##these already set in class Agent()\n",
    "#         self.r = asVector(params)\n",
    "#         self.rNorm = self.r / scalingVector\n",
    "         \n",
    "    def f(self):\n",
    "        return objective(self.params,weightsCustom)\n",
    "    def fr(self,params):\n",
    "        return objective(params,weightsCustom)\n",
    "    \n",
    "class cabinPerson(Agent):\n",
    "    def __init__(self, id=-1):\n",
    "        Agent.__init__(self,id)\n",
    "        self.myDims = [( 1 if t == \"c\" else 0 ) for t in paramsDF.team ]\n",
    "#         self.r = np.random.uniform(-1*startRange,startRange,nDims)\n",
    "        self.params = startParams() # asParameters(self.r)\n",
    "        \n",
    "    def f(self):\n",
    "        return objective(self.params,weightsCustom)\n",
    "    def fr(self,params):\n",
    "        return objective(params,weightsCustom)\n",
    "    \n",
    "# class Steinway(Agent): #tuneable roughness\n",
    "#     def __init__(self, id=-1):\n",
    "#         Agent.__init__(self,id)\n",
    "#         self.myDims = np.ones(nDims)\n",
    "#         self.r = np.random.uniform(-1*startRange,startRange,nDims)\n",
    "        \n",
    "#     def f(self):\n",
    "#         return testy(self.r,ROUGHNESS)\n",
    "#     def fr(self,r):\n",
    "#         return testy(r,ROUGHNESS)\n",
    "\n",
    "# class LewisMultiDim(Agent): #objective is beauty\n",
    "#     def __init__(self,id=-1):\n",
    "#         Agent.__init__(self,id)\n",
    "#         self.myDims = np.ones(nDims) #logical vector, LewD controls/varies x0 AND x1\n",
    "        \n",
    "#     def f(self):\n",
    "#         return ellipsoid(self.r)\n",
    "#     def fr(self,r):\n",
    "#         return ellipsoid(r)\n",
    "\n",
    "def tryToShare(a1,a2):\n",
    "    deltaAi = abs(a1.kai.KAI - a2.kai.KAI) #harder to communicate above 20, easy below 10\n",
    "    successful =  tryComm(deltaAi)\n",
    "    if successful: #in share(), agents might adopt a better solution depending on their temperature\n",
    "        share(a1,a2) if complexSharing else shareBasic(a1,a2)\n",
    "        return True\n",
    "    return False\n",
    "  \n",
    "def shareBasic(a1,a2): #agents always go to better solution\n",
    "    if a1.score < a2.score:\n",
    "        a2.moveTo(a1.r)\n",
    "    elif a2.score < a1.score:\n",
    "        a1.moveTo(a2.r)\n",
    "    return True\n",
    "\n",
    "def share(a1,a2): #agent chooses whether to accept new solution or not, holistic NOTTTTTT dimension by dimension\n",
    "    copyOfA1 = cp(a1)\n",
    "    considerSharedSoln(a1,a2)\n",
    "    considerSharedSoln(a2,copyOfA1) #so they could theoretically swap positions...\n",
    "    return True\n",
    "\n",
    "def considerSharedSoln(me,sharer): #,dim): #will only move (jump) in the dimensions that sharer controls\n",
    "#         candidateSoln = me.r #other dimensions won't change\n",
    "#         candidateSoln[dim] = sharer.r[dim] #tells a1 where to go in This [i] dimension only\n",
    "        candidateSolution = sharer.params\n",
    "        candidateScore = me.fr(candidateSolution)\n",
    "        myScore = me.score - selfBias #improve my score by selfBias\n",
    "        #Quality Bias Reduction? would go here\n",
    "        if(candidateScore<myScore):\n",
    "            if not pickWorseScore(candidateScore,myScore,me.temp): #sometimes choose better, not always\n",
    "                me.moveTo(asVector(candidateSolution))  #(but never take a worse score from a teammate)\n",
    "#                 me.speed = me.startSpeed\n",
    "#                 me.temp = me.startTemp # !! CHRIS trying somethign new here: restart temp at teammate's soln\n",
    "constructor = carDesigner"
   ]
  },
  {
   "cell_type": "code",
   "execution_count": 88,
   "metadata": {},
   "outputs": [],
   "source": [
    "# commBonus = 0\n",
    "# commRange = 200\n",
    "def tryComm(deltaAi):\n",
    "    c = np.random.uniform(commBonus,commBonus+commRange) #increasing commBonus makes sharing easier \n",
    "    return (deltaAi < c )"
   ]
  },
  {
   "cell_type": "code",
   "execution_count": 591,
   "metadata": {},
   "outputs": [],
   "source": [
    "class Team(): #a group of agents working on the same dimension and objective function\n",
    "    def __init__(self, nAgents, agentConstructor, dimensions = np.ones(nDims), specializations = None, temp=None,speed=None,aiScore=None,aiRange=None,startPositions=None):\n",
    "        self.agents = []\n",
    "        self.dimensions = dimensions\n",
    "        if (aiScore is not None) and (aiRange is not None):\n",
    "            minScore = np.max([40, aiScore-aiRange/2.0])\n",
    "            maxScore = np.min([150,aiScore+aiRange/2.0])\n",
    "            aiScores = np.linspace(minScore,maxScore,nAgents)\n",
    "            np.random.shuffle(aiScores) #randomly assign these to agents, not in order...\n",
    "            #or we could try putting them in subteams according to a rule:\n",
    "            \n",
    "        for i in range(nAgents):\n",
    "            a = agentConstructor(id = i)\n",
    "            if startPositions is not None:\n",
    "                a.startAt(startPositions[i])\n",
    "            if (aiScore is not None) and (aiRange is not None):\n",
    "                aiScore = aiScores[i]\n",
    "                a.kai = findAiScore(aiScore)\n",
    "                a.speed = bounds(AVG_SPEED + normalizedAI(a.kai.KAI) * SD_SPEED, MIN_SPEED ,np.inf)\n",
    "                a.temp = bounds(AVG_TEMP + normalizedE(a.kai.E) * SD_TEMP, 0 ,np.inf)\n",
    "            if speed is not None:\n",
    "                a.speed = speed\n",
    "            if temp is not None:\n",
    "                a.temp = temp\n",
    "            a.startSpeed = a.speed\n",
    "            a.startTemp = a.temp\n",
    "            a.myDims = dimensions #default: all dimensions owned by every agent\n",
    "            self.agents.append(a)\n",
    "        self.nAgents = nAgents\n",
    "        aiScores = [a.kai.KAI for a in self.agents]\n",
    "        self.dAI = np.max(aiScores)- np.min(aiScores)\n",
    "        self.nMeetings = 0\n",
    "        self.shareHistory = []\n",
    "        self.nTeamMeetings = 0\n",
    "        self.subTeamMeetings = 0\n",
    "        \n",
    "        self.scoreHistory = []\n",
    "        \n",
    "        #if there are subteams owning certain dimensions, each subteams dimensions are listed in a matrix\n",
    "        self.specializations = specializations\n",
    "        \n",
    "#         #we should give them same position in the dimensions they don't control\n",
    "#         a0 = self.agents[0]\n",
    "#         for i in range(len(a0.myDims)):\n",
    "#             if not a0.myDims[i]:  #this isn't our dimension to control\n",
    "#                 for a in self.agents: \n",
    "#                     a.r[i] = a0.r[i] \n",
    "\n",
    "    def getSharedPosition(self): #this is in the normalized space\n",
    "        positions = np.array([a.rNorm for a in self.agents])\n",
    "        return [np.mean(positions[:,i]) for i in range(len(positions[0]))]\n",
    "    \n",
    "    def getSubTeamPosition(self,team): #this is in the normalized space\n",
    "        positions = np.array([a.rNorm for a in self.agents if a.team == team])\n",
    "        return [np.mean(positions[:,i]) for i in range(len(positions[0]))]\n",
    "    \n",
    "    def getBestScore(self):\n",
    "        return np.min([a.getBestScore() for a in self.agents])\n",
    "    \n",
    "    def getBestSolution(self):\n",
    "        allSolns = [a.getBestSolution() for a in self.agents]\n",
    "        allScores = [s.score for s in allSolns]\n",
    "        return allSolns[np.argmin(allScores)]\n",
    "    \n",
    "    def getBestTeamSolution(self,team=-1): #returns a Solution object \n",
    "        bestIndividualSolns = [a.getBestSolution() for a in self.agents if a.team == team ]\n",
    "        bestScoreLocation = np.argmin([s.score for s in bestIndividualSolns])\n",
    "        return bestIndividualSolns[bestScoreLocation]\n",
    "    \n",
    "    def haveMeetings(self,talkers):\n",
    "        nMeetings = 0\n",
    "        for i in np.arange(0,len(talkers)-1,2):\n",
    "            #if you don't have a partner, you don't talk to anyone?\n",
    "            #this needs to be adjusted\n",
    "            a1 = talkers[i]\n",
    "            a2 = talkers[i+1]\n",
    "            didShare = tryToShare(a1,a2)\n",
    "            if didShare: \n",
    "#                 print(str(a1.id) + ' and '+str(a2.id)+' shared!')\n",
    "                nMeetings +=1\n",
    "        self.nMeetings += nMeetings\n",
    "        self.shareHistory.append(nMeetings)\n",
    "        return nMeetings\n",
    "    \n",
    "    def haveTeamMeeting(self):\n",
    "        #they all go to the best position of the group\n",
    "        bestSolution = self.agents[0].getBestSolution()\n",
    "        for a in self.agents:\n",
    "            agentBest = a.getBestSolution()\n",
    "            if agentBest.score < bestSolution.score:\n",
    "                bestSolution = agentBest\n",
    "        #now move all agents to this position\n",
    "        for a in self.agents:\n",
    "            a.moveTo(bestSolution.r)\n",
    "            \n",
    "        return bestSolution\n",
    "    \n",
    "    def haveSubTeamMeeting(self,team,gap=False):\n",
    "        #they all go to the best position of their specialized team\n",
    "        teamAgents = [a for a in self.agents if a.team == team]\n",
    "        if gap: #the meeting might fail if the cognitive style gap is large\n",
    "            #take the KAI differences of the team into account\n",
    "            kaiScores = [a.kai.KAI for a in teamAgents]\n",
    "            deltaAi = max(kaiScores) - min(kaiScores) #hard to communicate above 20, easy below 10\n",
    "            successful =  tryComm(deltaAi)\n",
    "            if not successful: #in share(), agents might adopt a better solution depending on their temperature\n",
    "                return None  #our cognitive style gap caused the meeting to fail (only if complexSharing=True)\n",
    "        #ok, phew, we have a successful meeting despite any cognitive gap:\n",
    "        bestSolution = teamAgents[0].getBestSolution()\n",
    "        for a in teamAgents:\n",
    "            agentBest = a.getBestSolution()\n",
    "            if agentBest.score < bestSolution.score:\n",
    "                bestSolution = agentBest\n",
    "        #now move all agents to this position\n",
    "        for a in teamAgents:\n",
    "            a.moveTo(bestSolution.r)\n",
    "            \n",
    "        return bestSolution\n",
    "    \n",
    "    def haveInterTeamMeeting(self): #when you have teams of teams\n",
    "        consensusPosition = np.zeros(nDims)\n",
    "        #get the best solution from each specialized subteam, and extract their specialized dimensions \n",
    "        for team in range(len(self.specializations)):\n",
    "            bestTeamSoln = self.getBestTeamSolution(team)\n",
    "            specializedInput = bestTeamSoln.r * self.specializations[team]\n",
    "            consensusPosition += specializedInput\n",
    "        consensusPositionP = constrain(asParameters(consensusPosition))\n",
    "        consensusPosition = asVector(consensusPositionP)\n",
    "        consensusScore = self.agents[0].fr(consensusPositionP)\n",
    "        #now move all agents to this position\n",
    "        for a in self.agents:\n",
    "            a.moveTo(consensusPosition)\n",
    "        \n",
    "        self.nTeamMeetings += 1\n",
    "        return [consensusScore, consensusPosition]\n",
    "    \n",
    "    \n",
    "    def step(self,pComm,showViz=False,soBias=False,groupConformityBias=False):\n",
    "        #what happens during a turn for the team? \n",
    "        #each agents can problem solve or interact (for now, inside team)\n",
    "        talkers = []\n",
    "        for a in self.agents:\n",
    "            if a.wantsToTalk(pComm):\n",
    "                talkers.append(a)\n",
    "            else: #CHANGE: #CHRIS I'm going to make getSharedPosition look only at your subteam members\n",
    "                teamPosition = self.getSubTeamPosition(a.team) if groupConformityBias else None #position is on unit cube\n",
    "                didMove = a.move(soBias=soBias,groupConformityBias = groupConformityBias, teamPosition=teamPosition)\n",
    "        if len(talkers)%2>0: #odd number, have last one explore instead of share\n",
    "            a = talkers.pop()\n",
    "            didMove = a.move(soBias=soBias,groupConformityBias = groupConformityBias, teamPosition=teamPosition)\n",
    "        nMeetings = self.haveMeetings(talkers)\n",
    "#         print(\"number of successful meetings: \"+str(nMeetings))\n",
    "        \n",
    "#         if showViz:\n",
    "#             self.plotPositions()\n",
    "        \n",
    "        self.updateTempSpeed()\n",
    "            \n",
    "        return nMeetings\n",
    "    \n",
    "    def updateTempSpeed(self):\n",
    "        for a in self.agents:\n",
    "            a.temp *= a.decay\n",
    "            a.speed *= a.decay\n",
    "            \n",
    "        \n",
    "    def plotPositions(self):\n",
    "        xs = [a.r[0] for a in self.agents]\n",
    "        ys = [a.r[1] for a in self.agents]\n",
    "        cs = [aiColor(a.kai.KAI) for a in self.agents]\n",
    "        plt.scatter(xs,ys, c=cs)\n",
    "#         teamPosition = self.getSharedPosition()\n",
    "#         plt.scatter(teamPosition[0],teamPosition[1],c='orange')\n",
    "        \n",
    "                "
   ]
  },
  {
   "cell_type": "markdown",
   "metadata": {},
   "source": [
    "## Tune Comm Bonus"
   ]
  },
  {
   "cell_type": "code",
   "execution_count": 90,
   "metadata": {},
   "outputs": [
    {
     "data": {
      "image/png": "[encoded data removed]",
      "text/plain": [
       "<Figure size 432x288 with 1 Axes>"
      ]
     },
     "metadata": {
      "image/png": {
       "height": 263,
       "width": 387
      }
     },
     "output_type": "display_data"
    }
   ],
   "source": [
    "deltaAis = np.linspace(0,100,100)\n",
    "# pSuccess = []\n",
    "# for deltaAi in deltaAis: #hard to communicate above 20, easy below 10\n",
    "#     successful = []\n",
    "#     for i in range(1000):\n",
    "#         successful.append(tryComm(deltaAi))\n",
    "#     pSuccess.append(np.mean(successful))\n",
    "theoreticalP = [min(1 - (d-10)/170,1) for d in deltaAis]\n",
    "plt.plot(deltaAis,theoreticalP)\n",
    "# plt.plot(deltaAis,pSuccess)\n",
    "plt.xlabel(\"difference in KAI\")\n",
    "plt.ylabel(\"probability that communication succeeds\")\n",
    "plt.savefig(\"./figs/successfullP.pdf\")"
   ]
  },
  {
   "cell_type": "code",
   "execution_count": 91,
   "metadata": {},
   "outputs": [],
   "source": [
    "# nAgents = 22\n",
    "# steps = 1\n",
    "# teamDims, agentTeams = saeTeams(nAgents)\n",
    "# team = teamWorkSpecialized(nAgents,constructor,teamDims,agentTeams,showViz=showViz,speed=None,pComm=pComm,steps=steps,groupConformityBias=True,soBias=True,aiScore=aiScore,aiRange=aiRange)\n",
    "\n",
    "# print(team.agents[0].score)\n",
    "# print(team.agents[11].score)\n",
    "# print(team.getBestScore())\n",
    "# team.haveSubTeamMeeting(0)\n",
    "# print(team.agents[0].score)\n",
    "# print(team.agents[11].score)\n",
    "# print(team.getBestScore())"
   ]
  },
  {
   "cell_type": "markdown",
   "metadata": {},
   "source": [
    "# Individual Exploration"
   ]
  },
  {
   "cell_type": "code",
   "execution_count": 92,
   "metadata": {},
   "outputs": [],
   "source": [
    "# def work(AgentConstructor,steps=100,ai=None,temp=None, speed=None, showViz=False, soBias=False, groupConformityBias = False, color = 'red',startPosition = None,teamPosition=None):    \n",
    "#     a = AgentConstructor()\n",
    "#     if ai is not None:\n",
    "#         a.kai = findAiScore(ai)\n",
    "#         self.speed = bounds(AVG_SPEED + normalizedAI(self.kai.KAI) * SD_SPEED, MIN_SPEED ,np.inf)\n",
    "#         self.temp = bounds(AVG_TEMP + normalizedE(self.kai.E) * SD_TEMP, 0 ,np.inf)\n",
    "#     if startPosition is not None:\n",
    "#         a.startAt(startPosition)\n",
    "#     if temp is not None:\n",
    "#         a.temp = temp\n",
    "#     if speed is not None:\n",
    "#         a.speed = speed\n",
    "    \n",
    "#     a.decay = calculateAgentDecay(a, steps)\n",
    "\n",
    "#     scores = []\n",
    "#     shareSuccess = []          \n",
    "\n",
    "#     for i in range(steps):\n",
    "#         didMove = a.move(soBias=soBias,groupConformityBias = groupConformityBias,teamPosition = teamPosition)\n",
    "#         if didMove:\n",
    "#             scores.append(copy.deepcopy(a.score))\n",
    "#             if(showViz and a.nmoves>0):\n",
    "# #                     plt.scatter(a.rNorm[0],a.rNorm[1],c=color)\n",
    "#                 plt.scatter(a.rNorm[0],a.score,c=color)\n",
    "#         a.speed *= a.decay\n",
    "#         a.temp *= a.decay\n",
    "\n",
    "#     return a"
   ]
  },
  {
   "cell_type": "markdown",
   "metadata": {},
   "source": [
    "# Team Work"
   ]
  },
  {
   "cell_type": "code",
   "execution_count": 844,
   "metadata": {},
   "outputs": [],
   "source": [
    "# meetingTimes = 20\n",
    "def teamWork(teamSize,agentConstructor, pComm, steps=100, soBias=False,groupConformityBias=False, speed=None, temp=None, showViz=False,aiScore=None,aiRange=None,startPositions=None):\n",
    "    meetingTotals = []\n",
    "    squad = Team(teamSize,agentConstructor,temp=temp,speed=speed,aiScore=aiScore,aiRange=aiRange,startPositions=startPositions)\n",
    "    for a in squad.agents:\n",
    "        a.decay = calculateAgentDecay(a,steps)\n",
    "    \n",
    "    meetingTotal = 0\n",
    "    i = 0\n",
    "    while i < steps:\n",
    "        meetingTotal += squad.step(pComm,showViz,soBias,groupConformityBias) \n",
    "#         if showViz: \n",
    "#             rGroup = squad.getSharedPosition()\n",
    "#             plt.scatter(rGroup[0],rGroup[1],marker='o',s=100,c='black')\n",
    "        \n",
    "        if (i+1)%meetingTimes == 0: \n",
    "            squad.haveTeamMeeting()\n",
    "            squad.nTeamMeetings +=1\n",
    "            i += TEAM_MEETING_COST\n",
    "            if(showViz): \n",
    "                plt.show()\n",
    "        i += 1\n",
    "    if showViz: plt.show()\n",
    "    meetingTotals.append(meetingTotal)\n",
    "    \n",
    "    return squad\n",
    "\n",
    "# meetingTimes = 20\n",
    "def teamWorkSpecialized(teamSize,agentConstructor,teamSpecializations,agentTeams, pComm, steps=100, soBias=False,groupConformityBias=False, speed=None, temp=None, showViz=False,aiScore=None,aiRange=None,startPositions=None):\n",
    "    np.random.seed()\n",
    "    meetingTotals = []\n",
    "    squad = Team(teamSize,agentConstructor,temp=temp,speed=speed,aiScore=aiScore,aiRange=aiRange,startPositions=startPositions,specializations = teamSpecializations)\n",
    "    for i in range(len(squad.agents)):\n",
    "        a = squad.agents[i]\n",
    "        aTeam = agentTeams[i]\n",
    "        a.team = aTeam\n",
    "        a.myDims = teamSpecializations[aTeam]\n",
    "        a.decay = calculateAgentDecay(a,steps)\n",
    "    \n",
    "    meetingTotal = 0\n",
    "    i = 0 #not for loop bc we need to increment custom ammounts inside loop\n",
    "    while i < steps:\n",
    "#                 pCi = pComm #*(i/steps) #we can make them wait until later to communicate\n",
    "        meetingTotal += squad.step(0,showViz,soBias,groupConformityBias)  #putting 0 for pComm here!\n",
    "        score = squad.getBestScore()\n",
    "        squad.scoreHistory.append(score)\n",
    "        if showViz: \n",
    "            plt.scatter(i,score,marker='o',s=100,c='black')\n",
    "        \n",
    "        if (i+1)%meetingTimes == 0: \n",
    "            squad.haveInterTeamMeeting()\n",
    "            squad.nTeamMeetings +=1\n",
    "            i += TEAM_MEETING_COST\n",
    "#             if showViz: \n",
    "#                 plt.show()\n",
    "\n",
    "        #use pComm for subTeam meetings instead of pair meetings\n",
    "        for team in range(len(squad.specializations)): \n",
    "            if pComm > np.random.uniform(): #on any step there is some chance of having a meeting\n",
    "                squad.haveSubTeamMeeting(team,gap=complexSharing)\n",
    "                squad.subTeamMeetings += 1\n",
    "        i += 1\n",
    "    if showViz: plt.show()\n",
    "    meetingTotals.append(meetingTotal)\n",
    "    \n",
    "    return squad\n",
    "\n",
    "def teamWorkSharing(teamSize,agentConstructor,teamSpecializations,agentTeams, pComm, steps=100, soBias=False,groupConformityBias=False, speed=None, temp=None, showViz=False,aiScore=None,aiRange=None,startPositions=None, curatedTeams=False,pCommTime = pCommTime):\n",
    "    np.random.seed()\n",
    "    squad = Team(teamSize,agentConstructor,temp=temp,speed=speed,aiScore=aiScore,aiRange=aiRange,startPositions=startPositions,specializations = teamSpecializations)\n",
    "    \n",
    "    for i in range(len(squad.agents)):\n",
    "        a = squad.agents[i]\n",
    "        aTeam = agentTeams[i]\n",
    "        a.team = aTeam\n",
    "        a.myDims = teamSpecializations[aTeam]\n",
    "        a.decay = calculateAgentDecay(a,steps)\n",
    "    if curatedTeams:\n",
    "        for team in range(len(teamSpecializations)):\n",
    "            teamAgents=[a for a in squad.agents if a.team == team]\n",
    "            for i in range(len(teamAgents)):\n",
    "                myKai = aiScore - aiRange/2.0 + aiRange*(float(i)/(len(teamAgents)-1)) \n",
    "                a= teamAgents[i]\n",
    "                a.kai = findAiScore(myKai)\n",
    "                           \n",
    "    i = 0 #not for loop bc we need to increment custom ammounts inside loop\n",
    "    while i < steps:\n",
    "        pCommT = pComm\n",
    "        if pCommTime is not None:\n",
    "            timeFraction = float(i)/steps\n",
    "            pCommT = pComm * pCommTime[int(timeFraction*len(pCommTime))]\n",
    "        squad.nMeetings += squad.step(pCommT,showViz,soBias,groupConformityBias) \n",
    "        score = squad.getBestScore()\n",
    "        squad.scoreHistory.append(score)\n",
    "        if showViz: \n",
    "            plt.scatter(i,score,marker='o',s=100,c='black')\n",
    "        \n",
    "        if (i+1)%meetingTimes == 0 and float(i)/steps > startHavingMeetings:  #start having meetings later on?\n",
    "            squad.haveInterTeamMeeting()\n",
    "            squad.nTeamMeetings +=1\n",
    "            i += TEAM_MEETING_COST\n",
    "#             if showViz: \n",
    "#                 plt.show()\n",
    "        i += 1\n",
    "    if showViz: plt.show()\n",
    "    \n",
    "    return squad"
   ]
  },
  {
   "cell_type": "code",
   "execution_count": 175,
   "metadata": {},
   "outputs": [],
   "source": [
    "#define the team specializations and assign agents to teams\n",
    "def specializedTeams(nAgents,nDims,nTeams):\n",
    "    teamDimensions = np.array([[1 if t%nTeams == dim%nTeams else 0 for dim in range(nDims)] for t in range(nTeams)])\n",
    "    agentTeams = np.array([a%nTeams for a in range(nAgents)])\n",
    "    return teamDimensions, agentTeams\n",
    "\n",
    "teams = ['brk', 'c', 'e', 'ft', 'fw', 'ia','fsp','rsp', 'rt', 'rw', 'sw']\n",
    "teamsDict = { i:teams[i] for i in range(10)}\n",
    "paramTeams = paramsDF.team\n",
    "nTeams = len(teams)\n",
    "teamDimensions_CONST = [[ 1 if paramTeam == thisTeam else 0 for paramTeam in paramTeams] for thisTeam in teams]\n",
    "    \n",
    "def saeTeams(nAgents):\n",
    "    for i in range(nAgents):\n",
    "        agentTeams = np.array([a%nTeams for a in range(nAgents)])\n",
    "    return agentTeams"
   ]
  },
  {
   "cell_type": "code",
   "execution_count": 95,
   "metadata": {},
   "outputs": [],
   "source": [
    "def showScoreHistory(agent):\n",
    "    mem = agent.memory\n",
    "    for i in range(len(mem)):\n",
    "        m = mem[i]\n",
    "        plt.scatter(i,m.score,c='b')\n",
    "    plt.show()\n",
    "def showPath(agents):\n",
    "    for agent in agents:\n",
    "        mem = agent.memory\n",
    "        dims = [i for i in range(len(agent.myDims)) if agent.myDims[i]>0]\n",
    "        x = []\n",
    "        y = []\n",
    "        for i in range(len(mem)):\n",
    "            m = mem[i]\n",
    "            x.append(m.r[dims[0]])\n",
    "            y.append(m.r[dims[1]])\n",
    "        plt.scatter(x,y,c=aiColor(agent.kai.KAI))\n",
    "        plt.xlabel(paramsDF.name[dims[0]])\n",
    "        plt.ylabel(paramsDF.name[dims[1]])\n",
    "        plt.scatter(agent.r[dims[0]],agent.r[dims[1]],marker='x',s=100,c=aiColor(agent.kai.KAI))\n",
    "    plt.show()\n",
    "# a0 = team.agents[9]\n",
    "# showScoreHistory(a0)\n",
    "# a0.myDims"
   ]
  },
  {
   "cell_type": "code",
   "execution_count": 752,
   "metadata": {},
   "outputs": [],
   "source": [
    "#set standard Parameters\n",
    "def resetDefaultParameters():\n",
    "    global complexSharing\n",
    "    complexSharing = True #if False, shareBasic() is used, eg strictly-greedy one-dimension jump \n",
    "    global commBonus\n",
    "    commBonus = 10 #increasing the communication bonus makes successful communication more likely\n",
    "    global commRange\n",
    "    commRange = 180\n",
    "    global pCommTime\n",
    "    pCommTime = None\n",
    "    global selfBias\n",
    "    selfBias = 0 #increasing self bias will make agents choose their solutions more over others\n",
    "    global startRange\n",
    "    startRange = 10\n",
    "    global nDims\n",
    "    nDims = 56\n",
    "\n",
    "    global SO_STRENGTH\n",
    "    SO_STRENGTH = 10\n",
    "    global RG_STRENGTH\n",
    "    RG_STRENGTH = 10\n",
    "    global TEAM_MEETING_COST\n",
    "    TEAM_MEETING_COST = 1 #1 turn\n",
    "\n",
    "    global VERBOSE\n",
    "    VERBOSE = False\n",
    "    global showViz\n",
    "    showViz = False\n",
    "\n",
    "    global AVG_SPEED\n",
    "    AVG_SPEED = 7.0E-3\n",
    "    global SD_SPEED\n",
    "    SD_SPEED = 7.0E-4\n",
    "    global MIN_SPEED\n",
    "    MIN_SPEED = 1.0E-4\n",
    "    global AVG_TEMP\n",
    "    AVG_TEMP = 1\n",
    "    global SD_TEMP\n",
    "    SD_TEMP = 0.8\n",
    "    \n",
    "    global steps\n",
    "    steps = 500 #0 #100\n",
    "    global nAgents\n",
    "    nAgents = 33\n",
    "    global carDesigner\n",
    "    constructor = carDesigner\n",
    "#     global teamDims\n",
    "#     teamDims = [[ 1 if paramTeam == thisTeam else 0 for paramTeam in paramTeams] for thisTeam in teams]\n",
    "#     global agentTeams\n",
    "#     agentTeams = saeTeams(33)#[[ 1 if paramTeam == thisTeam else 0 for paramTeam in paramTeams] for thisTeam in teams]\n",
    "\n",
    "    global pComm\n",
    "    pComm = 0.2\n",
    "    global meetingTimes\n",
    "    meetingTimes = steps #have one meeting at the end"
   ]
  },
  {
   "cell_type": "markdown",
   "metadata": {},
   "source": [
    "# visualize the solution?"
   ]
  },
  {
   "cell_type": "code",
   "execution_count": null,
   "metadata": {},
   "outputs": [],
   "source": [
    "# team0 = teamWorkSharing(nAgents,constructor,teamDims,agentTeams,showViz=showViz,speed=None,pComm=pComm,steps=steps,groupConformityBias=True,soBias=True,aiScore=aiScore,aiRange=aiRange)\n",
    "s0 = team0.getBestSolution()\n",
    "carDesign = asParameters(s0.r)"
   ]
  },
  {
   "cell_type": "code",
   "execution_count": 98,
   "metadata": {},
   "outputs": [
    {
     "ename": "NameError",
     "evalue": "name 'carDesign' is not defined",
     "output_type": "error",
     "traceback": [
      "\u001b[0;31m---------------------------------------------------------------------------\u001b[0m",
      "\u001b[0;31mNameError\u001b[0m                                 Traceback (most recent call last)",
      "\u001b[0;32m<ipython-input-98-997ebdf3b7b9>\u001b[0m in \u001b[0;36m<module>\u001b[0;34m()\u001b[0m\n\u001b[0;32m----> 1\u001b[0;31m \u001b[0mprint\u001b[0m\u001b[0;34m(\u001b[0m\u001b[0;34m\"cabin len, m: \"\u001b[0m \u001b[0;34m+\u001b[0m\u001b[0mstr\u001b[0m\u001b[0;34m(\u001b[0m\u001b[0mcarDesign\u001b[0m\u001b[0;34m.\u001b[0m\u001b[0mlc\u001b[0m\u001b[0;34m)\u001b[0m\u001b[0;34m)\u001b[0m\u001b[0;34m\u001b[0m\u001b[0m\n\u001b[0m\u001b[1;32m      2\u001b[0m \u001b[0mprint\u001b[0m\u001b[0;34m(\u001b[0m\u001b[0;34m\"front wing angle, deg: \"\u001b[0m \u001b[0;34m+\u001b[0m\u001b[0mstr\u001b[0m\u001b[0;34m(\u001b[0m\u001b[0mcarDesign\u001b[0m\u001b[0;34m.\u001b[0m\u001b[0mafw\u001b[0m\u001b[0;34m*\u001b[0m\u001b[0;36m180\u001b[0m\u001b[0;34m/\u001b[0m\u001b[0mnp\u001b[0m\u001b[0;34m.\u001b[0m\u001b[0mpi\u001b[0m\u001b[0;34m)\u001b[0m\u001b[0;34m)\u001b[0m\u001b[0;34m\u001b[0m\u001b[0m\n",
      "\u001b[0;31mNameError\u001b[0m: name 'carDesign' is not defined"
     ]
    }
   ],
   "source": [
    "print(\"cabin len, m: \" +str(carDesign.lc))\n",
    "print(\"front wing angle, deg: \" +str(carDesign.afw*180/np.pi))"
   ]
  },
  {
   "cell_type": "code",
   "execution_count": 99,
   "metadata": {},
   "outputs": [],
   "source": [
    "p = startParams()"
   ]
  },
  {
   "cell_type": "code",
   "execution_count": 100,
   "metadata": {},
   "outputs": [
    {
     "name": "stdout",
     "output_type": "stream",
     "text": [
      "random start point:\n",
      "cabin len, m: 1.525\n",
      "front wing angle, deg: 22.96603615023486\n"
     ]
    }
   ],
   "source": [
    "print(\"random start point:\")\n",
    "print(\"cabin len, m: \" +str(p.lc))\n",
    "print(\"front wing angle, deg: \" +str(p.afw*180/np.pi))"
   ]
  },
  {
   "cell_type": "markdown",
   "metadata": {},
   "source": [
    "## Run SAE team"
   ]
  },
  {
   "cell_type": "code",
   "execution_count": 101,
   "metadata": {},
   "outputs": [],
   "source": [
    "resetDefaultParameters()"
   ]
  },
  {
   "cell_type": "code",
   "execution_count": 102,
   "metadata": {},
   "outputs": [],
   "source": [
    "# for k in range(reps):\n",
    "# #     if k%10 == 0:\n",
    "# #         startPositions = np.random.uniform(-1*startRange,startRange,[teamSize,nDims])\n",
    "#     for i in range(len(aiRanges)):\n",
    "#         aiRange = aiRanges[i]\n",
    "#         for j in range(len(aiScoresMeans)):\n",
    "#             aiScore = aiScoresMeans[j]\n",
    "#             team = teamWorkSpecialized(nAgents,constructor,teamDims,agentTeams,showViz=showViz,speed=None,pComm=pComm,steps=steps,groupConformityBias=True,soBias=True,aiScore=aiScore,aiRange=aiRange)\n",
    "#             score = team.getBestScore()\n",
    "#             scores.append(score)\n",
    "#             aiScores = [a.kai.KAI for a in team.agents]\n",
    "#             aiTeamMeans.append(np.mean(aiScores))\n",
    "#             aiTeamRange.append(np.max(aiScores) - np.min(aiScores))\n",
    "#             nMeetings.append(team.nMeetings)\n",
    "#             teamMeetings.append(team.nTeamMeetings)\n",
    "#             scoreMatrix[i,j] += score\n",
    "#             plt.clf()\n",
    "#             plt.plot(range(len(team.scoreHistory)),team.scoreHistory)\n",
    "#             plt.ylim([-3,0])\n",
    "#             plt.xlim([0,100])\n",
    "#             plt.savefig(\"./figs/teamScores_mu:\"+str(aiScore)+\"_sd:\"+str(aiRange)+\"_\"+str(timer.time())+\".pdf\")\n",
    "# #             print(team.nMeetings)\n",
    "# scoreMatrix = np.array(scoreMatrix) / reps #the average score\n",
    "# print(\"time to complete: \"+str(timer.time() - t))\n",
    "# print(\"ai ranges: \"+str(aiRanges))\n",
    "# print(\"ai means: \"+str(aiScoresMeans))\n",
    "# print(\"reps:\" +str(reps))\n",
    "# np.savetxt(\"./results/scoreMatrix_+\"+str(timer.time())+\".csv\", scoreMatrix, delimiter=\",\")"
   ]
  },
  {
   "cell_type": "markdown",
   "metadata": {},
   "source": [
    "## Use MultiProcessing for parallel computing"
   ]
  },
  {
   "cell_type": "code",
   "execution_count": 796,
   "metadata": {},
   "outputs": [],
   "source": [
    "curatedTeams = False\n",
    "def teamWorkProcess(processID):\n",
    "    np.random.seed()\n",
    "    team = teamWorkSharing(nAgents,constructor,teamDimensions_CONST,agentTeams,showViz=showViz,speed=None,pComm=pComm,steps=steps,groupConformityBias=True,soBias=True,aiScore=aiScore,aiRange=aiRange,curatedTeams=curatedTeams,pCommTime=pCommTime)\n",
    "    return team"
   ]
  },
  {
   "cell_type": "code",
   "execution_count": 104,
   "metadata": {},
   "outputs": [],
   "source": [
    "# !jupyter nbconvert --to script Chicago.ipynb"
   ]
  },
  {
   "cell_type": "markdown",
   "metadata": {},
   "source": [
    "# Problem Solving Styles and paramter tuning"
   ]
  },
  {
   "cell_type": "code",
   "execution_count": null,
   "metadata": {},
   "outputs": [],
   "source": [
    "#first: how much is their style affecting their behavior?\n",
    "resetDefaultParameters()\n",
    "t0 = timer.time()\n",
    "allTeamObjects = []\n",
    "\n",
    "reps = 1\n",
    "nAgents = 33\n",
    "agentTeams = saeTeams(nAgents)\n",
    "\n",
    "steps = 50\n",
    "aiScoresMeans = [100]\n",
    "aiRanges = [90]\n",
    "pComms = [0.2]\n",
    "meetingTimes = 10 #team meating every how many steps?\n",
    "for i in range(reps):\n",
    "    for pComm in pComms:\n",
    "        for aiScore in aiScoresMeans:\n",
    "            for aiRange in aiRanges:\n",
    "                team = teamWorkSharing(nAgents,constructor,teamDimensions_CONST,agentTeams,showViz=showViz,speed=None,pComm=pComm,steps=steps,groupConformityBias=True,soBias=True,aiScore=aiScore,aiRange=aiRange)\n",
    "                allTeamObjects.append(team)\n",
    "print(\"time to complete: \"+str(timer.time()-t0))"
   ]
  },
  {
   "cell_type": "code",
   "execution_count": 197,
   "metadata": {},
   "outputs": [
    {
     "data": {
      "text/plain": [
       "10"
      ]
     },
     "execution_count": 197,
     "metadata": {},
     "output_type": "execute_result"
    }
   ],
   "source": [
    "team0 = allTeamObjects[0]\n",
    "team0.nTeamMeetings"
   ]
  },
  {
   "cell_type": "code",
   "execution_count": 191,
   "metadata": {},
   "outputs": [
    {
     "name": "stdout",
     "output_type": "stream",
     "text": [
      "mixed team\n"
     ]
    },
    {
     "data": {
      "image/png": "[encoded data removed]",
      "text/plain": [
       "<Figure size 432x288 with 1 Axes>"
      ]
     },
     "metadata": {
      "image/png": {
       "height": 263,
       "width": 400
      }
     },
     "output_type": "display_data"
    }
   ],
   "source": [
    "team = allTeamObjects[0]\n",
    "t = 9\n",
    "a0 = team.agents[t]\n",
    "a1 = team.agents[t+11]\n",
    "a2 = team.agents[t+22]\n",
    "\n",
    "print(\"mixed team\")\n",
    "showPath([a0,a1,a2])"
   ]
  },
  {
   "cell_type": "code",
   "execution_count": null,
   "metadata": {},
   "outputs": [],
   "source": [
    "t0 = timer.time()\n",
    "resetDefaultParameters()\n",
    "\n",
    "pComm = 0.2\n",
    "pComms = [0.2]# np.linspace(0,.3,20)\n",
    "\n",
    "VERBOSE = False\n",
    "showViz = False\n",
    "\n",
    "reps = 4 # 10 #$40 #5\n",
    "\n",
    "aiScoresMeans = [100]#np.linspace(80,120,3)\n",
    "aiRanges = [0] # np.linspace(0,30,2)\n",
    "\n",
    "meetingTimes = steps #have one meeting at the end\n",
    "TEAM_MEETING_COST = 1\n",
    "\n",
    "\n",
    "scoreMatrix = np.zeros([len(aiRanges),len(aiScoresMeans)])\n",
    "\n",
    "exitFlag = 0\n",
    "\n",
    "allTeamObjects = []\n",
    "\n",
    "for pComm in pComms:   \n",
    "    if __name__ == '__main__':\n",
    "        pool = multiprocessing.Pool(processes = 4)\n",
    "        allTeams = pool.map(teamWorkProcess, range(reps))#[pool.apply_async(teamWorkProcess, (i,)) for i in range(reps)]\n",
    "        print('moving on')\n",
    "        for team in allTeams:\n",
    "            allTeamObjects.append(team)\n",
    "# allTeams = [t for tl in allTeamObjects for t in tl]\n",
    "print(\"time to complete: \"+str(timer.time()-t0))\n",
    "allTeams = allTeamObjects\n",
    "chaching()"
   ]
  },
  {
   "cell_type": "markdown",
   "metadata": {},
   "source": [
    "## Sharing: optimal rate is 0.22"
   ]
  },
  {
   "cell_type": "code",
   "execution_count": null,
   "metadata": {},
   "outputs": [],
   "source": [
    "t0 = timer.time()\n",
    "resetDefaultParameters()\n",
    "curatedTeams = False\n",
    "\n",
    "pComms = [0.2]# np.linspace(0,.3,20)\n",
    "\n",
    "steps = 50\n",
    "reps = 4 # 10 #$40 #5\n",
    "\n",
    "aiScoresMeans = [100]#np.linspace(80,120,3)\n",
    "aiRanges = [0] # np.linspace(0,30,2)\n",
    "\n",
    "meetingTimes = steps #have one meeting at the end\n",
    "\n",
    "allTeamObjects = []\n",
    "for pComm in pComms:   \n",
    "    if __name__ == '__main__':\n",
    "        pool = multiprocessing.Pool(processes = 4)\n",
    "        allTeams = pool.map(teamWorkProcess, range(reps))\n",
    "        print('moving on')\n",
    "        for team in allTeams:\n",
    "            allTeamObjects.append(team)\n",
    "# allTeams = [t for tl in allTeamObjects for t in tl]\n",
    "print(\"time to complete: \"+str(timer.time()-t0))\n",
    "allTeams = allTeamObjects\n",
    "chaching()"
   ]
  },
  {
   "cell_type": "code",
   "execution_count": 199,
   "metadata": {},
   "outputs": [
    {
     "data": {
      "text/plain": [
       "<matplotlib.collections.PathCollection at 0x1a1c72b160>"
      ]
     },
     "execution_count": 199,
     "metadata": {},
     "output_type": "execute_result"
    },
    {
     "data": {
      "image/png": "[encoded data removed]",
      "text/plain": [
       "<Figure size 432x288 with 1 Axes>"
      ]
     },
     "metadata": {
      "image/png": {
       "height": 250,
       "width": 390
      }
     },
     "output_type": "display_data"
    }
   ],
   "source": [
    "allScores = [t.getBestScore() for t in allTeamObjects]\n",
    "nShares = [t.nMeetings/nAgents for t in allTeamObjects]\n",
    "plt.scatter(nShares,allScores)"
   ]
  },
  {
   "cell_type": "code",
   "execution_count": null,
   "metadata": {},
   "outputs": [],
   "source": [
    "allScores = [t.getBestScore() for t in allTeamObjects]\n",
    "scoresForPComm = []\n",
    "for i in range(int(len(allScores)/4)):\n",
    "    theseScores = allScores[0+i*4:4+i*4]\n",
    "    scoresForPComm.append(np.mean(theseScores))\n",
    "plt.scatter(pComms,scoresForPComm)\n",
    "plt.title(\"avg score vs pComm\")\n",
    "plt.savefig(\"./figs/avgScore_Vs_pComm.pdf\")"
   ]
  },
  {
   "cell_type": "code",
   "execution_count": 270,
   "metadata": {},
   "outputs": [
    {
     "data": {
      "text/plain": [
       "[-2.039567859600141,\n",
       " -2.3723489379415725,\n",
       " -2.5074387728312346,\n",
       " -2.5356173009237106,\n",
       " -2.6708729308720294,\n",
       " -2.6598657473999867,\n",
       " -2.3124368793668864]"
      ]
     },
     "execution_count": 270,
     "metadata": {},
     "output_type": "execute_result"
    }
   ],
   "source": [
    "scoresForPComm"
   ]
  },
  {
   "cell_type": "code",
   "execution_count": 233,
   "metadata": {},
   "outputs": [
    {
     "data": {
      "text/plain": [
       "28"
      ]
     },
     "execution_count": 233,
     "metadata": {},
     "output_type": "execute_result"
    }
   ],
   "source": [
    "# bigTeamSet= bigTeamSet[0:20]\n",
    "# for t in allTeamObjects:\n",
    "#     bigTeamSet.append(t)\n",
    "# len(bigTeamSet)\n",
    "# bigTeamSet = [i for l in bigTeamSet for i in l]"
   ]
  },
  {
   "cell_type": "code",
   "execution_count": 236,
   "metadata": {},
   "outputs": [
    {
     "data": {
      "image/png": "[encoded data removed]",
      "text/plain": [
       "<Figure size 432x288 with 1 Axes>"
      ]
     },
     "metadata": {
      "image/png": {
       "height": 277,
       "width": 395
      }
     },
     "output_type": "display_data"
    }
   ],
   "source": [
    "x = np.array([t.nMeetings / 33 for t in bigTeamSet])\n",
    "yr = np.array([t.getBestScore() for t in bigTeamSet])\n",
    "# xcat = [round(i*2,-1)/2 for i in x]\n",
    "plt.scatter(x,yr)\n",
    "p = np.polyfit(x,yr,2)\n",
    "z = np.poly1d(p)\n",
    "x1 = np.linspace(0,max(x),100)\n",
    "plt.plot(x1,z(x1),color='red')\n",
    "plt.title('Performance vs Number of pair-meetings')\n",
    "plt.xlabel(\"avg n pair-shares per agent\")\n",
    "plt.ylabel(\"overall best score\")\n",
    "t = str(timer.time())\n",
    "np.savetxt(\"./savedParams/\"+t+\".txt\",[makeParamString()], fmt='%s')\n",
    "plt.savefig(\"./figs/pairwiseSharing_noReset_\"+t+\".pdf\")"
   ]
  },
  {
   "cell_type": "code",
   "execution_count": 393,
   "metadata": {},
   "outputs": [
    {
     "name": "stdout",
     "output_type": "stream",
     "text": [
      "best n shares per agent:\n",
      "mean:43.4431558731124\n",
      "std: 9.50356733199722\n"
     ]
    }
   ],
   "source": [
    "#bootstrapping for mean and sd of minimum point\n",
    "bestNshares = []\n",
    "\n",
    "allInd = range(len(bigTeamSet))\n",
    "for i in range(1000):\n",
    "    ind = np.random.choice(allInd,14)\n",
    "    teams = [bigTeamSet[j] for j in ind]\n",
    "    x = [t.nMeetings/33 for t in teams]\n",
    "    y = [t.getBestScore() for t in teams]\n",
    "    x1 = np.linspace(min(x),max(x),300)\n",
    "    p = np.polyfit(x,y,2)\n",
    "    z = np.poly1d(p)\n",
    "    predicted = z(x1)\n",
    "    bestNshares.append(x1[np.argmin(predicted)])\n",
    "    \n",
    "print(\"best n shares per agent:\")\n",
    "print(\"mean:\" +str(np.mean(bestNshares)))\n",
    "print(\"std: \"+str(np.std(bestNshares)))"
   ]
  },
  {
   "cell_type": "markdown",
   "metadata": {},
   "source": [
    "## Sharing: when is the exact time that sharing is best?"
   ]
  },
  {
   "cell_type": "code",
   "execution_count": null,
   "metadata": {},
   "outputs": [],
   "source": [
    "t0 = timer.time()\n",
    "resetDefaultParameters()\n",
    "curatedTeams = False\n",
    "\n",
    "# pComms = [0.2]# np.linspace(0,.3,20)\n",
    "pComm = 0.2\n",
    "\n",
    "steps = 500#500\n",
    "reps = 16 #16\n",
    "\n",
    "aiScore = 100\n",
    "aiRange = 0\n",
    "# meetingTimes = steps #have one meeting at the end\n",
    "\n",
    "teamsCommTiming = []\n",
    "nTimeDivisions = 10\n",
    "\n",
    "for i in range(nTimeDivisions):\n",
    "    pCommTime = np.zeros(nTimeDivisions)\n",
    "    pCommTime[i] = 1\n",
    "    allTeamObjects = []\n",
    "    if __name__ == '__main__':\n",
    "        pool = multiprocessing.Pool(processes = 4)\n",
    "        allTeams = pool.map(teamWorkProcess, range(reps))\n",
    "        for team in allTeams:\n",
    "            allTeamObjects.append(team)\n",
    "    teamsCommTiming.append(allTeamObjects)\n",
    "chaching()\n",
    "print(\"time to complete: \"+str(timer.time()-t0))"
   ]
  },
  {
   "cell_type": "code",
   "execution_count": 702,
   "metadata": {},
   "outputs": [],
   "source": [
    "# teamsCommTiming1and2 = cp(allTeamsCommTiming)\n",
    "times2 = []\n",
    "for i in range(nTimeDivisions):\n",
    "    for j in range(24):\n",
    "        times2.append(i)"
   ]
  },
  {
   "cell_type": "code",
   "execution_count": 700,
   "metadata": {},
   "outputs": [
    {
     "data": {
      "text/plain": [
       "(10, 24)"
      ]
     },
     "execution_count": 700,
     "metadata": {},
     "output_type": "execute_result"
    }
   ],
   "source": [
    "allTeamsCommTiming = []\n",
    "for row in range(nTimeDivisions):\n",
    "    allTeamsCommTiming.append(np.concatenate([teamsCommTiming[row],teamsCommTiming1and2[row]]))\n",
    "np.shape(allTeamsCommTiming)"
   ]
  },
  {
   "cell_type": "code",
   "execution_count": 703,
   "metadata": {},
   "outputs": [
    {
     "data": {
      "image/png": "[encoded data removed]",
      "text/plain": [
       "<Figure size 432x288 with 1 Axes>"
      ]
     },
     "metadata": {
      "image/png": {
       "height": 250,
       "width": 382
      }
     },
     "output_type": "display_data"
    }
   ],
   "source": [
    "scoresAtTiming = []\n",
    "scores1 = []\n",
    "times1=[]\n",
    "scoresAtTimes = []\n",
    "for i in range(nTimeDivisions):\n",
    "    theseTeams = allTeamsCommTiming[i]\n",
    "    scoresAtTiming.append(np.mean([t.getBestScore() for t in theseTeams]))\n",
    "    timeScores = []\n",
    "    for t in theseTeams:\n",
    "        scores1.append(t.getBestScore())\n",
    "        times1.append(np.argmax(t.shareHistory))\n",
    "        timeScores.append(t.getBestScore())\n",
    "    scoresAtTimes.append(timeScores)\n",
    "plt.scatter(np.array(times2)/10,scores1, c=[.8,.8,1])    \n",
    "#     t = teamsCommTiming[i][0]\n",
    "#     print(t.shareHistory)\n",
    "meanScores = plotCategoricalMeans(np.array(times2)/10,scores1)\n",
    "plt.plot(np.arange(10)/10,meanScores)\n",
    "plt.savefig(\"./timingOfSharing_vs_performance_24reps.pdf\")\n"
   ]
  },
  {
   "cell_type": "code",
   "execution_count": 908,
   "metadata": {},
   "outputs": [],
   "source": [
    "t = allTeamsCommTiming[0][0]\n",
    "GOOD_SOLN = t.getBestSolution()\n"
   ]
  },
  {
   "cell_type": "code",
   "execution_count": 699,
   "metadata": {},
   "outputs": [
    {
     "name": "stdout",
     "output_type": "stream",
     "text": [
      "significance: p= 0.6721980600680151\n"
     ]
    }
   ],
   "source": [
    "stat, p = scipy.stats.ttest_ind(scoresAtTimes[2],scoresAtTimes[8])\n",
    "print(\"significance: p= \"+str(p))\n",
    "#anova test"
   ]
  },
  {
   "cell_type": "markdown",
   "metadata": {},
   "source": [
    "## Simple Sharing: does it change outcome? no"
   ]
  },
  {
   "cell_type": "markdown",
   "metadata": {},
   "source": [
    "## timing of team meetings"
   ]
  },
  {
   "cell_type": "code",
   "execution_count": 845,
   "metadata": {},
   "outputs": [
    {
     "name": "stdout",
     "output_type": "stream",
     "text": [
      "time to complete: 120.49429607391357\n"
     ]
    },
    {
     "name": "stderr",
     "output_type": "stream",
     "text": [
      "Process ForkPoolWorker-1187:\n",
      "Process ForkPoolWorker-1188:\n",
      "Process ForkPoolWorker-1186:\n",
      "Process ForkPoolWorker-1184:\n",
      "Process ForkPoolWorker-1190:\n",
      "Process ForkPoolWorker-1195:\n",
      "Process ForkPoolWorker-1191:\n",
      "Process ForkPoolWorker-1194:\n",
      "Process ForkPoolWorker-1189:\n",
      "Process ForkPoolWorker-1193:\n",
      "Process ForkPoolWorker-1183:\n",
      "Process ForkPoolWorker-1185:\n",
      "Process ForkPoolWorker-1192:\n",
      "Process ForkPoolWorker-1180:\n",
      "Process ForkPoolWorker-1182:\n",
      "Process ForkPoolWorker-1181:\n",
      "Traceback (most recent call last):\n",
      "Traceback (most recent call last):\n",
      "Traceback (most recent call last):\n",
      "Traceback (most recent call last):\n",
      "Traceback (most recent call last):\n",
      "Traceback (most recent call last):\n",
      "Traceback (most recent call last):\n",
      "Traceback (most recent call last):\n",
      "Traceback (most recent call last):\n",
      "Traceback (most recent call last):\n",
      "Traceback (most recent call last):\n",
      "Traceback (most recent call last):\n",
      "Traceback (most recent call last):\n",
      "Traceback (most recent call last):\n",
      "Traceback (most recent call last):\n",
      "Traceback (most recent call last):\n",
      "  File \"/anaconda3/lib/python3.6/multiprocessing/process.py\", line 258, in _bootstrap\n",
      "    self.run()\n",
      "  File \"/anaconda3/lib/python3.6/multiprocessing/process.py\", line 258, in _bootstrap\n",
      "    self.run()\n",
      "  File \"/anaconda3/lib/python3.6/multiprocessing/process.py\", line 258, in _bootstrap\n",
      "    self.run()\n",
      "  File \"/anaconda3/lib/python3.6/multiprocessing/process.py\", line 258, in _bootstrap\n",
      "    self.run()\n",
      "  File \"/anaconda3/lib/python3.6/multiprocessing/process.py\", line 258, in _bootstrap\n",
      "    self.run()\n",
      "  File \"/anaconda3/lib/python3.6/multiprocessing/process.py\", line 258, in _bootstrap\n",
      "    self.run()\n",
      "  File \"/anaconda3/lib/python3.6/multiprocessing/process.py\", line 258, in _bootstrap\n",
      "    self.run()\n",
      "  File \"/anaconda3/lib/python3.6/multiprocessing/process.py\", line 258, in _bootstrap\n",
      "    self.run()\n",
      "  File \"/anaconda3/lib/python3.6/multiprocessing/process.py\", line 258, in _bootstrap\n",
      "    self.run()\n",
      "  File \"/anaconda3/lib/python3.6/multiprocessing/process.py\", line 258, in _bootstrap\n",
      "    self.run()\n",
      "  File \"/anaconda3/lib/python3.6/multiprocessing/process.py\", line 258, in _bootstrap\n",
      "    self.run()\n",
      "  File \"/anaconda3/lib/python3.6/multiprocessing/process.py\", line 258, in _bootstrap\n",
      "    self.run()\n",
      "  File \"/anaconda3/lib/python3.6/multiprocessing/process.py\", line 258, in _bootstrap\n",
      "    self.run()\n",
      "  File \"/anaconda3/lib/python3.6/multiprocessing/process.py\", line 258, in _bootstrap\n",
      "    self.run()\n",
      "  File \"/anaconda3/lib/python3.6/multiprocessing/process.py\", line 258, in _bootstrap\n",
      "    self.run()\n",
      "  File \"/anaconda3/lib/python3.6/multiprocessing/process.py\", line 93, in run\n",
      "    self._target(*self._args, **self._kwargs)\n",
      "  File \"/anaconda3/lib/python3.6/multiprocessing/process.py\", line 93, in run\n",
      "    self._target(*self._args, **self._kwargs)\n",
      "  File \"/anaconda3/lib/python3.6/multiprocessing/process.py\", line 93, in run\n",
      "    self._target(*self._args, **self._kwargs)\n",
      "  File \"/anaconda3/lib/python3.6/multiprocessing/process.py\", line 93, in run\n",
      "    self._target(*self._args, **self._kwargs)\n",
      "  File \"/anaconda3/lib/python3.6/multiprocessing/process.py\", line 93, in run\n",
      "    self._target(*self._args, **self._kwargs)\n",
      "  File \"/anaconda3/lib/python3.6/multiprocessing/process.py\", line 258, in _bootstrap\n",
      "    self.run()\n",
      "  File \"/anaconda3/lib/python3.6/multiprocessing/process.py\", line 93, in run\n",
      "    self._target(*self._args, **self._kwargs)\n",
      "  File \"/anaconda3/lib/python3.6/multiprocessing/process.py\", line 93, in run\n",
      "    self._target(*self._args, **self._kwargs)\n",
      "  File \"/anaconda3/lib/python3.6/multiprocessing/process.py\", line 93, in run\n",
      "    self._target(*self._args, **self._kwargs)\n",
      "  File \"/anaconda3/lib/python3.6/multiprocessing/process.py\", line 93, in run\n",
      "    self._target(*self._args, **self._kwargs)\n",
      "  File \"/anaconda3/lib/python3.6/multiprocessing/process.py\", line 93, in run\n",
      "    self._target(*self._args, **self._kwargs)\n",
      "  File \"/anaconda3/lib/python3.6/multiprocessing/process.py\", line 93, in run\n",
      "    self._target(*self._args, **self._kwargs)\n",
      "  File \"/anaconda3/lib/python3.6/multiprocessing/process.py\", line 93, in run\n",
      "    self._target(*self._args, **self._kwargs)\n",
      "  File \"/anaconda3/lib/python3.6/multiprocessing/process.py\", line 93, in run\n",
      "    self._target(*self._args, **self._kwargs)\n",
      "  File \"/anaconda3/lib/python3.6/multiprocessing/process.py\", line 93, in run\n",
      "    self._target(*self._args, **self._kwargs)\n",
      "  File \"/anaconda3/lib/python3.6/multiprocessing/pool.py\", line 108, in worker\n",
      "    task = get()\n",
      "  File \"/anaconda3/lib/python3.6/multiprocessing/process.py\", line 93, in run\n",
      "    self._target(*self._args, **self._kwargs)\n",
      "  File \"/anaconda3/lib/python3.6/multiprocessing/pool.py\", line 108, in worker\n",
      "    task = get()\n",
      "  File \"/anaconda3/lib/python3.6/multiprocessing/process.py\", line 93, in run\n",
      "    self._target(*self._args, **self._kwargs)\n",
      "  File \"/anaconda3/lib/python3.6/multiprocessing/pool.py\", line 108, in worker\n",
      "    task = get()\n",
      "  File \"/anaconda3/lib/python3.6/multiprocessing/pool.py\", line 108, in worker\n",
      "    task = get()\n",
      "  File \"/anaconda3/lib/python3.6/multiprocessing/pool.py\", line 108, in worker\n",
      "    task = get()\n",
      "  File \"/anaconda3/lib/python3.6/multiprocessing/pool.py\", line 108, in worker\n",
      "    task = get()\n",
      "  File \"/anaconda3/lib/python3.6/multiprocessing/pool.py\", line 108, in worker\n",
      "    task = get()\n",
      "  File \"/anaconda3/lib/python3.6/multiprocessing/pool.py\", line 108, in worker\n",
      "    task = get()\n",
      "  File \"/anaconda3/lib/python3.6/multiprocessing/pool.py\", line 108, in worker\n",
      "    task = get()\n",
      "  File \"/anaconda3/lib/python3.6/multiprocessing/pool.py\", line 108, in worker\n",
      "    task = get()\n",
      "  File \"/anaconda3/lib/python3.6/multiprocessing/pool.py\", line 108, in worker\n",
      "    task = get()\n",
      "  File \"/anaconda3/lib/python3.6/multiprocessing/pool.py\", line 108, in worker\n",
      "    task = get()\n",
      "  File \"/anaconda3/lib/python3.6/multiprocessing/pool.py\", line 108, in worker\n",
      "    task = get()\n",
      "  File \"/anaconda3/lib/python3.6/multiprocessing/pool.py\", line 108, in worker\n",
      "    task = get()\n",
      "  File \"/anaconda3/lib/python3.6/multiprocessing/queues.py\", line 334, in get\n",
      "    with self._rlock:\n",
      "  File \"/anaconda3/lib/python3.6/multiprocessing/pool.py\", line 108, in worker\n",
      "    task = get()\n",
      "  File \"/anaconda3/lib/python3.6/multiprocessing/pool.py\", line 108, in worker\n",
      "    task = get()\n",
      "  File \"/anaconda3/lib/python3.6/multiprocessing/queues.py\", line 334, in get\n",
      "    with self._rlock:\n",
      "  File \"/anaconda3/lib/python3.6/multiprocessing/queues.py\", line 335, in get\n",
      "    res = self._reader.recv_bytes()\n",
      "  File \"/anaconda3/lib/python3.6/multiprocessing/queues.py\", line 334, in get\n",
      "    with self._rlock:\n",
      "  File \"/anaconda3/lib/python3.6/multiprocessing/queues.py\", line 334, in get\n",
      "    with self._rlock:\n",
      "  File \"/anaconda3/lib/python3.6/multiprocessing/queues.py\", line 334, in get\n",
      "    with self._rlock:\n",
      "  File \"/anaconda3/lib/python3.6/multiprocessing/queues.py\", line 334, in get\n",
      "    with self._rlock:\n",
      "  File \"/anaconda3/lib/python3.6/multiprocessing/queues.py\", line 334, in get\n",
      "    with self._rlock:\n",
      "  File \"/anaconda3/lib/python3.6/multiprocessing/queues.py\", line 334, in get\n",
      "    with self._rlock:\n",
      "  File \"/anaconda3/lib/python3.6/multiprocessing/queues.py\", line 334, in get\n",
      "    with self._rlock:\n",
      "  File \"/anaconda3/lib/python3.6/multiprocessing/queues.py\", line 334, in get\n",
      "    with self._rlock:\n",
      "  File \"/anaconda3/lib/python3.6/multiprocessing/queues.py\", line 334, in get\n",
      "    with self._rlock:\n",
      "  File \"/anaconda3/lib/python3.6/multiprocessing/synchronize.py\", line 96, in __enter__\n",
      "    return self._semlock.__enter__()\n",
      "  File \"/anaconda3/lib/python3.6/multiprocessing/queues.py\", line 334, in get\n",
      "    with self._rlock:\n",
      "  File \"/anaconda3/lib/python3.6/multiprocessing/queues.py\", line 335, in get\n",
      "    res = self._reader.recv_bytes()\n",
      "  File \"/anaconda3/lib/python3.6/multiprocessing/synchronize.py\", line 96, in __enter__\n",
      "    return self._semlock.__enter__()\n",
      "  File \"/anaconda3/lib/python3.6/multiprocessing/connection.py\", line 216, in recv_bytes\n",
      "    buf = self._recv_bytes(maxlength)\n",
      "  File \"/anaconda3/lib/python3.6/multiprocessing/queues.py\", line 335, in get\n",
      "    res = self._reader.recv_bytes()\n",
      "  File \"/anaconda3/lib/python3.6/multiprocessing/queues.py\", line 335, in get\n",
      "    res = self._reader.recv_bytes()\n",
      "  File \"/anaconda3/lib/python3.6/multiprocessing/synchronize.py\", line 96, in __enter__\n",
      "    return self._semlock.__enter__()\n",
      "  File \"/anaconda3/lib/python3.6/multiprocessing/synchronize.py\", line 96, in __enter__\n",
      "    return self._semlock.__enter__()\n",
      "  File \"/anaconda3/lib/python3.6/multiprocessing/synchronize.py\", line 96, in __enter__\n",
      "    return self._semlock.__enter__()\n",
      "  File \"/anaconda3/lib/python3.6/multiprocessing/synchronize.py\", line 96, in __enter__\n",
      "    return self._semlock.__enter__()\n",
      "  File \"/anaconda3/lib/python3.6/multiprocessing/synchronize.py\", line 96, in __enter__\n",
      "    return self._semlock.__enter__()\n",
      "  File \"/anaconda3/lib/python3.6/multiprocessing/synchronize.py\", line 96, in __enter__\n",
      "    return self._semlock.__enter__()\n",
      "  File \"/anaconda3/lib/python3.6/multiprocessing/synchronize.py\", line 96, in __enter__\n",
      "    return self._semlock.__enter__()\n",
      "  File \"/anaconda3/lib/python3.6/multiprocessing/connection.py\", line 216, in recv_bytes\n",
      "    buf = self._recv_bytes(maxlength)\n",
      "  File \"/anaconda3/lib/python3.6/multiprocessing/synchronize.py\", line 96, in __enter__\n",
      "    return self._semlock.__enter__()\n",
      "KeyboardInterrupt\n",
      "  File \"/anaconda3/lib/python3.6/multiprocessing/synchronize.py\", line 96, in __enter__\n",
      "    return self._semlock.__enter__()\n",
      "  File \"/anaconda3/lib/python3.6/multiprocessing/connection.py\", line 216, in recv_bytes\n",
      "    buf = self._recv_bytes(maxlength)\n",
      "  File \"/anaconda3/lib/python3.6/multiprocessing/connection.py\", line 216, in recv_bytes\n",
      "    buf = self._recv_bytes(maxlength)\n",
      "  File \"/anaconda3/lib/python3.6/multiprocessing/synchronize.py\", line 96, in __enter__\n",
      "    return self._semlock.__enter__()\n",
      "KeyboardInterrupt\n",
      "KeyboardInterrupt\n",
      "KeyboardInterrupt\n",
      "KeyboardInterrupt\n",
      "  File \"/anaconda3/lib/python3.6/multiprocessing/connection.py\", line 407, in _recv_bytes\n",
      "    buf = self._recv(4)\n",
      "KeyboardInterrupt\n",
      "KeyboardInterrupt\n",
      "KeyboardInterrupt\n",
      "  File \"/anaconda3/lib/python3.6/multiprocessing/connection.py\", line 407, in _recv_bytes\n",
      "    buf = self._recv(4)\n",
      "KeyboardInterrupt\n",
      "KeyboardInterrupt\n",
      "KeyboardInterrupt\n",
      "  File \"/anaconda3/lib/python3.6/multiprocessing/connection.py\", line 407, in _recv_bytes\n",
      "    buf = self._recv(4)\n",
      "  File \"/anaconda3/lib/python3.6/multiprocessing/connection.py\", line 407, in _recv_bytes\n",
      "    buf = self._recv(4)\n",
      "KeyboardInterrupt\n",
      "  File \"/anaconda3/lib/python3.6/multiprocessing/connection.py\", line 379, in _recv\n",
      "    chunk = read(handle, remaining)\n",
      "  File \"/anaconda3/lib/python3.6/multiprocessing/connection.py\", line 379, in _recv\n",
      "    chunk = read(handle, remaining)\n",
      "  File \"/anaconda3/lib/python3.6/multiprocessing/connection.py\", line 379, in _recv\n",
      "    chunk = read(handle, remaining)\n",
      "  File \"/anaconda3/lib/python3.6/multiprocessing/connection.py\", line 379, in _recv\n",
      "    chunk = read(handle, remaining)\n",
      "KeyboardInterrupt\n",
      "KeyboardInterrupt\n",
      "KeyboardInterrupt\n",
      "KeyboardInterrupt\n"
     ]
    }
   ],
   "source": [
    "t0 = timer.time()\n",
    "resetDefaultParameters()\n",
    "curatedTeams = False\n",
    "complexSharing = True\n",
    "\n",
    "pComm = 0.2\n",
    "steps = 500#500\n",
    "reps = 4 #16\n",
    "\n",
    "aiScore = 100\n",
    "aiRange = 0\n",
    "# meetingTimes = steps #have one meeting at the end\n",
    "\n",
    "teamsCommTiming = []\n",
    "nTimeDivisions = 10\n",
    "\n",
    "meetingTimes = 20\n",
    "\n",
    "sections = 4\n",
    "for i in range(sections):#(10):#nTimeDivisions):\n",
    "    pCommTime = np.ones(nTimeDivisions)\n",
    "#     pCommTime[i] = 1\n",
    "    startHavingMeetings = float(i)/sections\n",
    "    allTeamObjects = []\n",
    "    if __name__ == '__main__':\n",
    "        pool = multiprocessing.Pool(processes = 4)\n",
    "        allTeams = pool.map(teamWorkProcess, range(reps))\n",
    "        for team in allTeams:\n",
    "            allTeamObjects.append(team)\n",
    "    teamsCommTiming.append(allTeamObjects)\n",
    "chaching()\n",
    "print(\"time to complete: \"+str(timer.time()-t0))"
   ]
  },
  {
   "cell_type": "code",
   "execution_count": 850,
   "metadata": {},
   "outputs": [],
   "source": [
    "times3 = []\n",
    "for i in range(sections):\n",
    "    for j in range(reps):\n",
    "        times3.append(i)"
   ]
  },
  {
   "cell_type": "code",
   "execution_count": 860,
   "metadata": {},
   "outputs": [
    {
     "data": {
      "image/png": "[encoded data removed]",
      "text/plain": [
       "<Figure size 432x288 with 1 Axes>"
      ]
     },
     "metadata": {
      "image/png": {
       "height": 250,
       "width": 388
      }
     },
     "output_type": "display_data"
    }
   ],
   "source": [
    "scoresAtTiming = []\n",
    "scores1 = []\n",
    "times1=[]\n",
    "scoresAtTimes = []\n",
    "for i in range(sections):\n",
    "    theseTeams = teamsCommTiming[i]\n",
    "    scoresAtTiming.append(np.mean([t.getBestScore() for t in theseTeams]))\n",
    "    timeScores = []\n",
    "    for t in theseTeams:\n",
    "        scores1.append(t.getBestScore())\n",
    "        timeScores.append(t.getBestScore())\n",
    "    scoresAtTimes.append(timeScores)\n",
    "plt.scatter(np.array(times3)/sections,scores1, c=[.8,.8,1])    \n",
    "#     t = teamsCommTiming[i][0]\n",
    "#     print(t.shareHistory)\n",
    "meanScores = plotCategoricalMeans(np.array(times3)/sections,scores1)\n",
    "# plt.plot(times3,meanScores)\n",
    "# plt.savefig(\"./timingOfSharing_vs_performance_24reps.pdf\")\n",
    "# plt.title(\"Start having teem meetings later?\")"
   ]
  },
  {
   "cell_type": "markdown",
   "metadata": {},
   "source": [
    "analysis of variance"
   ]
  },
  {
   "cell_type": "markdown",
   "metadata": {},
   "source": [
    "## Curated teams have team composition mirroring superteam"
   ]
  },
  {
   "cell_type": "code",
   "execution_count": null,
   "metadata": {},
   "outputs": [],
   "source": []
  },
  {
   "cell_type": "code",
   "execution_count": 893,
   "metadata": {},
   "outputs": [
    {
     "name": "stdout",
     "output_type": "stream",
     "text": [
      "completed 1 of 1\n",
      "time to complete: 156.55819582939148\n"
     ]
    }
   ],
   "source": [
    "t0 = timer.time()\n",
    "resetDefaultParameters()\n",
    "curatedTeams = True\n",
    "\n",
    "pComm = 0.2\n",
    "aiScore = 100\n",
    "aiRanges = [0]# np.linspace(0,90,10)\n",
    "\n",
    "reps = 4 # 10 #$40 #5\n",
    "steps = 500\n",
    "testConvexity = []\n",
    "i = 0\n",
    "for aiRange in aiRanges:   \n",
    "    if __name__ == '__main__':\n",
    "        pool = multiprocessing.Pool(processes = 4)\n",
    "        allTeams = pool.map(teamWorkProcess, range(reps))\n",
    "        i+=1\n",
    "        print('completed %s of %s' % (i , len(aiRanges)))\n",
    "        for team in allTeams:\n",
    "            testConvexity.append(team)\n",
    "print(\"time to complete: \"+str(timer.time()-t0))\n",
    "chaching()"
   ]
  },
  {
   "cell_type": "code",
   "execution_count": 886,
   "metadata": {},
   "outputs": [
    {
     "data": {
      "text/plain": [
       "2.1159020464595883"
      ]
     },
     "execution_count": 886,
     "metadata": {},
     "output_type": "execute_result"
    }
   ],
   "source": [
    "#random solutions distance:\n",
    "s1 = startParams()\n",
    "s1n = asVector(s1)/scalingVector\n",
    "s2 = startParams()\n",
    "s2n = asVector(s2)/scalingVector\n",
    "norm(s1n-s2n)"
   ]
  },
  {
   "cell_type": "code",
   "execution_count": 901,
   "metadata": {},
   "outputs": [
    {
     "name": "stdout",
     "output_type": "stream",
     "text": [
      "-2.2265903820040576\n",
      "-2.402576959311419\n",
      "-2.234476180508415\n",
      "-2.384059832246231\n",
      "2.5638278010880637\n",
      "2.811557388030183\n",
      "2.3924582457330525\n"
     ]
    },
    {
     "data": {
      "text/plain": [
       "-2.402576959311419"
      ]
     },
     "execution_count": 901,
     "metadata": {},
     "output_type": "execute_result"
    }
   ],
   "source": [
    "s = []\n",
    "for t in testConvexity:\n",
    "    sol = t.getBestSolution()\n",
    "    s.append(sol.rNorm)\n",
    "    print(sol.score)\n",
    "for i in range(len(s)-1):\n",
    "    print(norm(s[i]-s[i+1])  )\n",
    "objective(asParameters(s[1]*scalingVector),weightsCustom)"
   ]
  },
  {
   "cell_type": "code",
   "execution_count": 916,
   "metadata": {},
   "outputs": [],
   "source": [
    "solns = [t.getBestSolution() for group in allTeamsCommTiming for t in group]"
   ]
  },
  {
   "cell_type": "code",
   "execution_count": 925,
   "metadata": {},
   "outputs": [
    {
     "name": "stdout",
     "output_type": "stream",
     "text": [
      "20.963519887595563\n",
      "2.384596865697219\n",
      "0.0\n"
     ]
    }
   ],
   "source": [
    "import itertools\n",
    "allPairs = list(itertools.combinations(solns, 2))\n",
    "distances = []\n",
    "for p in allPairs:\n",
    "    distances.append(norm(p[0].rNorm - p[1].rNorm))\n",
    "print(np.max(distances))\n",
    "print(np.median(distances))\n",
    "print(np.min(distances))"
   ]
  },
  {
   "cell_type": "code",
   "execution_count": 961,
   "metadata": {},
   "outputs": [
    {
     "data": {
      "text/plain": [
       "Text(0.5,1,'Ideal wing angle of attack for 10 random start points')"
      ]
     },
     "execution_count": 961,
     "metadata": {},
     "output_type": "execute_result"
    },
    {
     "data": {
      "image/png": "[encoded data removed]",
      "text/plain": [
       "<Figure size 432x288 with 1 Axes>"
      ]
     },
     "metadata": {
      "image/png": {
       "height": 263,
       "width": 382
      }
     },
     "output_type": "display_data"
    }
   ],
   "source": [
    "# p = startParams()\n",
    "angles = np.linspace(0,np.pi/4,100)\n",
    "for i in range(10):\n",
    "    p = startParams()\n",
    "    pv = asVector(p)\n",
    "    scores = []\n",
    "    for angle in angles:\n",
    "        pv[3] = angle\n",
    "        p1 = asParameters(pv)\n",
    "        scores.append(objective(p1,weightsCustom))\n",
    "    plt.scatter(angles, scores)\n",
    "plt.title(\"Ideal wing angle of attack for 10 random start points\")"
   ]
  },
  {
   "cell_type": "code",
   "execution_count": 1072,
   "metadata": {},
   "outputs": [
    {
     "data": {
      "image/png": "[encoded data removed]",
      "text/plain": [
       "<Figure size 432x288 with 1 Axes>"
      ]
     },
     "metadata": {
      "image/png": {
       "height": 250,
       "width": 388
      }
     },
     "output_type": "display_data"
    }
   ],
   "source": [
    "# p = startParams()\n",
    "# pressures = np.linspace(0.758,1.03,100)\n",
    "lia = np.linspace(0.05,.6,100)\n",
    "\n",
    "for i in range(10):\n",
    "    p = startParams()\n",
    "    pv = asVector(p)\n",
    "    scores = []\n",
    "    for t in lia:\n",
    "        pv[37] = t\n",
    "        p1 = asParameters(pv)\n",
    "        scores.append(objective(p1,weightsCustom))\n",
    "    plt.scatter(pressures, scores)\n"
   ]
  },
  {
   "cell_type": "code",
   "execution_count": 1109,
   "metadata": {},
   "outputs": [
    {
     "data": {
      "text/plain": [
       "[<matplotlib.lines.Line2D at 0x1a3cb83ba8>]"
      ]
     },
     "execution_count": 1109,
     "metadata": {},
     "output_type": "execute_result"
    },
    {
     "data": {
      "image/png": "[encoded data removed]",
      "text/plain": [
       "<Figure size 432x288 with 1 Axes>"
      ]
     },
     "metadata": {
      "image/png": {
       "height": 263,
       "width": 388
      }
     },
     "output_type": "display_data"
    }
   ],
   "source": [
    "scores = []\n",
    "distances = []\n",
    "goodPosition = GOOD_SOLN.rNorm\n",
    "for s in solns:\n",
    "    rNorm = s.rNorm\n",
    "    dist = np.linalg.norm(rNorm - goodPosition)\n",
    "    if dist>10:\n",
    "        continue\n",
    "    scores.append(s.score)\n",
    "    distances.append(dist)\n",
    "plt.scatter(distances,scores)\n",
    "plt.xlim([0,4])\n",
    "plt.title(\"score vs norm distance to best known solution\")\n",
    "lm = np.polyfit(distances, scores,1)\n",
    "lf = np.poly1d(lm)\n",
    "x = np.linspace(0,4,100)\n",
    "plt.plot(x,lf(x))"
   ]
  },
  {
   "cell_type": "markdown",
   "metadata": {},
   "source": [
    "### Question: how many solution clusters are there? (local minima)"
   ]
  },
  {
   "cell_type": "code",
   "execution_count": 1103,
   "metadata": {},
   "outputs": [
    {
     "data": {
      "text/plain": [
       "Text(0.5,1,'avg dist to cluster center vs n clusters')"
      ]
     },
     "execution_count": 1103,
     "metadata": {},
     "output_type": "execute_result"
    },
    {
     "data": {
      "image/png": "[encoded data removed]",
      "text/plain": [
       "<Figure size 432x288 with 1 Axes>"
      ]
     },
     "metadata": {
      "image/png": {
       "height": 263,
       "width": 377
      }
     },
     "output_type": "display_data"
    }
   ],
   "source": [
    "from sklearn.cluster import KMeans\n",
    "solnRs = [s.rNorm for s in solns]\n",
    "# kDistances = []\n",
    "\n",
    "# for k in range (1,50):\n",
    "#     # Create a kmeans model on our data, using k clusters.  random_state helps ensure that the algorithm returns the same results each time.\n",
    "#     kmeans_model = KMeans(n_clusters=k, random_state=1).fit(reducedSolns)\n",
    "\n",
    "#     # These are our fitted labels for clusters -- the first cluster has label 0, and the second has label 1.\n",
    "#     labels = kmeans_model.labels_\n",
    "#     # Sum of distances of samples to their closest cluster center\n",
    "#     kDistances.append( kmeans_model.inertia_)\n",
    "# print(np.argmin(kDistances))\n",
    "plt.plot(range(1,50),kDistances)\n",
    "plt.title('avg dist to cluster center vs n clusters')"
   ]
  },
  {
   "cell_type": "code",
   "execution_count": 1094,
   "metadata": {},
   "outputs": [
    {
     "data": {
      "image/png": "[encoded data removed]",
      "text/plain": [
       "<Figure size 432x288 with 1 Axes>"
      ]
     },
     "metadata": {
      "image/png": {
       "height": 263,
       "width": 373
      }
     },
     "output_type": "display_data"
    },
    {
     "data": {
      "image/png": "[encoded data removed]",
      "text/plain": [
       "<Figure size 432x288 with 1 Axes>"
      ]
     },
     "metadata": {
      "image/png": {
       "height": 250,
       "width": 382
      }
     },
     "output_type": "display_data"
    },
    {
     "data": {
      "image/png": "[encoded data removed]",
      "text/plain": [
       "<Figure size 432x288 with 1 Axes>"
      ]
     },
     "metadata": {
      "image/png": {
       "height": 250,
       "width": 388
      }
     },
     "output_type": "display_data"
    },
    {
     "data": {
      "image/png": "[encoded data removed]",
      "text/plain": [
       "<Figure size 432x288 with 1 Axes>"
      ]
     },
     "metadata": {
      "image/png": {
       "height": 250,
       "width": 388
      }
     },
     "output_type": "display_data"
    }
   ],
   "source": [
    "from sklearn.decomposition import PCA\n",
    "\n",
    "pca = PCA(n_components=2)\n",
    "reduced = pca.fit_transform(solnRs)\n",
    "# print(np.argmax(abs(pca.components_[0])))\n",
    "# print(np.max(abs(pca.components_[0])))\n",
    "\n",
    "\n",
    "#now we remove the one weird group related to engine torque. Then continue. \n",
    "\n",
    "# np.shape(reduced)\n",
    "# plt.scatter(reduced[:,0],reduced[:,1])\n",
    "group1 = [i for i in range(len(reduced)) if reduced[i,0]<=10]\n",
    "group2 = [i for i in range(len(reduced)) if reduced[i,0]>10]\n",
    "reducedSolns = [solnRs[i] for i in group1]\n",
    "\n",
    "for nC in range(1,25):\n",
    "    pca2 = PCA(n_components=nC)\n",
    "    reduced2 = pca2.fit_transform(reducedSolns)\n",
    "    plt.scatter(nC, sum(pca2.explained_variance_ratio_),c='b')\n",
    "plt.title('n components vs variance explained')\n",
    "plt.show()\n",
    "# for c in pca2.components_:\n",
    "#     print(np.argmax(c))\n",
    "#     print(max(c))\n",
    "    \n",
    "plt.scatter(reduced2[:,0],reduced2[:,1])\n",
    "plt.show()\n",
    "plt.scatter(reduced2[:,1],reduced2[:,2])\n",
    "plt.show()\n",
    "plt.scatter(reduced2[:,0],reduced2[:,2])\n",
    "plt.show()\n",
    "\n",
    "# print(solnRs[3])\n",
    "# print(solnRs[4])\n",
    "# print(solnRs[11])"
   ]
  },
  {
   "cell_type": "code",
   "execution_count": 1016,
   "metadata": {},
   "outputs": [
    {
     "data": {
      "text/plain": [
       "'T_e'"
      ]
     },
     "execution_count": 1016,
     "metadata": {},
     "output_type": "execute_result"
    }
   ],
   "source": [
    "paramsDF.variable[28]"
   ]
  },
  {
   "cell_type": "code",
   "execution_count": 1018,
   "metadata": {},
   "outputs": [
    {
     "name": "stdout",
     "output_type": "stream",
     "text": [
      "20.67527758894176\n",
      "20.67527758894176\n",
      "0.4894629503738953\n",
      "0.5982324949014275\n"
     ]
    }
   ],
   "source": [
    "print(solnRs[15][28])\n",
    "print(solnRs[0][28])\n",
    "print(solnRs[11][28])\n",
    "print(solnRs[4][28])\n"
   ]
  },
  {
   "cell_type": "code",
   "execution_count": null,
   "metadata": {},
   "outputs": [],
   "source": [
    "t0 = timer.time()\n",
    "resetDefaultParameters()\n",
    "curatedTeams = True\n",
    "\n",
    "pComms = [0.2]#np.linspace(0,.3,10)\n",
    "aiScore = 100\n",
    "aiRanges = np.linspace(0,90,10)\n",
    "\n",
    "reps = 4 # 10 #$40 #5\n",
    "steps = 100\n",
    "allTeamObjects_curatedTeams = []\n",
    "i = 0\n",
    "for aiRange in aiRanges:   \n",
    "    if __name__ == '__main__':\n",
    "        pool = multiprocessing.Pool(processes = 4)\n",
    "        allTeams = pool.map(teamWorkProcess, range(reps))\n",
    "        i+=1\n",
    "        print('completed %s of %s' % (i , len(aiRanges)))\n",
    "        for team in allTeams:\n",
    "            allTeamObjects_curatedTeams.append(team)\n",
    "print(\"time to complete: \"+str(timer.time()-t0))\n",
    "chaching()"
   ]
  },
  {
   "cell_type": "code",
   "execution_count": 229,
   "metadata": {},
   "outputs": [],
   "source": [
    "tMeans = []\n",
    "tSds = []\n",
    "tScores = [] \n",
    "tRanges = []\n",
    "tMeetings = []\n",
    "for t in allTeamObjects_curatedTeams:\n",
    "    kais = [a.kai.KAI for a in t.agents]\n",
    "    tMeans.append(np.mean(kais))\n",
    "    tRanges.append(np.max(kais)-np.min(kais))\n",
    "    tSds.append(np.std(kais))\n",
    "    tScores.append(t.getBestScore())\n",
    "    tMeetings.append(t.nMeetings)"
   ]
  },
  {
   "cell_type": "code",
   "execution_count": 230,
   "metadata": {},
   "outputs": [
    {
     "name": "stdout",
     "output_type": "stream",
     "text": [
      "scores vs stdevs\n",
      "[ 0.00320807 -1.96407987]\n"
     ]
    },
    {
     "data": {
      "text/plain": [
       "[<matplotlib.lines.Line2D at 0x1a24024da0>]"
      ]
     },
     "execution_count": 230,
     "metadata": {},
     "output_type": "execute_result"
    },
    {
     "data": {
      "image/png": "[encoded data removed]",
      "text/plain": [
       "<Figure size 432x288 with 1 Axes>"
      ]
     },
     "metadata": {
      "image/png": {
       "height": 250,
       "width": 382
      }
     },
     "output_type": "display_data"
    }
   ],
   "source": [
    "plt.scatter(tRanges,tScores)\n",
    "p=np.polyfit(tRanges,tScores,1)\n",
    "print(\"scores vs stdevs\")\n",
    "print(p)\n",
    "f = np.poly1d(p)\n",
    "x = np.linspace(min(tRanges),max(tRanges),100)\n",
    "plt.plot(x,f(x))"
   ]
  },
  {
   "cell_type": "markdown",
   "metadata": {},
   "source": [
    "tMeans = []\n",
    "tSds = []\n",
    "tScores = [] \n",
    "tRanges = []\n",
    "tMeetings = []\n",
    "for t in allTeamObjects_curatedTeams:\n",
    "    kais = [a.kai.KAI for a in t.agents]\n",
    "    tMeans.append(np.mean(kais))\n",
    "    tRanges.append(np.max(kais)-np.min(kais))\n",
    "    tSds.append(np.std(kais))\n",
    "    tScores.append(t.getBestScore())\n",
    "    tMeetings.append(t.nMeetings)"
   ]
  },
  {
   "cell_type": "code",
   "execution_count": null,
   "metadata": {},
   "outputs": [],
   "source": [
    "t0 = timer.time()\n",
    "resetDefaultParameters()\n",
    "reps = 16 # 10 #$40 #5\n",
    "\n",
    "aiScoresMeans = [None]#np.linspace(80,120,3)\n",
    "aiRanges = [None] # np.linspace(0,30,2)\n",
    "\n",
    "meetingTimes = steps #have one meeting at the end\n",
    "\n",
    "allTeamObjects = []\n",
    "\n",
    "for aiScore in aiScoresMeans:\n",
    "    for aiRange in aiRanges:\n",
    "        if __name__ == '__main__':\n",
    "            pool = multiprocessing.Pool(processes = 4)\n",
    "            allTeams = pool.map(teamWorkProcess, range(reps))#[pool.apply_async(teamWorkProcess, (i,)) for i in range(reps)]\n",
    "            print('moving on')\n",
    "            for team in allTeams:\n",
    "                allTeamObjects.append(team)\n",
    "print(\"time to complete: \"+str(timer.time()-t0))\n",
    "allTeams = allTeamObjects\n",
    "chaching()"
   ]
  },
  {
   "cell_type": "code",
   "execution_count": null,
   "metadata": {},
   "outputs": [],
   "source": [
    "tMeans = []\n",
    "tSds = []\n",
    "tScores = [] \n",
    "tRanges = []\n",
    "tMeetings = []\n",
    "for t in allTeamObjects:\n",
    "    kais = [a.kai.KAI for a in t.agents]\n",
    "    tMeans.append(np.mean(kais))\n",
    "    tRanges.append(np.max(kais)-np.min(kais))\n",
    "    tSds.append(np.std(kais))\n",
    "    tScores.append(t.getBestScore())\n",
    "    tMeetings.append(t.nMeetings)"
   ]
  },
  {
   "cell_type": "code",
   "execution_count": null,
   "metadata": {},
   "outputs": [],
   "source": [
    "plt.scatter(tMeans,tScores)\n",
    "p=np.polyfit(tMeans,tScores,1)\n",
    "print(\"scores vs means\")\n",
    "print(p)\n",
    "f = np.poly1d(p)\n",
    "x = np.linspace(min(tMeans),max(tMeans),100)\n",
    "plt.plot(x,f(x))"
   ]
  },
  {
   "cell_type": "code",
   "execution_count": null,
   "metadata": {},
   "outputs": [],
   "source": [
    "plt.scatter(tSds,tScores)\n",
    "p=np.polyfit(tSds,tScores,1)\n",
    "print(\"scores vs stdevs\")\n",
    "print(p)\n",
    "f = np.poly1d(p)\n",
    "x = np.linspace(min(tSds),max(tSds),100)\n",
    "plt.plot(x,f(x))"
   ]
  },
  {
   "cell_type": "markdown",
   "metadata": {},
   "source": [
    "## Specific Make-up Teams"
   ]
  },
  {
   "cell_type": "code",
   "execution_count": 348,
   "metadata": {},
   "outputs": [
    {
     "name": "stdout",
     "output_type": "stream",
     "text": [
      "moving on\n",
      "moving on\n",
      "moving on\n",
      "moving on\n",
      "moving on\n",
      "moving on\n",
      "moving on\n",
      "moving on\n",
      "time to complete: 907.2802548408508\n"
     ]
    }
   ],
   "source": [
    "t0 = timer.time()\n",
    "resetDefaultParameters()\n",
    "\n",
    "reps = 4\n",
    "aiScoresMeans = [100]#np.linspace(80,120,3)\n",
    "aiRanges = np.linspace(0,100,8)\n",
    "\n",
    "allTeamObjects = []\n",
    "for aiScore in aiScoresMeans:\n",
    "    for aiRange in aiRanges:\n",
    "        if __name__ == '__main__':\n",
    "            pool = multiprocessing.Pool(processes = 4)\n",
    "            allTeams = pool.map(teamWorkProcess, range(reps))#[pool.apply_async(teamWorkProcess, (i,)) for i in range(reps)]\n",
    "            print('moving on')\n",
    "            for team in allTeams:\n",
    "                allTeamObjects.append(team)\n",
    "print(\"time to complete: \"+str(timer.time()-t0))\n",
    "chaching()"
   ]
  },
  {
   "cell_type": "code",
   "execution_count": 349,
   "metadata": {},
   "outputs": [],
   "source": [
    "def getBestScoreAtTime(team,t):\n",
    "    # t is fraction of time in simulation. this is approximate\n",
    "    scores = []\n",
    "    for a in team.agents:\n",
    "        ml = len(a.memory)\n",
    "        memorySubset = a.memory[0:int(ml*t)]\n",
    "        scores.append(np.min([m.score for m in memorySubset]))\n",
    "    return min(scores)"
   ]
  },
  {
   "cell_type": "code",
   "execution_count": 350,
   "metadata": {},
   "outputs": [],
   "source": [
    "# allTeamObjects1 = allTeamObjects\n",
    "# for t in allTeamObjects:\n",
    "#     allTeamObjects1.append(t)"
   ]
  },
  {
   "cell_type": "code",
   "execution_count": 394,
   "metadata": {},
   "outputs": [],
   "source": [
    "tMeans = []\n",
    "tSds = []\n",
    "tScores = [] \n",
    "tRanges = []\n",
    "tMeetings = []\n",
    "bestScoresAtFraction = []\n",
    "so = []\n",
    "rg = []\n",
    "e = []\n",
    "for t in allTeamObjects:\n",
    "    if t.getBestScore()>-2: continue\n",
    "    kais = [a.kai.KAI for a in t.agents]\n",
    "    tMeans.append(np.mean(kais))\n",
    "    tRanges.append(np.max(kais)-np.min(kais))\n",
    "    \n",
    "    tSds.append(np.std(kais))\n",
    "    tScores.append(t.getBestScore())\n",
    "    tMeetings.append(t.nMeetings)\n",
    "    bestScoresAtFraction.append(getBestScoreAtTime(t,.25))\n",
    "    \n",
    "    sos = [a.kai.SO for a in t.agents]\n",
    "    so.append(np.mean(sos))\n",
    "    \n",
    "    es = [a.kai.E for a in t.agents]\n",
    "    e.append(np.mean(es))\n",
    "    \n",
    "    rgs = [a.kai.RG for a in t.agents]\n",
    "    rg.append(np.mean(rgs))"
   ]
  },
  {
   "cell_type": "code",
   "execution_count": 405,
   "metadata": {},
   "outputs": [
    {
     "data": {
      "text/plain": [
       "<matplotlib.collections.PathCollection at 0x1a366e6358>"
      ]
     },
     "execution_count": 405,
     "metadata": {},
     "output_type": "execute_result"
    },
    {
     "data": {
      "image/png": "[encoded data removed]",
      "text/plain": [
       "<Figure size 432x288 with 1 Axes>"
      ]
     },
     "metadata": {
      "image/png": {
       "height": 250,
       "width": 382
      }
     },
     "output_type": "display_data"
    }
   ],
   "source": [
    "# any trends for subscores? not really\n",
    "plt.scatter(np.array(rg)/40,tScores)\n",
    "plt.scatter(np.array(e)/20,tScores)\n",
    "plt.scatter(np.array(so)/45,tScores)"
   ]
  },
  {
   "cell_type": "code",
   "execution_count": 357,
   "metadata": {},
   "outputs": [
    {
     "name": "stdout",
     "output_type": "stream",
     "text": [
      "scores vs means\n",
      "[-0.12731133 10.13473877]\n"
     ]
    },
    {
     "data": {
      "text/plain": [
       "[<matplotlib.lines.Line2D at 0x1a36805f98>]"
      ]
     },
     "execution_count": 357,
     "metadata": {},
     "output_type": "execute_result"
    },
    {
     "data": {
      "image/png": "[encoded data removed]",
      "text/plain": [
       "<Figure size 432x288 with 1 Axes>"
      ]
     },
     "metadata": {
      "image/png": {
       "height": 250,
       "width": 382
      }
     },
     "output_type": "display_data"
    }
   ],
   "source": [
    "plt.scatter(tMeans,tScores)\n",
    "p=np.polyfit(tMeans,tScores,1)\n",
    "print(\"scores vs means\")\n",
    "print(p)\n",
    "f = np.poly1d(p)\n",
    "x = np.linspace(min(tMeans),max(tMeans),100)\n",
    "plt.plot(x,f(x))"
   ]
  },
  {
   "cell_type": "code",
   "execution_count": 358,
   "metadata": {},
   "outputs": [
    {
     "name": "stdout",
     "output_type": "stream",
     "text": [
      "scores vs stdevs\n",
      "[ 1.50189989e-03 -2.60862366e+00]\n"
     ]
    },
    {
     "data": {
      "text/plain": [
       "[<matplotlib.lines.Line2D at 0x1a367c9eb8>]"
      ]
     },
     "execution_count": 358,
     "metadata": {},
     "output_type": "execute_result"
    },
    {
     "data": {
      "image/png": "[encoded data removed]",
      "text/plain": [
       "<Figure size 432x288 with 1 Axes>"
      ]
     },
     "metadata": {
      "image/png": {
       "height": 250,
       "width": 382
      }
     },
     "output_type": "display_data"
    }
   ],
   "source": [
    "plt.scatter(tRanges,tScores)\n",
    "p=np.polyfit(tRanges,tScores,1)\n",
    "print(\"scores vs stdevs\")\n",
    "print(p)\n",
    "f = np.poly1d(p)\n",
    "x = np.linspace(min(tRanges),max(tRanges),100)\n",
    "plt.plot(x,f(x))"
   ]
  },
  {
   "cell_type": "code",
   "execution_count": 360,
   "metadata": {},
   "outputs": [
    {
     "name": "stdout",
     "output_type": "stream",
     "text": [
      "scores vs stdevs\n",
      "[ 0.00758675 -2.37335727]\n"
     ]
    },
    {
     "data": {
      "text/plain": [
       "Text(0.5,0,'range of KAI on team')"
      ]
     },
     "execution_count": 360,
     "metadata": {},
     "output_type": "execute_result"
    },
    {
     "data": {
      "image/png": "[encoded data removed]",
      "text/plain": [
       "<Figure size 432x288 with 1 Axes>"
      ]
     },
     "metadata": {
      "image/png": {
       "height": 263,
       "width": 402
      }
     },
     "output_type": "display_data"
    }
   ],
   "source": [
    "plt.scatter(tRanges,bestScoresAtFraction)\n",
    "p=np.polyfit(tRanges,bestScoresAtFraction,1)\n",
    "print(\"scores vs stdevs\")\n",
    "print(p)\n",
    "f = np.poly1d(p)\n",
    "x = np.linspace(min(tRanges),max(tRanges),100)\n",
    "plt.plot(x,f(x))\n",
    "plt.ylabel(\"score\")\n",
    "plt.xlabel(\"range of KAI on team\")"
   ]
  },
  {
   "cell_type": "code",
   "execution_count": null,
   "metadata": {},
   "outputs": [],
   "source": [
    "diverseTeams= [ t for t in allTeamObjects if t.dAI > 0]\n",
    "uniformTeams = [ t for t in allTeamObjects if t.dAI == 0]\n",
    "colors = ['red' if t.dAI > 0 else 'blue' for t in allTeamObjects ]\n",
    "isDiverse = [True if t.dAI > 0 else False for t in allTeamObjects ]"
   ]
  },
  {
   "cell_type": "code",
   "execution_count": null,
   "metadata": {},
   "outputs": [],
   "source": [
    "avgDiverseScore = np.mean([t.getBestScore() for t in diverseTeams])\n",
    "avgUniformScore = np.mean([t.getBestScore() for t in uniformTeams])\n",
    "std1 = np.std([t.getBestScore() for t in diverseTeams])\n",
    "std2 = np.std([t.getBestScore() for t in uniformTeams])\n",
    "print(\"diverse score avg:\" + str(avgDiverseScore))\n",
    "print(\"uniform score avg: \" + str(avgUniformScore))\n",
    "print(\"stds:\" + str(std1) + \" and \"+str(std2))"
   ]
  },
  {
   "cell_type": "code",
   "execution_count": null,
   "metadata": {},
   "outputs": [],
   "source": [
    "diverseScores = [t.getBestScore() for t in diverseTeams]\n",
    "avgDiverseScore = np.mean(diverseScores)\n",
    "uniformScores = [t.getBestScore() for t in uniformTeams]\n",
    "avgUniformScore = np.mean(uniformScores)\n",
    "std1 = np.std([t.getBestScore() for t in diverseTeams])\n",
    "std2 = np.std([t.getBestScore() for t in uniformTeams])\n",
    "print(\"diverse score avg:\" + str(avgDiverseScore))\n",
    "print(\"uniform score avg: \" + str(avgUniformScore))\n",
    "print(\"stds:\" + str(std1) + \" and \"+str(std2))\n",
    "stat, p = scipy.stats.ttest_ind(diverseScores,uniformScores)\n",
    "print(\"significance: p= \"+str(p))"
   ]
  }
 ],
 "metadata": {
  "kernelspec": {
   "display_name": "Python 3",
   "language": "python",
   "name": "python3"
  },
  "language_info": {
   "codemirror_mode": {
    "name": "ipython",
    "version": 3
   },
   "file_extension": ".py",
   "mimetype": "text/x-python",
   "name": "python",
   "nbconvert_exporter": "python",
   "pygments_lexer": "ipython3",
   "version": "3.6.5"
  }
 },
 "nbformat": 4,
 "nbformat_minor": 2
}
