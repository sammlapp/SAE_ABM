{
 "cells": [
  {
   "cell_type": "code",
   "execution_count": 2,
   "metadata": {},
   "outputs": [],
   "source": [
    "import pandas as pd\n",
    "import numpy as np\n",
    "from matplotlib import pyplot as plt\n",
    "import copy\n",
    "def cp(x): #make a copy instead of reference\n",
    "    return copy.deepcopy(x)"
   ]
  },
  {
   "cell_type": "markdown",
   "metadata": {},
   "source": [
    "# Define SAE Problem\n",
    "as described in Zurita 2018, \"Design of Complex Engineered Systems Using Multi-Agent Coordination\""
   ]
  },
  {
   "cell_type": "code",
   "execution_count": 3,
   "metadata": {},
   "outputs": [],
   "source": [
    "#some variables are discrete, but still have numerical values. \n",
    " "
   ]
  },
  {
   "cell_type": "code",
   "execution_count": 7,
   "metadata": {},
   "outputs": [],
   "source": [
    "# ## Teams\n",
    "# Rear wing (rw) \n",
    "# Front wing (fw) \n",
    "# Side wings (sw) \n",
    "# Rear tires (rt) \n",
    "# Front tires (ft) \n",
    "# Engine (e) \n",
    "# Cabin (c)\n",
    "# Impact attenuator (ia) \n",
    "# Brake system (brk) \n",
    "# Rear suspension (rsp) \n",
    "# Front suspension (fsp)\n",
    "\n",
    "# ## Continuous parameters:\n",
    "# hrw, lrw, wrw, arw, xrw, yrw\n",
    "# hfw, lfw, wfw, afw, xfw, yfw \n",
    "# hsw, lsw, wsw, asw, xsw, ysw \n",
    "# Prt, xrt \n",
    "# Pft, xft \n",
    "# xe, ye\n",
    "# hc, lc, wc, tc, xc, yc\n",
    "# hia, lia, wia, xia, yia\n",
    "# xbrk, ybrk\n",
    "# xrsp, yrsp\n",
    "# xfsp, yfsp\n",
    "\n",
    "# ## Discrete parameters\n",
    "# qrw\n",
    "# qfw\n",
    "# qsw\n",
    "# rrt, mrt\n",
    "# rft, mft\n",
    "# Ue, le, he, Sigma_e, me\n",
    "# qc\n",
    "# qia, Eia\n",
    "# qbrk, lbrk, hbrk, wbrk, tbrk, rbrk\n",
    "# krsp, crsp, mrsp\n",
    "# kfsp, cfsp, msp"
   ]
  },
  {
   "cell_type": "code",
   "execution_count": 8,
   "metadata": {},
   "outputs": [
    {
     "data": {
      "text/html": [
       "<div>\n",
       "<style scoped>\n",
       "    .dataframe tbody tr th:only-of-type {\n",
       "        vertical-align: middle;\n",
       "    }\n",
       "\n",
       "    .dataframe tbody tr th {\n",
       "        vertical-align: top;\n",
       "    }\n",
       "\n",
       "    .dataframe thead th {\n",
       "        text-align: right;\n",
       "    }\n",
       "</style>\n",
       "<table border=\"1\" class=\"dataframe\">\n",
       "  <thead>\n",
       "    <tr style=\"text-align: right;\">\n",
       "      <th></th>\n",
       "      <th>Variable</th>\n",
       "      <th>Team</th>\n",
       "      <th>val</th>\n",
       "    </tr>\n",
       "  </thead>\n",
       "  <tbody>\n",
       "    <tr>\n",
       "      <th>0</th>\n",
       "      <td>hrw</td>\n",
       "      <td>rw</td>\n",
       "      <td>0.0</td>\n",
       "    </tr>\n",
       "    <tr>\n",
       "      <th>1</th>\n",
       "      <td>lrw</td>\n",
       "      <td>rw</td>\n",
       "      <td>0.0</td>\n",
       "    </tr>\n",
       "    <tr>\n",
       "      <th>2</th>\n",
       "      <td>wrw</td>\n",
       "      <td>rw</td>\n",
       "      <td>0.0</td>\n",
       "    </tr>\n",
       "    <tr>\n",
       "      <th>3</th>\n",
       "      <td>arw</td>\n",
       "      <td>rw</td>\n",
       "      <td>0.0</td>\n",
       "    </tr>\n",
       "    <tr>\n",
       "      <th>4</th>\n",
       "      <td>xrw</td>\n",
       "      <td>rw</td>\n",
       "      <td>0.0</td>\n",
       "    </tr>\n",
       "  </tbody>\n",
       "</table>\n",
       "</div>"
      ],
      "text/plain": [
       "  Variable Team  val\n",
       "0      hrw   rw  0.0\n",
       "1      lrw   rw  0.0\n",
       "2      wrw   rw  0.0\n",
       "3      arw   rw  0.0\n",
       "4      xrw   rw  0.0"
      ]
     },
     "execution_count": 8,
     "metadata": {},
     "output_type": "execute_result"
    }
   ],
   "source": [
    "allVars = pd.read_csv(\"/Users/samlapp/Documents/THRED Lab/SAE/varsTeams.csv\")\n",
    "allVars[\"val\"] = np.zeros(len(allVars))\n",
    "allVars.head()\n",
    "for i, row in allVars.iterrows():\n",
    "    row.Variable = row.Variable.strip()\n",
    "    row.Team = row.Team.strip()\n",
    "    allVars.loc[i] = row\n",
    "allVars.head()"
   ]
  },
  {
   "cell_type": "code",
   "execution_count": 9,
   "metadata": {},
   "outputs": [
    {
     "name": "stdout",
     "output_type": "stream",
     "text": [
      "68\n"
     ]
    },
    {
     "data": {
      "text/plain": [
       "68"
      ]
     },
     "execution_count": 9,
     "metadata": {},
     "output_type": "execute_result"
    }
   ],
   "source": [
    "print(len(np.unique(allVars.Variable)))\n",
    "len(allVars.Variable)"
   ]
  },
  {
   "cell_type": "code",
   "execution_count": 10,
   "metadata": {},
   "outputs": [
    {
     "ename": "NameError",
     "evalue": "name 'teams_vars' is not defined",
     "output_type": "error",
     "traceback": [
      "\u001b[0;31m---------------------------------------------------------------------------\u001b[0m",
      "\u001b[0;31mNameError\u001b[0m                                 Traceback (most recent call last)",
      "\u001b[0;32m<ipython-input-10-a7ea49fcf093>\u001b[0m in \u001b[0;36m<module>\u001b[0;34m()\u001b[0m\n\u001b[1;32m      1\u001b[0m \u001b[0mteamsVarsDb\u001b[0m \u001b[0;34m=\u001b[0m \u001b[0mpd\u001b[0m\u001b[0;34m.\u001b[0m\u001b[0mDataFrame\u001b[0m\u001b[0;34m(\u001b[0m\u001b[0mcolumns\u001b[0m\u001b[0;34m=\u001b[0m\u001b[0;34m[\u001b[0m\u001b[0;34m'team'\u001b[0m\u001b[0;34m,\u001b[0m\u001b[0;34m'cont'\u001b[0m\u001b[0;34m,\u001b[0m\u001b[0;34m'disc'\u001b[0m\u001b[0;34m]\u001b[0m\u001b[0;34m)\u001b[0m\u001b[0;34m\u001b[0m\u001b[0m\n\u001b[0;32m----> 2\u001b[0;31m \u001b[0;32mfor\u001b[0m \u001b[0mi\u001b[0m\u001b[0;34m,\u001b[0m\u001b[0mr\u001b[0m \u001b[0;32min\u001b[0m \u001b[0mteams_vars\u001b[0m\u001b[0;34m.\u001b[0m\u001b[0miterrows\u001b[0m\u001b[0;34m(\u001b[0m\u001b[0;34m)\u001b[0m\u001b[0;34m:\u001b[0m\u001b[0;34m\u001b[0m\u001b[0m\n\u001b[0m\u001b[1;32m      3\u001b[0m     \u001b[0mnewRow\u001b[0m \u001b[0;34m=\u001b[0m \u001b[0;34m[\u001b[0m\u001b[0mr\u001b[0m\u001b[0;34m.\u001b[0m\u001b[0mTeams\u001b[0m\u001b[0;34m,\u001b[0m \u001b[0mr\u001b[0m\u001b[0;34m.\u001b[0m\u001b[0mContinuous\u001b[0m\u001b[0;34m.\u001b[0m\u001b[0msplit\u001b[0m\u001b[0;34m(\u001b[0m\u001b[0;34m','\u001b[0m\u001b[0;34m)\u001b[0m\u001b[0;34m,\u001b[0m \u001b[0mr\u001b[0m\u001b[0;34m.\u001b[0m\u001b[0mDiscrete\u001b[0m\u001b[0;34m.\u001b[0m\u001b[0msplit\u001b[0m\u001b[0;34m(\u001b[0m\u001b[0;34m','\u001b[0m\u001b[0;34m)\u001b[0m\u001b[0;34m]\u001b[0m\u001b[0;34m\u001b[0m\u001b[0m\n\u001b[1;32m      4\u001b[0m     \u001b[0mteamsVarsDb\u001b[0m\u001b[0;34m.\u001b[0m\u001b[0mloc\u001b[0m\u001b[0;34m[\u001b[0m\u001b[0mlen\u001b[0m\u001b[0;34m(\u001b[0m\u001b[0mteamsVarsDb\u001b[0m\u001b[0;34m)\u001b[0m\u001b[0;34m]\u001b[0m \u001b[0;34m=\u001b[0m \u001b[0mnewRow\u001b[0m\u001b[0;34m\u001b[0m\u001b[0m\n\u001b[1;32m      5\u001b[0m \u001b[0;34m\u001b[0m\u001b[0m\n",
      "\u001b[0;31mNameError\u001b[0m: name 'teams_vars' is not defined"
     ]
    }
   ],
   "source": [
    "teamsVarsDb = pd.DataFrame(columns=['team','cont','disc'])\n",
    "for i,r in teams_vars.iterrows():\n",
    "    newRow = [r.Teams, r.Continuous.split(','), r.Discrete.split(',')]  \n",
    "    teamsVarsDb.loc[len(teamsVarsDb)] = newRow  \n",
    "\n",
    "teamsVarsDb"
   ]
  },
  {
   "cell_type": "code",
   "execution_count": 11,
   "metadata": {},
   "outputs": [
    {
     "data": {
      "text/html": [
       "<div>\n",
       "<style scoped>\n",
       "    .dataframe tbody tr th:only-of-type {\n",
       "        vertical-align: middle;\n",
       "    }\n",
       "\n",
       "    .dataframe tbody tr th {\n",
       "        vertical-align: top;\n",
       "    }\n",
       "\n",
       "    .dataframe thead th {\n",
       "        text-align: right;\n",
       "    }\n",
       "</style>\n",
       "<table border=\"1\" class=\"dataframe\">\n",
       "  <thead>\n",
       "    <tr style=\"text-align: right;\">\n",
       "      <th></th>\n",
       "      <th>Variable</th>\n",
       "      <th>Team</th>\n",
       "      <th>val</th>\n",
       "    </tr>\n",
       "  </thead>\n",
       "  <tbody>\n",
       "    <tr>\n",
       "      <th>29</th>\n",
       "      <td>xe</td>\n",
       "      <td>e</td>\n",
       "      <td>0.0</td>\n",
       "    </tr>\n",
       "    <tr>\n",
       "      <th>30</th>\n",
       "      <td>ye</td>\n",
       "      <td>e</td>\n",
       "      <td>0.0</td>\n",
       "    </tr>\n",
       "    <tr>\n",
       "      <th>31</th>\n",
       "      <td>Sigma_e</td>\n",
       "      <td>e</td>\n",
       "      <td>0.0</td>\n",
       "    </tr>\n",
       "    <tr>\n",
       "      <th>32</th>\n",
       "      <td>le</td>\n",
       "      <td>e</td>\n",
       "      <td>0.0</td>\n",
       "    </tr>\n",
       "    <tr>\n",
       "      <th>33</th>\n",
       "      <td>he</td>\n",
       "      <td>e</td>\n",
       "      <td>0.0</td>\n",
       "    </tr>\n",
       "    <tr>\n",
       "      <th>34</th>\n",
       "      <td>T_e</td>\n",
       "      <td>e</td>\n",
       "      <td>0.0</td>\n",
       "    </tr>\n",
       "    <tr>\n",
       "      <th>35</th>\n",
       "      <td>me</td>\n",
       "      <td>e</td>\n",
       "      <td>0.0</td>\n",
       "    </tr>\n",
       "  </tbody>\n",
       "</table>\n",
       "</div>"
      ],
      "text/plain": [
       "   Variable Team  val\n",
       "29       xe    e  0.0\n",
       "30       ye    e  0.0\n",
       "31  Sigma_e    e  0.0\n",
       "32       le    e  0.0\n",
       "33       he    e  0.0\n",
       "34      T_e    e  0.0\n",
       "35       me    e  0.0"
      ]
     },
     "execution_count": 11,
     "metadata": {},
     "output_type": "execute_result"
    }
   ],
   "source": [
    "allVars[allVars[\"Team\"]=='e']"
   ]
  },
  {
   "cell_type": "code",
   "execution_count": 12,
   "metadata": {},
   "outputs": [],
   "source": [
    "allParams = []"
   ]
  },
  {
   "cell_type": "code",
   "execution_count": 13,
   "metadata": {},
   "outputs": [],
   "source": [
    "class Params:\n",
    "    def __init__(self,v = allVars):\n",
    "        self.vars = v.Variable\n",
    "        self.team = v.Team\n",
    "        for i, row in v.iterrows():\n",
    "            setattr(self, row.Variable.strip(),row.val)\n",
    "p = Params()\n",
    "for v in p.vars:\n",
    "    value = np.random.uniform()\n",
    "    setattr(p,v,value)"
   ]
  },
  {
   "cell_type": "markdown",
   "metadata": {},
   "source": [
    "## Subfunctions"
   ]
  },
  {
   "cell_type": "markdown",
   "metadata": {},
   "source": [
    "### constants\n",
    "\n",
    "The car’s top velocity vcar is 26.8 m/s (60 mph).\n",
    "\n",
    "The car’s engine speed x_e is 3600 rpm. \n",
    "\n",
    "The density of air q_air during the race is 1.225 kg/m3. \n",
    "\n",
    "The track radio of curvature r_track is 9 m. \n",
    "\n",
    "The pressure applied to the brakes Pbrk is 1x10^7 Pa\n"
   ]
  },
  {
   "cell_type": "code",
   "execution_count": 14,
   "metadata": {},
   "outputs": [],
   "source": [
    "v_car = 26.8 #m/s (60 mph)\n",
    "w_e = 3600 * 60 * 2 *np.pi #rpm  to radians/sec \n",
    "rho_air = 1.225 #kg/m3.\n",
    "r_track = 9 #m\n",
    "P_brk = 10**7 #Pascals\n",
    "C_dc = 0.04 #drag coefficient of cabin\n",
    "gravity = 9.81 #m/s^2"
   ]
  },
  {
   "cell_type": "code",
   "execution_count": 15,
   "metadata": {},
   "outputs": [
    {
     "data": {
      "text/plain": [
       "5.913897032303575"
      ]
     },
     "execution_count": 15,
     "metadata": {},
     "output_type": "execute_result"
    }
   ],
   "source": [
    "#mass (minimize)\n",
    "def mrw(p):\n",
    "    return p.lrw * p.wrw *p.hrw * p.qrw\n",
    "def mfw(p):\n",
    "    return p.lfw * p.wfw *p.hfw * p.qfw\n",
    "def msw(p):\n",
    "    return p.lsw * p.wsw *p.hsw * p.qsw\n",
    "def mia(p):\n",
    "    return p.lia * p.wia *p.hia * p.qia\n",
    "def mc(p):\n",
    "    return 2*(p.hc*p.lc*p.tc + p.hc*p.wc*p.tc + p.lc*p.hc*p.tc)*p.qc\n",
    "def mbrk(p):\n",
    "    #CHRIS missing parameters: how is mbrk calculated? assuming lrw*rho\n",
    "    return p.lbrk * p.wbrk * p.hbrk * p.qbrk\n",
    "def mass(p): #total mass, minimize\n",
    "    mass = mrw(p) + mfw(p) + 2 * msw(p) + 2*p.mrt + 2*p.mft + p.me + mc(p) + mia(p) + 4*mbrk(p) + 2*p.mrsp + 2*p.mfsp\n",
    "    return mass\n",
    "mass(p)"
   ]
  },
  {
   "cell_type": "code",
   "execution_count": 16,
   "metadata": {},
   "outputs": [],
   "source": [
    "#center of gravity height, minimize\n",
    "def cGy(p): \n",
    "    t1 =  (mrw(p)*p.yrw + p.me*p.ye + mc(p)*p.yc + mia(p)*p.yia) / mass(p)\n",
    "    t2 = 2* (msw(p)*p.ysw + p.mrt*p.rrt + p.mft*p.rft + mbrk(p)*p.rft + p.mrsp*p.yrsp + p.mfsp*p.yfsp) / mass(p)\n",
    "    \n",
    "    return t1 + t2  "
   ]
  },
  {
   "cell_type": "code",
   "execution_count": 17,
   "metadata": {},
   "outputs": [],
   "source": [
    "#Drag (minimize) and downforce (maximize)\n",
    "def AR(w,alpha,l): #aspect ratio of a wing\n",
    "    return w* np.cos(alpha) / l\n",
    "    \n",
    "def C_lift(AR,alpha): #lift coefficient of a wing\n",
    "    return 2*np.pi* (AR / (AR + 2)) * alpha\n",
    "\n",
    "def C_drag(C_lift, AR): #drag coefficient of wing\n",
    "    return C_lift**2 / (np.pi * AR)\n",
    "\n",
    "def F_down_wing(w,h,l,alpha,rho_air,v_car): #total downward force of wing\n",
    "    wingAR = AR(w,alpha,l)\n",
    "    C_l = C_lift(wingAR, alpha)\n",
    "    return 0.5 * alpha * h * w * rho_air * (v_car**2) * C_l\n",
    "\n",
    "def F_drag_wing(w,h,l,alpha,rho_air,v_car): #total drag force on a wing\n",
    "    wingAR = AR(w,alpha,l)\n",
    "    C_l = C_lift(wingAR, alpha)\n",
    "    C_d = C_drag(C_l,wingAR)\n",
    "    return F_drag(w,h,rho_air,v_car,C_d)\n",
    "    \n",
    "def F_drag(w,h,rho_air,v_car,C_d):\n",
    "    return 0.5*w*h*rho_air*v_car**2*C_d\n",
    "\n",
    "def F_drag_total(p): #total drag on vehicle\n",
    "    cabinDrag = F_drag(p.wc,p.hc,rho_air,v_car,C_dc)\n",
    "    rearWingDrag = F_drag_wing(p.wrw,p.hrw,p.lrw,p.arw,rho_air,v_car)\n",
    "    frontWingDrag = F_drag_wing(p.wfw,p.hfw,p.lfw,p.afw,rho_air,v_car)\n",
    "    sideWingDrag = F_drag_wing(p.wsw,p.hsw,p.lsw,p.asw,rho_air,v_car)\n",
    "    return rearWingDrag + frontWingDrag + 2* sideWingDrag + cabinDrag\n",
    "\n",
    "def F_down_total(p): #total downforce\n",
    "    downForceRearWing = F_down_wing(p.wrw,p.hrw,p.lrw,p.arw,rho_air,v_car)\n",
    "    downForceFrontWing = F_down_wing(p.wfw,p.hfw,p.lfw,p.afw,rho_air,v_car)\n",
    "    downForceSideWing = F_down_wing(p.wsw,p.hsw,p.lsw,p.asw,rho_air,v_car)\n",
    "    return downForceRearWing + downForceFrontWing + 2*downForceSideWing"
   ]
  },
  {
   "cell_type": "code",
   "execution_count": 18,
   "metadata": {},
   "outputs": [
    {
     "data": {
      "text/plain": [
       "7.8725429930096729"
      ]
     },
     "execution_count": 18,
     "metadata": {},
     "output_type": "execute_result"
    }
   ],
   "source": [
    "F_drag_total(p)\n",
    "F_down_total(p)"
   ]
  },
  {
   "cell_type": "code",
   "execution_count": 19,
   "metadata": {},
   "outputs": [],
   "source": [
    "#acceleration (maximize)\n",
    "def rollingResistance(tirePressure,v_car):\n",
    "    C = .005 + 1/tirePressure * (.01 + .0095 * (v_car**2))\n",
    "    return C * mass(p) * gravity\n",
    "\n",
    "def acceleration(p):\n",
    "    mTotal = mass(p)\n",
    "    tirePressure = p.Prt #CHRIS should it be front or rear tire pressure?\n",
    "    total_resistance = F_drag_total(p) + rollingResistance(tirePressure,v_car)\n",
    "    \n",
    "    w_wheels = v_car / p.rrt #rotational speed of rear tires\n",
    "    \n",
    "    efficiency = total_resistance * v_car / p.Sigma_e\n",
    "    \n",
    "    torque = p.T_e\n",
    "    \n",
    "    #converted units of w_e from rpm to rad/s !!!\n",
    "    F_wheels = torque * efficiency * w_e /(p.rrt * w_wheels) \n",
    "    \n",
    "    return (F_wheels - total_resistance) / mTotal\n",
    "# acceleration(p)"
   ]
  },
  {
   "cell_type": "code",
   "execution_count": 20,
   "metadata": {},
   "outputs": [],
   "source": [
    "#crash force (minimize)\n",
    "def crashForce(p):\n",
    "    return np.sqrt(mass(p) * v_car**2 * p.wia * p.hia * p.Eia / (2*p.lia))"
   ]
  },
  {
   "cell_type": "code",
   "execution_count": 21,
   "metadata": {},
   "outputs": [],
   "source": [
    "#impact attenuator volume (minimize)\n",
    "def iaVolume(p):\n",
    "    return p.lia*p.wia*p.hia"
   ]
  },
  {
   "cell_type": "code",
   "execution_count": 22,
   "metadata": {},
   "outputs": [],
   "source": [
    "#corner velocity (maximize)\n",
    "y_suspension = 0.05 # m\n",
    "dydt_suspension = 0.025 #m/s \n",
    "def suspensionForce(k,c):\n",
    "    return k*y_suspension + c*dydt_suspension\n",
    "\n",
    "def cornerVelocity(p):\n",
    "    F_fsp = suspensionForce(p.kfsp,p.cfsp)\n",
    "    F_rsp = suspensionForce(p.krsp,p.crsp)\n",
    "    downforce = F_down_total(p)\n",
    "    mTotal = mass(p)\n",
    "    \n",
    "    #CHRIS again, rear tire pressure?\n",
    "    C = rollingResistance(p.Prt,v_car)\n",
    "    forces = downforce+mTotal*gravity-2*F_fsp-2*F_rsp\n",
    "    \n",
    "    return np.sqrt( forces * C * r_track / mTotal )\n",
    "# cornerVelocity(p)"
   ]
  },
  {
   "cell_type": "code",
   "execution_count": 23,
   "metadata": {},
   "outputs": [],
   "source": [
    "#breaking distance (minimize)\n",
    "def breakingDistance(p):\n",
    "    mTotal = mass(p)\n",
    "    C = rollingResistance(p.Prt,v_car)\n",
    "    \n",
    "    #CHRIS need c_brk break friction coef, and A_brk (rectangle or circle?)\n",
    "    #breaking torque\n",
    "    A_brk = p.hbrk * p.wbrk\n",
    "    c_brk = .37 #?   most standard brake pads is usually in the range of 0.35 to 0.42\n",
    "    Tbrk = 2 * c_brk * P_brk * A_brk * p.rbrk\n",
    "    \n",
    "    #y forces:\n",
    "    F_fsp = suspensionForce(p.kfsp,p.cfsp)\n",
    "    F_rsp = suspensionForce(p.krsp,p.crsp)\n",
    "    Fy = mTotal*gravity + F_down_total(p) - 2 * F_rsp - 2*F_fsp\n",
    "    \n",
    "    #breaking accelleration\n",
    "    #CHRIS front and rear tire radius are same? (rrt and rft)\n",
    "    a_brk = Fy * C / mTotal + 4*Tbrk*C/(p.rrt*mTotal)\n",
    "    \n",
    "    #breaking distance\n",
    "    return v_car**2 / (2*a_brk)\n",
    "# breakingDistance(p)"
   ]
  },
  {
   "cell_type": "code",
   "execution_count": 24,
   "metadata": {},
   "outputs": [],
   "source": [
    "#suspension acceleration (minimize)\n",
    "def suspensionAcceleration(p):\n",
    "    Ffsp = suspensionForce(p.kfsp,p.cfsp)\n",
    "    Frsp = suspensionForce(p.krsp,p.crsp)\n",
    "    mTotal = mass(p)\n",
    "    Fd = F_down_total(p)\n",
    "    return (2*Ffsp - 2*Frsp - mTotal*gravity - Fd)/mTotal\n",
    "# suspensionAcceleration(p)"
   ]
  },
  {
   "cell_type": "code",
   "execution_count": 25,
   "metadata": {},
   "outputs": [
    {
     "data": {
      "text/plain": [
       "2.5162815229266955"
      ]
     },
     "execution_count": 25,
     "metadata": {},
     "output_type": "execute_result"
    }
   ],
   "source": [
    "#pitch moment (minimize)\n",
    "def pitchMoment(p):\n",
    "    Ffsp = suspensionForce(p.kfsp,p.cfsp)\n",
    "    Frsp = suspensionForce(p.krsp,p.crsp)\n",
    "    \n",
    "    downForceRearWing = F_down_wing(p.wrw,p.hrw,p.lrw,p.arw,rho_air,v_car)\n",
    "    downForceFrontWing = F_down_wing(p.wfw,p.hfw,p.lfw,p.afw,rho_air,v_car)\n",
    "    downForceSideWing = F_down_wing(p.wsw,p.hsw,p.lsw,p.asw,rho_air,v_car)\n",
    "    \n",
    "    #CHRIS assuming lcg is lc? and lf is ?\n",
    "    lcg = p.lc\n",
    "    lf = 0.5\n",
    "    return 2*Ffsp*lf + 2*Frsp*lf + downForceRearWing*(lcg - p.lrw) - downForceFrontWing*(lcg-p.lfw) - 2*downForceSideWing*(lcg-p.lsw)  \n",
    "pitchMoment(p)"
   ]
  },
  {
   "cell_type": "markdown",
   "metadata": {},
   "source": [
    "## Global Objective"
   ]
  },
  {
   "cell_type": "code",
   "execution_count": 26,
   "metadata": {},
   "outputs": [],
   "source": [
    "#Global objective: linear sum of objective subfunctions\n",
    "#sub-objectives to maximize will be mirrored *-1 to become minimizing\n",
    "\n",
    "subObjectives = [mass,cGy,F_drag_total,F_down_total,acceleration,crashForce,iaVolume,cornerVelocity,breakingDistance,suspensionAcceleration,pitchMoment]  \n",
    "alwaysMinimize = [1,1,1,-1,-1,1,1,-1,1,1,1] #1 for minimizing, -1 for maximizing\n",
    "weights = np.ones(len(subObjectives)) / len(subObjectives)\n",
    "weights1 = np.array([14,1,20,30,10,1,1,10,10,2,1])/100\n",
    "weights2 = np.array([25,1,15,20,15,1,1,15,5,1,1])/100\n",
    "weights3 = np.array([14,1,20,15,25,1,1,10,10,2,1])/100\n",
    "\n",
    "weightsCustom = np.array([14,1,20,30,11,1,1,10,10,2,0])/100 #pitch moment is zero bc incorrect eqn\n",
    "\n",
    "def objective(p,weights):\n",
    "    score = 0\n",
    "    for i in range(len(subObjectives)):\n",
    "        obj = subObjectives[i]\n",
    "        score += weights[i]*alwaysMinimize[i]*obj(p)\n",
    "    return score"
   ]
  },
  {
   "cell_type": "code",
   "execution_count": 27,
   "metadata": {},
   "outputs": [
    {
     "data": {
      "text/plain": [
       "-1147213900.2407844"
      ]
     },
     "execution_count": 27,
     "metadata": {},
     "output_type": "execute_result"
    }
   ],
   "source": [
    "objective(p,weightsCustom)"
   ]
  },
  {
   "cell_type": "code",
   "execution_count": null,
   "metadata": {},
   "outputs": [],
   "source": []
  }
 ],
 "metadata": {
  "kernelspec": {
   "display_name": "mesaKernel",
   "language": "python",
   "name": "mesakernel"
  },
  "language_info": {
   "codemirror_mode": {
    "name": "ipython",
    "version": 3
   },
   "file_extension": ".py",
   "mimetype": "text/x-python",
   "name": "python",
   "nbconvert_exporter": "python",
   "pygments_lexer": "ipython3",
   "version": "3.6.5"
  }
 },
 "nbformat": 4,
 "nbformat_minor": 2
}
