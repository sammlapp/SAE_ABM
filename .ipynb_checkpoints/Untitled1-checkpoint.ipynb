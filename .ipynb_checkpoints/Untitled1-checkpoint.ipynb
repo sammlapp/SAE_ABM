{
 "cells": [
  {
   "cell_type": "code",
   "execution_count": 8,
   "metadata": {},
   "outputs": [
    {
     "data": {
      "text/plain": [
       "[0.29415708498456683, 0.8034726379730048]"
      ]
     },
     "execution_count": 8,
     "metadata": {},
     "output_type": "execute_result"
    }
   ],
   "source": [
    "from multiprocessing import Pool\n",
    "import time\n",
    "import numpy as np\n",
    "\n",
    "def f(x):\n",
    "    np.random.seed()\n",
    "    return np.random.uniform()\n",
    "\n",
    "if __name__ == '__main__':\n",
    "    with Pool(processes=4) as pool:         # start 4 worker processes\n",
    "        a = pool.map(f, range(2))       # prints \"[0, 1, 4,..., 81]\"\n",
    "        pool.close()\n",
    "        pool.join()\n",
    "pool.terminate()\n",
    "a"
   ]
  },
  {
   "cell_type": "code",
   "execution_count": null,
   "metadata": {},
   "outputs": [],
   "source": []
  }
 ],
 "metadata": {
  "kernelspec": {
   "display_name": "Python 3",
   "language": "python",
   "name": "python3"
  },
  "language_info": {
   "codemirror_mode": {
    "name": "ipython",
    "version": 3
   },
   "file_extension": ".py",
   "mimetype": "text/x-python",
   "name": "python",
   "nbconvert_exporter": "python",
   "pygments_lexer": "ipython3",
   "version": "3.6.5"
  }
 },
 "nbformat": 4,
 "nbformat_minor": 2
}
