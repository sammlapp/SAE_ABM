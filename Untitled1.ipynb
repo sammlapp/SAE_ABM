{
 "cells": [
  {
   "cell_type": "code",
   "execution_count": 19,
   "metadata": {},
   "outputs": [
    {
     "data": {
      "text/plain": [
       "[0.43705560363356966,\n",
       " 0.09360923176229163,\n",
       " 0.42424120349816064,\n",
       " 0.7164186692128787]"
      ]
     },
     "execution_count": 19,
     "metadata": {},
     "output_type": "execute_result"
    }
   ],
   "source": [
    "from multiprocessing import Pool\n",
    "import time\n",
    "import numpy as np\n",
    "\n",
    "def f(x):\n",
    "    np.random.seed()\n",
    "    return np.random.uniform()\n",
    "\n",
    "a = []\n",
    "for i in range(2):\n",
    "    if __name__ == '__main__':\n",
    "        with Pool(processes=4) as pool:         # start 4 worker processes\n",
    "            a.append(pool.map(f, range(2)))       # prints \"[0, 1, 4,..., 81]\"\n",
    "    #         pool.close()\n",
    "    #         pool.join()\n",
    "    # pool.terminate()\n",
    "[i for l in a for i in l]"
   ]
  },
  {
   "cell_type": "code",
   "execution_count": null,
   "metadata": {},
   "outputs": [],
   "source": []
  }
 ],
 "metadata": {
  "kernelspec": {
   "display_name": "Python 3",
   "language": "python",
   "name": "python3"
  },
  "language_info": {
   "codemirror_mode": {
    "name": "ipython",
    "version": 3
   },
   "file_extension": ".py",
   "mimetype": "text/x-python",
   "name": "python",
   "nbconvert_exporter": "python",
   "pygments_lexer": "ipython3",
   "version": "3.6.5"
  }
 },
 "nbformat": 4,
 "nbformat_minor": 2
}
